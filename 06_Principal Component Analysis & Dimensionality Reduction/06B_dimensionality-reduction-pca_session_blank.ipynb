{
 "cells": [
  {
   "cell_type": "markdown",
   "metadata": {},
   "source": [
    "![](../src/logo.svg)\n",
    "\n",
    "**© Jesús López**\n",
    "\n",
    "Ask him any doubt on **[Twitter](https://twitter.com/jsulopz)** or **[LinkedIn](https://linkedin.com/in/jsulopz)**"
   ]
  },
  {
   "cell_type": "markdown",
   "metadata": {},
   "source": [
    "<a href=\"https://colab.research.google.com/github/jsulopz/resolving-machine-learning/blob/main/06_Principal%20Component%20Analysis%20%28PCA%29/06_dimensionality-reduction-pca_session_solution.ipynb\">\n",
    "  <img src=\"https://colab.research.google.com/assets/colab-badge.svg\" alt=\"Open In Colab\"/>\n",
    "</a>\n"
   ]
  },
  {
   "cell_type": "markdown",
   "metadata": {},
   "source": [
    "# 06 | Principal Component Analysis (PCA)"
   ]
  },
  {
   "cell_type": "markdown",
   "metadata": {},
   "source": [
    "## Chapter Importance"
   ]
  },
  {
   "cell_type": "markdown",
   "metadata": {},
   "source": [
    "We used just two variables out of the seven we had in the whole DataFrame.\n",
    "\n",
    "We could have computed better cluster models as we give more information to the Machine Learning model. Nevertheless, it would have been **harder to plot seven variables with seven axis in a graph**.\n",
    "\n",
    "Is there anything we can do compute a clustering model with more than two variables and later represent all the points along with their variables?\n",
    "\n",
    "- Yes, everything is possible with data. As one of my teachers told me: \"you can torture the data untill it gives you what you want\" (sometimes it's unethical, so behave).\n",
    "\n",
    "We'll develop the code to show you the need for **dimensionality reduction** techniques. Especifically, the Principal Component Analysis (PCA)."
   ]
  },
  {
   "cell_type": "markdown",
   "metadata": {},
   "source": [
    "## [ ] Load the Data"
   ]
  },
  {
   "cell_type": "markdown",
   "metadata": {},
   "source": [
    "Imagine for a second you are the president of the United States of America and you are considering to create campaigns to reduce **car accidents**.\n",
    "\n",
    "You won't create 51 different TV campaigns for each one of the **States of USA** (rows). Instead, you will see which States behave in a similar manner to cluster them into 3 groups, based on the variation accross their features (columns)."
   ]
  },
  {
   "cell_type": "code",
   "execution_count": 1,
   "metadata": {},
   "outputs": [
    {
     "data": {
      "text/html": [
       "<div>\n",
       "<style scoped>\n",
       "    .dataframe tbody tr th:only-of-type {\n",
       "        vertical-align: middle;\n",
       "    }\n",
       "\n",
       "    .dataframe tbody tr th {\n",
       "        vertical-align: top;\n",
       "    }\n",
       "\n",
       "    .dataframe thead th {\n",
       "        text-align: right;\n",
       "    }\n",
       "</style>\n",
       "<table border=\"1\" class=\"dataframe\">\n",
       "  <thead>\n",
       "    <tr style=\"text-align: right;\">\n",
       "      <th></th>\n",
       "      <th>total</th>\n",
       "      <th>speeding</th>\n",
       "      <th>alcohol</th>\n",
       "      <th>not_distracted</th>\n",
       "      <th>no_previous</th>\n",
       "      <th>ins_premium</th>\n",
       "      <th>ins_losses</th>\n",
       "    </tr>\n",
       "    <tr>\n",
       "      <th>abbrev</th>\n",
       "      <th></th>\n",
       "      <th></th>\n",
       "      <th></th>\n",
       "      <th></th>\n",
       "      <th></th>\n",
       "      <th></th>\n",
       "      <th></th>\n",
       "    </tr>\n",
       "  </thead>\n",
       "  <tbody>\n",
       "    <tr>\n",
       "      <th>AL</th>\n",
       "      <td>18.8</td>\n",
       "      <td>7.332</td>\n",
       "      <td>5.640</td>\n",
       "      <td>18.048</td>\n",
       "      <td>15.040</td>\n",
       "      <td>784.55</td>\n",
       "      <td>145.08</td>\n",
       "    </tr>\n",
       "    <tr>\n",
       "      <th>AK</th>\n",
       "      <td>18.1</td>\n",
       "      <td>7.421</td>\n",
       "      <td>4.525</td>\n",
       "      <td>16.290</td>\n",
       "      <td>17.014</td>\n",
       "      <td>1053.48</td>\n",
       "      <td>133.93</td>\n",
       "    </tr>\n",
       "    <tr>\n",
       "      <th>AZ</th>\n",
       "      <td>18.6</td>\n",
       "      <td>6.510</td>\n",
       "      <td>5.208</td>\n",
       "      <td>15.624</td>\n",
       "      <td>17.856</td>\n",
       "      <td>899.47</td>\n",
       "      <td>110.35</td>\n",
       "    </tr>\n",
       "    <tr>\n",
       "      <th>AR</th>\n",
       "      <td>22.4</td>\n",
       "      <td>4.032</td>\n",
       "      <td>5.824</td>\n",
       "      <td>21.056</td>\n",
       "      <td>21.280</td>\n",
       "      <td>827.34</td>\n",
       "      <td>142.39</td>\n",
       "    </tr>\n",
       "    <tr>\n",
       "      <th>CA</th>\n",
       "      <td>12.0</td>\n",
       "      <td>4.200</td>\n",
       "      <td>3.360</td>\n",
       "      <td>10.920</td>\n",
       "      <td>10.680</td>\n",
       "      <td>878.41</td>\n",
       "      <td>165.63</td>\n",
       "    </tr>\n",
       "    <tr>\n",
       "      <th>CO</th>\n",
       "      <td>13.6</td>\n",
       "      <td>5.032</td>\n",
       "      <td>3.808</td>\n",
       "      <td>10.744</td>\n",
       "      <td>12.920</td>\n",
       "      <td>835.50</td>\n",
       "      <td>139.91</td>\n",
       "    </tr>\n",
       "    <tr>\n",
       "      <th>CT</th>\n",
       "      <td>10.8</td>\n",
       "      <td>4.968</td>\n",
       "      <td>3.888</td>\n",
       "      <td>9.396</td>\n",
       "      <td>8.856</td>\n",
       "      <td>1068.73</td>\n",
       "      <td>167.02</td>\n",
       "    </tr>\n",
       "    <tr>\n",
       "      <th>DE</th>\n",
       "      <td>16.2</td>\n",
       "      <td>6.156</td>\n",
       "      <td>4.860</td>\n",
       "      <td>14.094</td>\n",
       "      <td>16.038</td>\n",
       "      <td>1137.87</td>\n",
       "      <td>151.48</td>\n",
       "    </tr>\n",
       "    <tr>\n",
       "      <th>DC</th>\n",
       "      <td>5.9</td>\n",
       "      <td>2.006</td>\n",
       "      <td>1.593</td>\n",
       "      <td>5.900</td>\n",
       "      <td>5.900</td>\n",
       "      <td>1273.89</td>\n",
       "      <td>136.05</td>\n",
       "    </tr>\n",
       "    <tr>\n",
       "      <th>FL</th>\n",
       "      <td>17.9</td>\n",
       "      <td>3.759</td>\n",
       "      <td>5.191</td>\n",
       "      <td>16.468</td>\n",
       "      <td>16.826</td>\n",
       "      <td>1160.13</td>\n",
       "      <td>144.18</td>\n",
       "    </tr>\n",
       "    <tr>\n",
       "      <th>GA</th>\n",
       "      <td>15.6</td>\n",
       "      <td>2.964</td>\n",
       "      <td>3.900</td>\n",
       "      <td>14.820</td>\n",
       "      <td>14.508</td>\n",
       "      <td>913.15</td>\n",
       "      <td>142.80</td>\n",
       "    </tr>\n",
       "    <tr>\n",
       "      <th>HI</th>\n",
       "      <td>17.5</td>\n",
       "      <td>9.450</td>\n",
       "      <td>7.175</td>\n",
       "      <td>14.350</td>\n",
       "      <td>15.225</td>\n",
       "      <td>861.18</td>\n",
       "      <td>120.92</td>\n",
       "    </tr>\n",
       "    <tr>\n",
       "      <th>ID</th>\n",
       "      <td>15.3</td>\n",
       "      <td>5.508</td>\n",
       "      <td>4.437</td>\n",
       "      <td>13.005</td>\n",
       "      <td>14.994</td>\n",
       "      <td>641.96</td>\n",
       "      <td>82.75</td>\n",
       "    </tr>\n",
       "    <tr>\n",
       "      <th>IL</th>\n",
       "      <td>12.8</td>\n",
       "      <td>4.608</td>\n",
       "      <td>4.352</td>\n",
       "      <td>12.032</td>\n",
       "      <td>12.288</td>\n",
       "      <td>803.11</td>\n",
       "      <td>139.15</td>\n",
       "    </tr>\n",
       "    <tr>\n",
       "      <th>IN</th>\n",
       "      <td>14.5</td>\n",
       "      <td>3.625</td>\n",
       "      <td>4.205</td>\n",
       "      <td>13.775</td>\n",
       "      <td>13.775</td>\n",
       "      <td>710.46</td>\n",
       "      <td>108.92</td>\n",
       "    </tr>\n",
       "    <tr>\n",
       "      <th>IA</th>\n",
       "      <td>15.7</td>\n",
       "      <td>2.669</td>\n",
       "      <td>3.925</td>\n",
       "      <td>15.229</td>\n",
       "      <td>13.659</td>\n",
       "      <td>649.06</td>\n",
       "      <td>114.47</td>\n",
       "    </tr>\n",
       "    <tr>\n",
       "      <th>KS</th>\n",
       "      <td>17.8</td>\n",
       "      <td>4.806</td>\n",
       "      <td>4.272</td>\n",
       "      <td>13.706</td>\n",
       "      <td>15.130</td>\n",
       "      <td>780.45</td>\n",
       "      <td>133.80</td>\n",
       "    </tr>\n",
       "    <tr>\n",
       "      <th>KY</th>\n",
       "      <td>21.4</td>\n",
       "      <td>4.066</td>\n",
       "      <td>4.922</td>\n",
       "      <td>16.692</td>\n",
       "      <td>16.264</td>\n",
       "      <td>872.51</td>\n",
       "      <td>137.13</td>\n",
       "    </tr>\n",
       "    <tr>\n",
       "      <th>LA</th>\n",
       "      <td>20.5</td>\n",
       "      <td>7.175</td>\n",
       "      <td>6.765</td>\n",
       "      <td>14.965</td>\n",
       "      <td>20.090</td>\n",
       "      <td>1281.55</td>\n",
       "      <td>194.78</td>\n",
       "    </tr>\n",
       "    <tr>\n",
       "      <th>ME</th>\n",
       "      <td>15.1</td>\n",
       "      <td>5.738</td>\n",
       "      <td>4.530</td>\n",
       "      <td>13.137</td>\n",
       "      <td>12.684</td>\n",
       "      <td>661.88</td>\n",
       "      <td>96.57</td>\n",
       "    </tr>\n",
       "    <tr>\n",
       "      <th>MD</th>\n",
       "      <td>12.5</td>\n",
       "      <td>4.250</td>\n",
       "      <td>4.000</td>\n",
       "      <td>8.875</td>\n",
       "      <td>12.375</td>\n",
       "      <td>1048.78</td>\n",
       "      <td>192.70</td>\n",
       "    </tr>\n",
       "    <tr>\n",
       "      <th>MA</th>\n",
       "      <td>8.2</td>\n",
       "      <td>1.886</td>\n",
       "      <td>2.870</td>\n",
       "      <td>7.134</td>\n",
       "      <td>6.560</td>\n",
       "      <td>1011.14</td>\n",
       "      <td>135.63</td>\n",
       "    </tr>\n",
       "    <tr>\n",
       "      <th>MI</th>\n",
       "      <td>14.1</td>\n",
       "      <td>3.384</td>\n",
       "      <td>3.948</td>\n",
       "      <td>13.395</td>\n",
       "      <td>10.857</td>\n",
       "      <td>1110.61</td>\n",
       "      <td>152.26</td>\n",
       "    </tr>\n",
       "    <tr>\n",
       "      <th>MN</th>\n",
       "      <td>9.6</td>\n",
       "      <td>2.208</td>\n",
       "      <td>2.784</td>\n",
       "      <td>8.448</td>\n",
       "      <td>8.448</td>\n",
       "      <td>777.18</td>\n",
       "      <td>133.35</td>\n",
       "    </tr>\n",
       "    <tr>\n",
       "      <th>MS</th>\n",
       "      <td>17.6</td>\n",
       "      <td>2.640</td>\n",
       "      <td>5.456</td>\n",
       "      <td>1.760</td>\n",
       "      <td>17.600</td>\n",
       "      <td>896.07</td>\n",
       "      <td>155.77</td>\n",
       "    </tr>\n",
       "    <tr>\n",
       "      <th>MO</th>\n",
       "      <td>16.1</td>\n",
       "      <td>6.923</td>\n",
       "      <td>5.474</td>\n",
       "      <td>14.812</td>\n",
       "      <td>13.524</td>\n",
       "      <td>790.32</td>\n",
       "      <td>144.45</td>\n",
       "    </tr>\n",
       "    <tr>\n",
       "      <th>MT</th>\n",
       "      <td>21.4</td>\n",
       "      <td>8.346</td>\n",
       "      <td>9.416</td>\n",
       "      <td>17.976</td>\n",
       "      <td>18.190</td>\n",
       "      <td>816.21</td>\n",
       "      <td>85.15</td>\n",
       "    </tr>\n",
       "    <tr>\n",
       "      <th>NE</th>\n",
       "      <td>14.9</td>\n",
       "      <td>1.937</td>\n",
       "      <td>5.215</td>\n",
       "      <td>13.857</td>\n",
       "      <td>13.410</td>\n",
       "      <td>732.28</td>\n",
       "      <td>114.82</td>\n",
       "    </tr>\n",
       "    <tr>\n",
       "      <th>NV</th>\n",
       "      <td>14.7</td>\n",
       "      <td>5.439</td>\n",
       "      <td>4.704</td>\n",
       "      <td>13.965</td>\n",
       "      <td>14.553</td>\n",
       "      <td>1029.87</td>\n",
       "      <td>138.71</td>\n",
       "    </tr>\n",
       "    <tr>\n",
       "      <th>NH</th>\n",
       "      <td>11.6</td>\n",
       "      <td>4.060</td>\n",
       "      <td>3.480</td>\n",
       "      <td>10.092</td>\n",
       "      <td>9.628</td>\n",
       "      <td>746.54</td>\n",
       "      <td>120.21</td>\n",
       "    </tr>\n",
       "    <tr>\n",
       "      <th>NJ</th>\n",
       "      <td>11.2</td>\n",
       "      <td>1.792</td>\n",
       "      <td>3.136</td>\n",
       "      <td>9.632</td>\n",
       "      <td>8.736</td>\n",
       "      <td>1301.52</td>\n",
       "      <td>159.85</td>\n",
       "    </tr>\n",
       "    <tr>\n",
       "      <th>NM</th>\n",
       "      <td>18.4</td>\n",
       "      <td>3.496</td>\n",
       "      <td>4.968</td>\n",
       "      <td>12.328</td>\n",
       "      <td>18.032</td>\n",
       "      <td>869.85</td>\n",
       "      <td>120.75</td>\n",
       "    </tr>\n",
       "    <tr>\n",
       "      <th>NY</th>\n",
       "      <td>12.3</td>\n",
       "      <td>3.936</td>\n",
       "      <td>3.567</td>\n",
       "      <td>10.824</td>\n",
       "      <td>9.840</td>\n",
       "      <td>1234.31</td>\n",
       "      <td>150.01</td>\n",
       "    </tr>\n",
       "    <tr>\n",
       "      <th>NC</th>\n",
       "      <td>16.8</td>\n",
       "      <td>6.552</td>\n",
       "      <td>5.208</td>\n",
       "      <td>15.792</td>\n",
       "      <td>13.608</td>\n",
       "      <td>708.24</td>\n",
       "      <td>127.82</td>\n",
       "    </tr>\n",
       "    <tr>\n",
       "      <th>ND</th>\n",
       "      <td>23.9</td>\n",
       "      <td>5.497</td>\n",
       "      <td>10.038</td>\n",
       "      <td>23.661</td>\n",
       "      <td>20.554</td>\n",
       "      <td>688.75</td>\n",
       "      <td>109.72</td>\n",
       "    </tr>\n",
       "    <tr>\n",
       "      <th>OH</th>\n",
       "      <td>14.1</td>\n",
       "      <td>3.948</td>\n",
       "      <td>4.794</td>\n",
       "      <td>13.959</td>\n",
       "      <td>11.562</td>\n",
       "      <td>697.73</td>\n",
       "      <td>133.52</td>\n",
       "    </tr>\n",
       "    <tr>\n",
       "      <th>OK</th>\n",
       "      <td>19.9</td>\n",
       "      <td>6.368</td>\n",
       "      <td>5.771</td>\n",
       "      <td>18.308</td>\n",
       "      <td>18.706</td>\n",
       "      <td>881.51</td>\n",
       "      <td>178.86</td>\n",
       "    </tr>\n",
       "    <tr>\n",
       "      <th>OR</th>\n",
       "      <td>12.8</td>\n",
       "      <td>4.224</td>\n",
       "      <td>3.328</td>\n",
       "      <td>8.576</td>\n",
       "      <td>11.520</td>\n",
       "      <td>804.71</td>\n",
       "      <td>104.61</td>\n",
       "    </tr>\n",
       "    <tr>\n",
       "      <th>PA</th>\n",
       "      <td>18.2</td>\n",
       "      <td>9.100</td>\n",
       "      <td>5.642</td>\n",
       "      <td>17.472</td>\n",
       "      <td>16.016</td>\n",
       "      <td>905.99</td>\n",
       "      <td>153.86</td>\n",
       "    </tr>\n",
       "    <tr>\n",
       "      <th>RI</th>\n",
       "      <td>11.1</td>\n",
       "      <td>3.774</td>\n",
       "      <td>4.218</td>\n",
       "      <td>10.212</td>\n",
       "      <td>8.769</td>\n",
       "      <td>1148.99</td>\n",
       "      <td>148.58</td>\n",
       "    </tr>\n",
       "    <tr>\n",
       "      <th>SC</th>\n",
       "      <td>23.9</td>\n",
       "      <td>9.082</td>\n",
       "      <td>9.799</td>\n",
       "      <td>22.944</td>\n",
       "      <td>19.359</td>\n",
       "      <td>858.97</td>\n",
       "      <td>116.29</td>\n",
       "    </tr>\n",
       "    <tr>\n",
       "      <th>SD</th>\n",
       "      <td>19.4</td>\n",
       "      <td>6.014</td>\n",
       "      <td>6.402</td>\n",
       "      <td>19.012</td>\n",
       "      <td>16.684</td>\n",
       "      <td>669.31</td>\n",
       "      <td>96.87</td>\n",
       "    </tr>\n",
       "    <tr>\n",
       "      <th>TN</th>\n",
       "      <td>19.5</td>\n",
       "      <td>4.095</td>\n",
       "      <td>5.655</td>\n",
       "      <td>15.990</td>\n",
       "      <td>15.795</td>\n",
       "      <td>767.91</td>\n",
       "      <td>155.57</td>\n",
       "    </tr>\n",
       "    <tr>\n",
       "      <th>TX</th>\n",
       "      <td>19.4</td>\n",
       "      <td>7.760</td>\n",
       "      <td>7.372</td>\n",
       "      <td>17.654</td>\n",
       "      <td>16.878</td>\n",
       "      <td>1004.75</td>\n",
       "      <td>156.83</td>\n",
       "    </tr>\n",
       "    <tr>\n",
       "      <th>UT</th>\n",
       "      <td>11.3</td>\n",
       "      <td>4.859</td>\n",
       "      <td>1.808</td>\n",
       "      <td>9.944</td>\n",
       "      <td>10.848</td>\n",
       "      <td>809.38</td>\n",
       "      <td>109.48</td>\n",
       "    </tr>\n",
       "    <tr>\n",
       "      <th>VT</th>\n",
       "      <td>13.6</td>\n",
       "      <td>4.080</td>\n",
       "      <td>4.080</td>\n",
       "      <td>13.056</td>\n",
       "      <td>12.920</td>\n",
       "      <td>716.20</td>\n",
       "      <td>109.61</td>\n",
       "    </tr>\n",
       "    <tr>\n",
       "      <th>VA</th>\n",
       "      <td>12.7</td>\n",
       "      <td>2.413</td>\n",
       "      <td>3.429</td>\n",
       "      <td>11.049</td>\n",
       "      <td>11.176</td>\n",
       "      <td>768.95</td>\n",
       "      <td>153.72</td>\n",
       "    </tr>\n",
       "    <tr>\n",
       "      <th>WA</th>\n",
       "      <td>10.6</td>\n",
       "      <td>4.452</td>\n",
       "      <td>3.498</td>\n",
       "      <td>8.692</td>\n",
       "      <td>9.116</td>\n",
       "      <td>890.03</td>\n",
       "      <td>111.62</td>\n",
       "    </tr>\n",
       "    <tr>\n",
       "      <th>WV</th>\n",
       "      <td>23.8</td>\n",
       "      <td>8.092</td>\n",
       "      <td>6.664</td>\n",
       "      <td>23.086</td>\n",
       "      <td>20.706</td>\n",
       "      <td>992.61</td>\n",
       "      <td>152.56</td>\n",
       "    </tr>\n",
       "    <tr>\n",
       "      <th>WI</th>\n",
       "      <td>13.8</td>\n",
       "      <td>4.968</td>\n",
       "      <td>4.554</td>\n",
       "      <td>5.382</td>\n",
       "      <td>11.592</td>\n",
       "      <td>670.31</td>\n",
       "      <td>106.62</td>\n",
       "    </tr>\n",
       "    <tr>\n",
       "      <th>WY</th>\n",
       "      <td>17.4</td>\n",
       "      <td>7.308</td>\n",
       "      <td>5.568</td>\n",
       "      <td>14.094</td>\n",
       "      <td>15.660</td>\n",
       "      <td>791.14</td>\n",
       "      <td>122.04</td>\n",
       "    </tr>\n",
       "  </tbody>\n",
       "</table>\n",
       "</div>"
      ],
      "text/plain": [
       "        total  speeding  alcohol  not_distracted  no_previous  ins_premium  \\\n",
       "abbrev                                                                       \n",
       "AL       18.8     7.332    5.640          18.048       15.040       784.55   \n",
       "AK       18.1     7.421    4.525          16.290       17.014      1053.48   \n",
       "AZ       18.6     6.510    5.208          15.624       17.856       899.47   \n",
       "AR       22.4     4.032    5.824          21.056       21.280       827.34   \n",
       "CA       12.0     4.200    3.360          10.920       10.680       878.41   \n",
       "CO       13.6     5.032    3.808          10.744       12.920       835.50   \n",
       "CT       10.8     4.968    3.888           9.396        8.856      1068.73   \n",
       "DE       16.2     6.156    4.860          14.094       16.038      1137.87   \n",
       "DC        5.9     2.006    1.593           5.900        5.900      1273.89   \n",
       "FL       17.9     3.759    5.191          16.468       16.826      1160.13   \n",
       "GA       15.6     2.964    3.900          14.820       14.508       913.15   \n",
       "HI       17.5     9.450    7.175          14.350       15.225       861.18   \n",
       "ID       15.3     5.508    4.437          13.005       14.994       641.96   \n",
       "IL       12.8     4.608    4.352          12.032       12.288       803.11   \n",
       "IN       14.5     3.625    4.205          13.775       13.775       710.46   \n",
       "IA       15.7     2.669    3.925          15.229       13.659       649.06   \n",
       "KS       17.8     4.806    4.272          13.706       15.130       780.45   \n",
       "KY       21.4     4.066    4.922          16.692       16.264       872.51   \n",
       "LA       20.5     7.175    6.765          14.965       20.090      1281.55   \n",
       "ME       15.1     5.738    4.530          13.137       12.684       661.88   \n",
       "MD       12.5     4.250    4.000           8.875       12.375      1048.78   \n",
       "MA        8.2     1.886    2.870           7.134        6.560      1011.14   \n",
       "MI       14.1     3.384    3.948          13.395       10.857      1110.61   \n",
       "MN        9.6     2.208    2.784           8.448        8.448       777.18   \n",
       "MS       17.6     2.640    5.456           1.760       17.600       896.07   \n",
       "MO       16.1     6.923    5.474          14.812       13.524       790.32   \n",
       "MT       21.4     8.346    9.416          17.976       18.190       816.21   \n",
       "NE       14.9     1.937    5.215          13.857       13.410       732.28   \n",
       "NV       14.7     5.439    4.704          13.965       14.553      1029.87   \n",
       "NH       11.6     4.060    3.480          10.092        9.628       746.54   \n",
       "NJ       11.2     1.792    3.136           9.632        8.736      1301.52   \n",
       "NM       18.4     3.496    4.968          12.328       18.032       869.85   \n",
       "NY       12.3     3.936    3.567          10.824        9.840      1234.31   \n",
       "NC       16.8     6.552    5.208          15.792       13.608       708.24   \n",
       "ND       23.9     5.497   10.038          23.661       20.554       688.75   \n",
       "OH       14.1     3.948    4.794          13.959       11.562       697.73   \n",
       "OK       19.9     6.368    5.771          18.308       18.706       881.51   \n",
       "OR       12.8     4.224    3.328           8.576       11.520       804.71   \n",
       "PA       18.2     9.100    5.642          17.472       16.016       905.99   \n",
       "RI       11.1     3.774    4.218          10.212        8.769      1148.99   \n",
       "SC       23.9     9.082    9.799          22.944       19.359       858.97   \n",
       "SD       19.4     6.014    6.402          19.012       16.684       669.31   \n",
       "TN       19.5     4.095    5.655          15.990       15.795       767.91   \n",
       "TX       19.4     7.760    7.372          17.654       16.878      1004.75   \n",
       "UT       11.3     4.859    1.808           9.944       10.848       809.38   \n",
       "VT       13.6     4.080    4.080          13.056       12.920       716.20   \n",
       "VA       12.7     2.413    3.429          11.049       11.176       768.95   \n",
       "WA       10.6     4.452    3.498           8.692        9.116       890.03   \n",
       "WV       23.8     8.092    6.664          23.086       20.706       992.61   \n",
       "WI       13.8     4.968    4.554           5.382       11.592       670.31   \n",
       "WY       17.4     7.308    5.568          14.094       15.660       791.14   \n",
       "\n",
       "        ins_losses  \n",
       "abbrev              \n",
       "AL          145.08  \n",
       "AK          133.93  \n",
       "AZ          110.35  \n",
       "AR          142.39  \n",
       "CA          165.63  \n",
       "CO          139.91  \n",
       "CT          167.02  \n",
       "DE          151.48  \n",
       "DC          136.05  \n",
       "FL          144.18  \n",
       "GA          142.80  \n",
       "HI          120.92  \n",
       "ID           82.75  \n",
       "IL          139.15  \n",
       "IN          108.92  \n",
       "IA          114.47  \n",
       "KS          133.80  \n",
       "KY          137.13  \n",
       "LA          194.78  \n",
       "ME           96.57  \n",
       "MD          192.70  \n",
       "MA          135.63  \n",
       "MI          152.26  \n",
       "MN          133.35  \n",
       "MS          155.77  \n",
       "MO          144.45  \n",
       "MT           85.15  \n",
       "NE          114.82  \n",
       "NV          138.71  \n",
       "NH          120.21  \n",
       "NJ          159.85  \n",
       "NM          120.75  \n",
       "NY          150.01  \n",
       "NC          127.82  \n",
       "ND          109.72  \n",
       "OH          133.52  \n",
       "OK          178.86  \n",
       "OR          104.61  \n",
       "PA          153.86  \n",
       "RI          148.58  \n",
       "SC          116.29  \n",
       "SD           96.87  \n",
       "TN          155.57  \n",
       "TX          156.83  \n",
       "UT          109.48  \n",
       "VT          109.61  \n",
       "VA          153.72  \n",
       "WA          111.62  \n",
       "WV          152.56  \n",
       "WI          106.62  \n",
       "WY          122.04  "
      ]
     },
     "execution_count": 1,
     "metadata": {},
     "output_type": "execute_result"
    }
   ],
   "source": [
    "import seaborn as sns #!\n",
    "\n",
    "df_crashes = sns.load_dataset(name='car_crashes', index_col='abbrev')\n",
    "df_crashes"
   ]
  },
  {
   "cell_type": "markdown",
   "metadata": {},
   "source": [
    "> Check [this website](https://www.kaggle.com/fivethirtyeight/fivethirtyeight-bad-drivers-dataset/) to understand the measures of the following data."
   ]
  },
  {
   "cell_type": "markdown",
   "metadata": {},
   "source": [
    "## Data Preprocessing"
   ]
  },
  {
   "cell_type": "code",
   "execution_count": 2,
   "metadata": {},
   "outputs": [],
   "source": [
    "from sklearn.preprocessing import StandardScaler"
   ]
  },
  {
   "cell_type": "code",
   "execution_count": 3,
   "metadata": {},
   "outputs": [],
   "source": [
    "scaler = StandardScaler()"
   ]
  },
  {
   "cell_type": "code",
   "execution_count": 4,
   "metadata": {},
   "outputs": [
    {
     "data": {
      "text/html": [
       "<style>#sk-container-id-1 {color: black;background-color: white;}#sk-container-id-1 pre{padding: 0;}#sk-container-id-1 div.sk-toggleable {background-color: white;}#sk-container-id-1 label.sk-toggleable__label {cursor: pointer;display: block;width: 100%;margin-bottom: 0;padding: 0.3em;box-sizing: border-box;text-align: center;}#sk-container-id-1 label.sk-toggleable__label-arrow:before {content: \"▸\";float: left;margin-right: 0.25em;color: #696969;}#sk-container-id-1 label.sk-toggleable__label-arrow:hover:before {color: black;}#sk-container-id-1 div.sk-estimator:hover label.sk-toggleable__label-arrow:before {color: black;}#sk-container-id-1 div.sk-toggleable__content {max-height: 0;max-width: 0;overflow: hidden;text-align: left;background-color: #f0f8ff;}#sk-container-id-1 div.sk-toggleable__content pre {margin: 0.2em;color: black;border-radius: 0.25em;background-color: #f0f8ff;}#sk-container-id-1 input.sk-toggleable__control:checked~div.sk-toggleable__content {max-height: 200px;max-width: 100%;overflow: auto;}#sk-container-id-1 input.sk-toggleable__control:checked~label.sk-toggleable__label-arrow:before {content: \"▾\";}#sk-container-id-1 div.sk-estimator input.sk-toggleable__control:checked~label.sk-toggleable__label {background-color: #d4ebff;}#sk-container-id-1 div.sk-label input.sk-toggleable__control:checked~label.sk-toggleable__label {background-color: #d4ebff;}#sk-container-id-1 input.sk-hidden--visually {border: 0;clip: rect(1px 1px 1px 1px);clip: rect(1px, 1px, 1px, 1px);height: 1px;margin: -1px;overflow: hidden;padding: 0;position: absolute;width: 1px;}#sk-container-id-1 div.sk-estimator {font-family: monospace;background-color: #f0f8ff;border: 1px dotted black;border-radius: 0.25em;box-sizing: border-box;margin-bottom: 0.5em;}#sk-container-id-1 div.sk-estimator:hover {background-color: #d4ebff;}#sk-container-id-1 div.sk-parallel-item::after {content: \"\";width: 100%;border-bottom: 1px solid gray;flex-grow: 1;}#sk-container-id-1 div.sk-label:hover label.sk-toggleable__label {background-color: #d4ebff;}#sk-container-id-1 div.sk-serial::before {content: \"\";position: absolute;border-left: 1px solid gray;box-sizing: border-box;top: 0;bottom: 0;left: 50%;z-index: 0;}#sk-container-id-1 div.sk-serial {display: flex;flex-direction: column;align-items: center;background-color: white;padding-right: 0.2em;padding-left: 0.2em;position: relative;}#sk-container-id-1 div.sk-item {position: relative;z-index: 1;}#sk-container-id-1 div.sk-parallel {display: flex;align-items: stretch;justify-content: center;background-color: white;position: relative;}#sk-container-id-1 div.sk-item::before, #sk-container-id-1 div.sk-parallel-item::before {content: \"\";position: absolute;border-left: 1px solid gray;box-sizing: border-box;top: 0;bottom: 0;left: 50%;z-index: -1;}#sk-container-id-1 div.sk-parallel-item {display: flex;flex-direction: column;z-index: 1;position: relative;background-color: white;}#sk-container-id-1 div.sk-parallel-item:first-child::after {align-self: flex-end;width: 50%;}#sk-container-id-1 div.sk-parallel-item:last-child::after {align-self: flex-start;width: 50%;}#sk-container-id-1 div.sk-parallel-item:only-child::after {width: 0;}#sk-container-id-1 div.sk-dashed-wrapped {border: 1px dashed gray;margin: 0 0.4em 0.5em 0.4em;box-sizing: border-box;padding-bottom: 0.4em;background-color: white;}#sk-container-id-1 div.sk-label label {font-family: monospace;font-weight: bold;display: inline-block;line-height: 1.2em;}#sk-container-id-1 div.sk-label-container {text-align: center;}#sk-container-id-1 div.sk-container {/* jupyter's `normalize.less` sets `[hidden] { display: none; }` but bootstrap.min.css set `[hidden] { display: none !important; }` so we also need the `!important` here to be able to override the default hidden behavior on the sphinx rendered scikit-learn.org. See: https://github.com/scikit-learn/scikit-learn/issues/21755 */display: inline-block !important;position: relative;}#sk-container-id-1 div.sk-text-repr-fallback {display: none;}</style><div id=\"sk-container-id-1\" class=\"sk-top-container\"><div class=\"sk-text-repr-fallback\"><pre>StandardScaler()</pre><b>In a Jupyter environment, please rerun this cell to show the HTML representation or trust the notebook. <br />On GitHub, the HTML representation is unable to render, please try loading this page with nbviewer.org.</b></div><div class=\"sk-container\" hidden><div class=\"sk-item\"><div class=\"sk-estimator sk-toggleable\"><input class=\"sk-toggleable__control sk-hidden--visually\" id=\"sk-estimator-id-1\" type=\"checkbox\" checked><label for=\"sk-estimator-id-1\" class=\"sk-toggleable__label sk-toggleable__label-arrow\">StandardScaler</label><div class=\"sk-toggleable__content\"><pre>StandardScaler()</pre></div></div></div></div></div>"
      ],
      "text/plain": [
       "StandardScaler()"
      ]
     },
     "execution_count": 4,
     "metadata": {},
     "output_type": "execute_result"
    }
   ],
   "source": [
    "scaler.fit(X=df_crashes)"
   ]
  },
  {
   "cell_type": "code",
   "execution_count": 5,
   "metadata": {},
   "outputs": [],
   "source": [
    "scaled = scaler.transform(df_crashes)"
   ]
  },
  {
   "cell_type": "code",
   "execution_count": 6,
   "metadata": {},
   "outputs": [],
   "source": [
    "import pandas as pd"
   ]
  },
  {
   "cell_type": "code",
   "execution_count": 7,
   "metadata": {},
   "outputs": [
    {
     "data": {
      "text/html": [
       "<div>\n",
       "<style scoped>\n",
       "    .dataframe tbody tr th:only-of-type {\n",
       "        vertical-align: middle;\n",
       "    }\n",
       "\n",
       "    .dataframe tbody tr th {\n",
       "        vertical-align: top;\n",
       "    }\n",
       "\n",
       "    .dataframe thead th {\n",
       "        text-align: right;\n",
       "    }\n",
       "</style>\n",
       "<table border=\"1\" class=\"dataframe\">\n",
       "  <thead>\n",
       "    <tr style=\"text-align: right;\">\n",
       "      <th></th>\n",
       "      <th>total</th>\n",
       "      <th>speeding</th>\n",
       "      <th>alcohol</th>\n",
       "      <th>not_distracted</th>\n",
       "      <th>no_previous</th>\n",
       "      <th>ins_premium</th>\n",
       "      <th>ins_losses</th>\n",
       "    </tr>\n",
       "    <tr>\n",
       "      <th>abbrev</th>\n",
       "      <th></th>\n",
       "      <th></th>\n",
       "      <th></th>\n",
       "      <th></th>\n",
       "      <th></th>\n",
       "      <th></th>\n",
       "      <th></th>\n",
       "    </tr>\n",
       "  </thead>\n",
       "  <tbody>\n",
       "    <tr>\n",
       "      <th>AL</th>\n",
       "      <td>0.737446</td>\n",
       "      <td>1.168148</td>\n",
       "      <td>0.439938</td>\n",
       "      <td>1.002301</td>\n",
       "      <td>0.277692</td>\n",
       "      <td>-0.580083</td>\n",
       "      <td>0.430514</td>\n",
       "    </tr>\n",
       "    <tr>\n",
       "      <th>AK</th>\n",
       "      <td>0.565936</td>\n",
       "      <td>1.212695</td>\n",
       "      <td>-0.211311</td>\n",
       "      <td>0.608532</td>\n",
       "      <td>0.807258</td>\n",
       "      <td>0.943258</td>\n",
       "      <td>-0.022900</td>\n",
       "    </tr>\n",
       "    <tr>\n",
       "      <th>AZ</th>\n",
       "      <td>0.688443</td>\n",
       "      <td>0.756709</td>\n",
       "      <td>0.187615</td>\n",
       "      <td>0.459357</td>\n",
       "      <td>1.033141</td>\n",
       "      <td>0.070876</td>\n",
       "      <td>-0.981778</td>\n",
       "    </tr>\n",
       "    <tr>\n",
       "      <th>AR</th>\n",
       "      <td>1.619498</td>\n",
       "      <td>-0.483614</td>\n",
       "      <td>0.547408</td>\n",
       "      <td>1.676052</td>\n",
       "      <td>1.951700</td>\n",
       "      <td>-0.337701</td>\n",
       "      <td>0.321125</td>\n",
       "    </tr>\n",
       "    <tr>\n",
       "      <th>CA</th>\n",
       "      <td>-0.928653</td>\n",
       "      <td>-0.399524</td>\n",
       "      <td>-0.891763</td>\n",
       "      <td>-0.594276</td>\n",
       "      <td>-0.891968</td>\n",
       "      <td>-0.048418</td>\n",
       "      <td>1.266178</td>\n",
       "    </tr>\n",
       "    <tr>\n",
       "      <th>CO</th>\n",
       "      <td>-0.536630</td>\n",
       "      <td>0.016920</td>\n",
       "      <td>-0.630095</td>\n",
       "      <td>-0.633698</td>\n",
       "      <td>-0.291042</td>\n",
       "      <td>-0.291479</td>\n",
       "      <td>0.220276</td>\n",
       "    </tr>\n",
       "    <tr>\n",
       "      <th>CT</th>\n",
       "      <td>-1.222671</td>\n",
       "      <td>-0.015114</td>\n",
       "      <td>-0.583369</td>\n",
       "      <td>-0.935632</td>\n",
       "      <td>-1.381293</td>\n",
       "      <td>1.029641</td>\n",
       "      <td>1.322702</td>\n",
       "    </tr>\n",
       "    <tr>\n",
       "      <th>DE</th>\n",
       "      <td>0.100408</td>\n",
       "      <td>0.579520</td>\n",
       "      <td>-0.015644</td>\n",
       "      <td>0.116657</td>\n",
       "      <td>0.545426</td>\n",
       "      <td>1.421281</td>\n",
       "      <td>0.690769</td>\n",
       "    </tr>\n",
       "    <tr>\n",
       "      <th>DC</th>\n",
       "      <td>-2.423242</td>\n",
       "      <td>-1.497695</td>\n",
       "      <td>-1.923831</td>\n",
       "      <td>-1.718689</td>\n",
       "      <td>-2.174301</td>\n",
       "      <td>2.191759</td>\n",
       "      <td>0.063310</td>\n",
       "    </tr>\n",
       "    <tr>\n",
       "      <th>FL</th>\n",
       "      <td>0.516933</td>\n",
       "      <td>-0.620259</td>\n",
       "      <td>0.177686</td>\n",
       "      <td>0.648402</td>\n",
       "      <td>0.756823</td>\n",
       "      <td>1.547371</td>\n",
       "      <td>0.393915</td>\n",
       "    </tr>\n",
       "    <tr>\n",
       "      <th>GA</th>\n",
       "      <td>-0.046601</td>\n",
       "      <td>-1.018184</td>\n",
       "      <td>-0.576360</td>\n",
       "      <td>0.279272</td>\n",
       "      <td>0.134972</td>\n",
       "      <td>0.148365</td>\n",
       "      <td>0.337798</td>\n",
       "    </tr>\n",
       "    <tr>\n",
       "      <th>HI</th>\n",
       "      <td>0.418927</td>\n",
       "      <td>2.228278</td>\n",
       "      <td>1.336499</td>\n",
       "      <td>0.173998</td>\n",
       "      <td>0.327322</td>\n",
       "      <td>-0.146016</td>\n",
       "      <td>-0.551950</td>\n",
       "    </tr>\n",
       "    <tr>\n",
       "      <th>ID</th>\n",
       "      <td>-0.120105</td>\n",
       "      <td>0.255174</td>\n",
       "      <td>-0.262710</td>\n",
       "      <td>-0.127264</td>\n",
       "      <td>0.265351</td>\n",
       "      <td>-1.387777</td>\n",
       "      <td>-2.104130</td>\n",
       "    </tr>\n",
       "    <tr>\n",
       "      <th>IL</th>\n",
       "      <td>-0.732642</td>\n",
       "      <td>-0.195306</td>\n",
       "      <td>-0.312356</td>\n",
       "      <td>-0.345203</td>\n",
       "      <td>-0.460589</td>\n",
       "      <td>-0.474951</td>\n",
       "      <td>0.189371</td>\n",
       "    </tr>\n",
       "    <tr>\n",
       "      <th>IN</th>\n",
       "      <td>-0.316117</td>\n",
       "      <td>-0.687331</td>\n",
       "      <td>-0.398216</td>\n",
       "      <td>0.045206</td>\n",
       "      <td>-0.061671</td>\n",
       "      <td>-0.999762</td>\n",
       "      <td>-1.039929</td>\n",
       "    </tr>\n",
       "    <tr>\n",
       "      <th>IA</th>\n",
       "      <td>-0.022099</td>\n",
       "      <td>-1.165841</td>\n",
       "      <td>-0.561758</td>\n",
       "      <td>0.370882</td>\n",
       "      <td>-0.092790</td>\n",
       "      <td>-1.347559</td>\n",
       "      <td>-0.814239</td>\n",
       "    </tr>\n",
       "    <tr>\n",
       "      <th>KS</th>\n",
       "      <td>0.492431</td>\n",
       "      <td>-0.096201</td>\n",
       "      <td>-0.359083</td>\n",
       "      <td>0.029751</td>\n",
       "      <td>0.301836</td>\n",
       "      <td>-0.603307</td>\n",
       "      <td>-0.028186</td>\n",
       "    </tr>\n",
       "    <tr>\n",
       "      <th>KY</th>\n",
       "      <td>1.374484</td>\n",
       "      <td>-0.466596</td>\n",
       "      <td>0.020569</td>\n",
       "      <td>0.698575</td>\n",
       "      <td>0.606055</td>\n",
       "      <td>-0.081838</td>\n",
       "      <td>0.107228</td>\n",
       "    </tr>\n",
       "    <tr>\n",
       "      <th>LA</th>\n",
       "      <td>1.153970</td>\n",
       "      <td>1.089564</td>\n",
       "      <td>1.097027</td>\n",
       "      <td>0.311750</td>\n",
       "      <td>1.632458</td>\n",
       "      <td>2.235149</td>\n",
       "      <td>2.451560</td>\n",
       "    </tr>\n",
       "    <tr>\n",
       "      <th>ME</th>\n",
       "      <td>-0.169108</td>\n",
       "      <td>0.370297</td>\n",
       "      <td>-0.208390</td>\n",
       "      <td>-0.097698</td>\n",
       "      <td>-0.354354</td>\n",
       "      <td>-1.274941</td>\n",
       "      <td>-1.542141</td>\n",
       "    </tr>\n",
       "    <tr>\n",
       "      <th>MD</th>\n",
       "      <td>-0.806146</td>\n",
       "      <td>-0.374497</td>\n",
       "      <td>-0.517952</td>\n",
       "      <td>-1.052329</td>\n",
       "      <td>-0.437249</td>\n",
       "      <td>0.916635</td>\n",
       "      <td>2.366977</td>\n",
       "    </tr>\n",
       "    <tr>\n",
       "      <th>MA</th>\n",
       "      <td>-1.859708</td>\n",
       "      <td>-1.557759</td>\n",
       "      <td>-1.177962</td>\n",
       "      <td>-1.442289</td>\n",
       "      <td>-1.997242</td>\n",
       "      <td>0.703425</td>\n",
       "      <td>0.046230</td>\n",
       "    </tr>\n",
       "    <tr>\n",
       "      <th>MI</th>\n",
       "      <td>-0.414123</td>\n",
       "      <td>-0.807960</td>\n",
       "      <td>-0.548324</td>\n",
       "      <td>-0.039909</td>\n",
       "      <td>-0.844484</td>\n",
       "      <td>1.266868</td>\n",
       "      <td>0.722488</td>\n",
       "    </tr>\n",
       "    <tr>\n",
       "      <th>MN</th>\n",
       "      <td>-1.516688</td>\n",
       "      <td>-1.396587</td>\n",
       "      <td>-1.228192</td>\n",
       "      <td>-1.147971</td>\n",
       "      <td>-1.490748</td>\n",
       "      <td>-0.621830</td>\n",
       "      <td>-0.046486</td>\n",
       "    </tr>\n",
       "    <tr>\n",
       "      <th>MS</th>\n",
       "      <td>0.443428</td>\n",
       "      <td>-1.180357</td>\n",
       "      <td>0.332467</td>\n",
       "      <td>-2.645993</td>\n",
       "      <td>0.964464</td>\n",
       "      <td>0.051616</td>\n",
       "      <td>0.865222</td>\n",
       "    </tr>\n",
       "    <tr>\n",
       "      <th>MO</th>\n",
       "      <td>0.075906</td>\n",
       "      <td>0.963429</td>\n",
       "      <td>0.342980</td>\n",
       "      <td>0.277480</td>\n",
       "      <td>-0.129007</td>\n",
       "      <td>-0.547399</td>\n",
       "      <td>0.404895</td>\n",
       "    </tr>\n",
       "    <tr>\n",
       "      <th>MT</th>\n",
       "      <td>1.374484</td>\n",
       "      <td>1.675689</td>\n",
       "      <td>2.645420</td>\n",
       "      <td>0.986174</td>\n",
       "      <td>1.122744</td>\n",
       "      <td>-0.400747</td>\n",
       "      <td>-2.006534</td>\n",
       "    </tr>\n",
       "    <tr>\n",
       "      <th>NE</th>\n",
       "      <td>-0.218111</td>\n",
       "      <td>-1.532232</td>\n",
       "      <td>0.191704</td>\n",
       "      <td>0.063573</td>\n",
       "      <td>-0.159589</td>\n",
       "      <td>-0.876164</td>\n",
       "      <td>-0.800006</td>\n",
       "    </tr>\n",
       "    <tr>\n",
       "      <th>NV</th>\n",
       "      <td>-0.267114</td>\n",
       "      <td>0.220637</td>\n",
       "      <td>-0.106761</td>\n",
       "      <td>0.087763</td>\n",
       "      <td>0.147044</td>\n",
       "      <td>0.809520</td>\n",
       "      <td>0.171478</td>\n",
       "    </tr>\n",
       "    <tr>\n",
       "      <th>NH</th>\n",
       "      <td>-1.026659</td>\n",
       "      <td>-0.469599</td>\n",
       "      <td>-0.821673</td>\n",
       "      <td>-0.779737</td>\n",
       "      <td>-1.174189</td>\n",
       "      <td>-0.795389</td>\n",
       "      <td>-0.580822</td>\n",
       "    </tr>\n",
       "    <tr>\n",
       "      <th>NJ</th>\n",
       "      <td>-1.124665</td>\n",
       "      <td>-1.604809</td>\n",
       "      <td>-1.022597</td>\n",
       "      <td>-0.882771</td>\n",
       "      <td>-1.413486</td>\n",
       "      <td>2.348268</td>\n",
       "      <td>1.031134</td>\n",
       "    </tr>\n",
       "    <tr>\n",
       "      <th>NM</th>\n",
       "      <td>0.639440</td>\n",
       "      <td>-0.751900</td>\n",
       "      <td>0.047436</td>\n",
       "      <td>-0.278903</td>\n",
       "      <td>1.080357</td>\n",
       "      <td>-0.096905</td>\n",
       "      <td>-0.558863</td>\n",
       "    </tr>\n",
       "    <tr>\n",
       "      <th>NY</th>\n",
       "      <td>-0.855149</td>\n",
       "      <td>-0.531665</td>\n",
       "      <td>-0.770859</td>\n",
       "      <td>-0.615779</td>\n",
       "      <td>-1.117315</td>\n",
       "      <td>1.967560</td>\n",
       "      <td>0.630992</td>\n",
       "    </tr>\n",
       "    <tr>\n",
       "      <th>NC</th>\n",
       "      <td>0.247417</td>\n",
       "      <td>0.777731</td>\n",
       "      <td>0.187615</td>\n",
       "      <td>0.496987</td>\n",
       "      <td>-0.106472</td>\n",
       "      <td>-1.012337</td>\n",
       "      <td>-0.271363</td>\n",
       "    </tr>\n",
       "    <tr>\n",
       "      <th>ND</th>\n",
       "      <td>1.987020</td>\n",
       "      <td>0.249668</td>\n",
       "      <td>3.008718</td>\n",
       "      <td>2.259537</td>\n",
       "      <td>1.756935</td>\n",
       "      <td>-1.122737</td>\n",
       "      <td>-1.007397</td>\n",
       "    </tr>\n",
       "    <tr>\n",
       "      <th>OH</th>\n",
       "      <td>-0.414123</td>\n",
       "      <td>-0.525659</td>\n",
       "      <td>-0.054193</td>\n",
       "      <td>0.086419</td>\n",
       "      <td>-0.655353</td>\n",
       "      <td>-1.071871</td>\n",
       "      <td>-0.039573</td>\n",
       "    </tr>\n",
       "    <tr>\n",
       "      <th>OK</th>\n",
       "      <td>1.006962</td>\n",
       "      <td>0.685633</td>\n",
       "      <td>0.516452</td>\n",
       "      <td>1.060537</td>\n",
       "      <td>1.261171</td>\n",
       "      <td>-0.030858</td>\n",
       "      <td>1.804174</td>\n",
       "    </tr>\n",
       "    <tr>\n",
       "      <th>OR</th>\n",
       "      <td>-0.732642</td>\n",
       "      <td>-0.387511</td>\n",
       "      <td>-0.910453</td>\n",
       "      <td>-1.119301</td>\n",
       "      <td>-0.666621</td>\n",
       "      <td>-0.465888</td>\n",
       "      <td>-1.215195</td>\n",
       "    </tr>\n",
       "    <tr>\n",
       "      <th>PA</th>\n",
       "      <td>0.590437</td>\n",
       "      <td>2.053091</td>\n",
       "      <td>0.441106</td>\n",
       "      <td>0.873284</td>\n",
       "      <td>0.539524</td>\n",
       "      <td>0.107808</td>\n",
       "      <td>0.787552</td>\n",
       "    </tr>\n",
       "    <tr>\n",
       "      <th>RI</th>\n",
       "      <td>-1.149166</td>\n",
       "      <td>-0.612751</td>\n",
       "      <td>-0.390623</td>\n",
       "      <td>-0.752859</td>\n",
       "      <td>-1.404633</td>\n",
       "      <td>1.484269</td>\n",
       "      <td>0.572841</td>\n",
       "    </tr>\n",
       "    <tr>\n",
       "      <th>SC</th>\n",
       "      <td>1.987020</td>\n",
       "      <td>2.044082</td>\n",
       "      <td>2.869123</td>\n",
       "      <td>2.098939</td>\n",
       "      <td>1.436352</td>\n",
       "      <td>-0.158535</td>\n",
       "      <td>-0.740229</td>\n",
       "    </tr>\n",
       "    <tr>\n",
       "      <th>SD</th>\n",
       "      <td>0.884454</td>\n",
       "      <td>0.508444</td>\n",
       "      <td>0.885006</td>\n",
       "      <td>1.218224</td>\n",
       "      <td>0.718728</td>\n",
       "      <td>-1.232854</td>\n",
       "      <td>-1.529941</td>\n",
       "    </tr>\n",
       "    <tr>\n",
       "      <th>TN</th>\n",
       "      <td>0.908956</td>\n",
       "      <td>-0.452080</td>\n",
       "      <td>0.448699</td>\n",
       "      <td>0.541336</td>\n",
       "      <td>0.480236</td>\n",
       "      <td>-0.674340</td>\n",
       "      <td>0.857089</td>\n",
       "    </tr>\n",
       "    <tr>\n",
       "      <th>TX</th>\n",
       "      <td>0.884454</td>\n",
       "      <td>1.382376</td>\n",
       "      <td>1.451563</td>\n",
       "      <td>0.914050</td>\n",
       "      <td>0.770773</td>\n",
       "      <td>0.667229</td>\n",
       "      <td>0.908326</td>\n",
       "    </tr>\n",
       "    <tr>\n",
       "      <th>UT</th>\n",
       "      <td>-1.100163</td>\n",
       "      <td>-0.069672</td>\n",
       "      <td>-1.798254</td>\n",
       "      <td>-0.812887</td>\n",
       "      <td>-0.846898</td>\n",
       "      <td>-0.439435</td>\n",
       "      <td>-1.017157</td>\n",
       "    </tr>\n",
       "    <tr>\n",
       "      <th>VT</th>\n",
       "      <td>-0.536630</td>\n",
       "      <td>-0.459588</td>\n",
       "      <td>-0.471226</td>\n",
       "      <td>-0.115841</td>\n",
       "      <td>-0.291042</td>\n",
       "      <td>-0.967248</td>\n",
       "      <td>-1.011870</td>\n",
       "    </tr>\n",
       "    <tr>\n",
       "      <th>VA</th>\n",
       "      <td>-0.757143</td>\n",
       "      <td>-1.293978</td>\n",
       "      <td>-0.851461</td>\n",
       "      <td>-0.565382</td>\n",
       "      <td>-0.758906</td>\n",
       "      <td>-0.668448</td>\n",
       "      <td>0.781859</td>\n",
       "    </tr>\n",
       "    <tr>\n",
       "      <th>WA</th>\n",
       "      <td>-1.271674</td>\n",
       "      <td>-0.273390</td>\n",
       "      <td>-0.811160</td>\n",
       "      <td>-1.093318</td>\n",
       "      <td>-1.311543</td>\n",
       "      <td>0.017403</td>\n",
       "      <td>-0.930134</td>\n",
       "    </tr>\n",
       "    <tr>\n",
       "      <th>WV</th>\n",
       "      <td>1.962518</td>\n",
       "      <td>1.548553</td>\n",
       "      <td>1.038035</td>\n",
       "      <td>2.130745</td>\n",
       "      <td>1.797712</td>\n",
       "      <td>0.598463</td>\n",
       "      <td>0.734687</td>\n",
       "    </tr>\n",
       "    <tr>\n",
       "      <th>WI</th>\n",
       "      <td>-0.487627</td>\n",
       "      <td>-0.015114</td>\n",
       "      <td>-0.194372</td>\n",
       "      <td>-1.834714</td>\n",
       "      <td>-0.647305</td>\n",
       "      <td>-1.227190</td>\n",
       "      <td>-1.133459</td>\n",
       "    </tr>\n",
       "    <tr>\n",
       "      <th>WY</th>\n",
       "      <td>0.394425</td>\n",
       "      <td>1.156135</td>\n",
       "      <td>0.397884</td>\n",
       "      <td>0.116657</td>\n",
       "      <td>0.444019</td>\n",
       "      <td>-0.542754</td>\n",
       "      <td>-0.506406</td>\n",
       "    </tr>\n",
       "  </tbody>\n",
       "</table>\n",
       "</div>"
      ],
      "text/plain": [
       "           total  speeding   alcohol  not_distracted  no_previous  \\\n",
       "abbrev                                                              \n",
       "AL      0.737446  1.168148  0.439938        1.002301     0.277692   \n",
       "AK      0.565936  1.212695 -0.211311        0.608532     0.807258   \n",
       "AZ      0.688443  0.756709  0.187615        0.459357     1.033141   \n",
       "AR      1.619498 -0.483614  0.547408        1.676052     1.951700   \n",
       "CA     -0.928653 -0.399524 -0.891763       -0.594276    -0.891968   \n",
       "CO     -0.536630  0.016920 -0.630095       -0.633698    -0.291042   \n",
       "CT     -1.222671 -0.015114 -0.583369       -0.935632    -1.381293   \n",
       "DE      0.100408  0.579520 -0.015644        0.116657     0.545426   \n",
       "DC     -2.423242 -1.497695 -1.923831       -1.718689    -2.174301   \n",
       "FL      0.516933 -0.620259  0.177686        0.648402     0.756823   \n",
       "GA     -0.046601 -1.018184 -0.576360        0.279272     0.134972   \n",
       "HI      0.418927  2.228278  1.336499        0.173998     0.327322   \n",
       "ID     -0.120105  0.255174 -0.262710       -0.127264     0.265351   \n",
       "IL     -0.732642 -0.195306 -0.312356       -0.345203    -0.460589   \n",
       "IN     -0.316117 -0.687331 -0.398216        0.045206    -0.061671   \n",
       "IA     -0.022099 -1.165841 -0.561758        0.370882    -0.092790   \n",
       "KS      0.492431 -0.096201 -0.359083        0.029751     0.301836   \n",
       "KY      1.374484 -0.466596  0.020569        0.698575     0.606055   \n",
       "LA      1.153970  1.089564  1.097027        0.311750     1.632458   \n",
       "ME     -0.169108  0.370297 -0.208390       -0.097698    -0.354354   \n",
       "MD     -0.806146 -0.374497 -0.517952       -1.052329    -0.437249   \n",
       "MA     -1.859708 -1.557759 -1.177962       -1.442289    -1.997242   \n",
       "MI     -0.414123 -0.807960 -0.548324       -0.039909    -0.844484   \n",
       "MN     -1.516688 -1.396587 -1.228192       -1.147971    -1.490748   \n",
       "MS      0.443428 -1.180357  0.332467       -2.645993     0.964464   \n",
       "MO      0.075906  0.963429  0.342980        0.277480    -0.129007   \n",
       "MT      1.374484  1.675689  2.645420        0.986174     1.122744   \n",
       "NE     -0.218111 -1.532232  0.191704        0.063573    -0.159589   \n",
       "NV     -0.267114  0.220637 -0.106761        0.087763     0.147044   \n",
       "NH     -1.026659 -0.469599 -0.821673       -0.779737    -1.174189   \n",
       "NJ     -1.124665 -1.604809 -1.022597       -0.882771    -1.413486   \n",
       "NM      0.639440 -0.751900  0.047436       -0.278903     1.080357   \n",
       "NY     -0.855149 -0.531665 -0.770859       -0.615779    -1.117315   \n",
       "NC      0.247417  0.777731  0.187615        0.496987    -0.106472   \n",
       "ND      1.987020  0.249668  3.008718        2.259537     1.756935   \n",
       "OH     -0.414123 -0.525659 -0.054193        0.086419    -0.655353   \n",
       "OK      1.006962  0.685633  0.516452        1.060537     1.261171   \n",
       "OR     -0.732642 -0.387511 -0.910453       -1.119301    -0.666621   \n",
       "PA      0.590437  2.053091  0.441106        0.873284     0.539524   \n",
       "RI     -1.149166 -0.612751 -0.390623       -0.752859    -1.404633   \n",
       "SC      1.987020  2.044082  2.869123        2.098939     1.436352   \n",
       "SD      0.884454  0.508444  0.885006        1.218224     0.718728   \n",
       "TN      0.908956 -0.452080  0.448699        0.541336     0.480236   \n",
       "TX      0.884454  1.382376  1.451563        0.914050     0.770773   \n",
       "UT     -1.100163 -0.069672 -1.798254       -0.812887    -0.846898   \n",
       "VT     -0.536630 -0.459588 -0.471226       -0.115841    -0.291042   \n",
       "VA     -0.757143 -1.293978 -0.851461       -0.565382    -0.758906   \n",
       "WA     -1.271674 -0.273390 -0.811160       -1.093318    -1.311543   \n",
       "WV      1.962518  1.548553  1.038035        2.130745     1.797712   \n",
       "WI     -0.487627 -0.015114 -0.194372       -1.834714    -0.647305   \n",
       "WY      0.394425  1.156135  0.397884        0.116657     0.444019   \n",
       "\n",
       "        ins_premium  ins_losses  \n",
       "abbrev                           \n",
       "AL        -0.580083    0.430514  \n",
       "AK         0.943258   -0.022900  \n",
       "AZ         0.070876   -0.981778  \n",
       "AR        -0.337701    0.321125  \n",
       "CA        -0.048418    1.266178  \n",
       "CO        -0.291479    0.220276  \n",
       "CT         1.029641    1.322702  \n",
       "DE         1.421281    0.690769  \n",
       "DC         2.191759    0.063310  \n",
       "FL         1.547371    0.393915  \n",
       "GA         0.148365    0.337798  \n",
       "HI        -0.146016   -0.551950  \n",
       "ID        -1.387777   -2.104130  \n",
       "IL        -0.474951    0.189371  \n",
       "IN        -0.999762   -1.039929  \n",
       "IA        -1.347559   -0.814239  \n",
       "KS        -0.603307   -0.028186  \n",
       "KY        -0.081838    0.107228  \n",
       "LA         2.235149    2.451560  \n",
       "ME        -1.274941   -1.542141  \n",
       "MD         0.916635    2.366977  \n",
       "MA         0.703425    0.046230  \n",
       "MI         1.266868    0.722488  \n",
       "MN        -0.621830   -0.046486  \n",
       "MS         0.051616    0.865222  \n",
       "MO        -0.547399    0.404895  \n",
       "MT        -0.400747   -2.006534  \n",
       "NE        -0.876164   -0.800006  \n",
       "NV         0.809520    0.171478  \n",
       "NH        -0.795389   -0.580822  \n",
       "NJ         2.348268    1.031134  \n",
       "NM        -0.096905   -0.558863  \n",
       "NY         1.967560    0.630992  \n",
       "NC        -1.012337   -0.271363  \n",
       "ND        -1.122737   -1.007397  \n",
       "OH        -1.071871   -0.039573  \n",
       "OK        -0.030858    1.804174  \n",
       "OR        -0.465888   -1.215195  \n",
       "PA         0.107808    0.787552  \n",
       "RI         1.484269    0.572841  \n",
       "SC        -0.158535   -0.740229  \n",
       "SD        -1.232854   -1.529941  \n",
       "TN        -0.674340    0.857089  \n",
       "TX         0.667229    0.908326  \n",
       "UT        -0.439435   -1.017157  \n",
       "VT        -0.967248   -1.011870  \n",
       "VA        -0.668448    0.781859  \n",
       "WA         0.017403   -0.930134  \n",
       "WV         0.598463    0.734687  \n",
       "WI        -1.227190   -1.133459  \n",
       "WY        -0.542754   -0.506406  "
      ]
     },
     "execution_count": 7,
     "metadata": {},
     "output_type": "execute_result"
    }
   ],
   "source": [
    "df_scaled = pd.DataFrame(scaled, columns=df_crashes.columns, index=df_crashes.index)\n",
    "df_scaled"
   ]
  },
  {
   "cell_type": "markdown",
   "metadata": {},
   "source": [
    "## k-Means Model in Python"
   ]
  },
  {
   "cell_type": "markdown",
   "metadata": {},
   "source": [
    "### Import the Class"
   ]
  },
  {
   "cell_type": "code",
   "execution_count": 8,
   "metadata": {},
   "outputs": [],
   "source": [
    "from sklearn.cluster import KMeans"
   ]
  },
  {
   "cell_type": "markdown",
   "metadata": {},
   "source": [
    "### Instantiate the Class"
   ]
  },
  {
   "cell_type": "code",
   "execution_count": 9,
   "metadata": {},
   "outputs": [],
   "source": [
    "model_kms = KMeans(n_clusters=3)"
   ]
  },
  {
   "cell_type": "markdown",
   "metadata": {},
   "source": [
    "### Fit the Model"
   ]
  },
  {
   "cell_type": "code",
   "execution_count": 10,
   "metadata": {},
   "outputs": [
    {
     "name": "stderr",
     "output_type": "stream",
     "text": [
      "C:\\Anaconda\\lib\\site-packages\\sklearn\\cluster\\_kmeans.py:1334: UserWarning: KMeans is known to have a memory leak on Windows with MKL, when there are less chunks than available threads. You can avoid it by setting the environment variable OMP_NUM_THREADS=1.\n",
      "  warnings.warn(\n"
     ]
    },
    {
     "data": {
      "text/html": [
       "<style>#sk-container-id-2 {color: black;background-color: white;}#sk-container-id-2 pre{padding: 0;}#sk-container-id-2 div.sk-toggleable {background-color: white;}#sk-container-id-2 label.sk-toggleable__label {cursor: pointer;display: block;width: 100%;margin-bottom: 0;padding: 0.3em;box-sizing: border-box;text-align: center;}#sk-container-id-2 label.sk-toggleable__label-arrow:before {content: \"▸\";float: left;margin-right: 0.25em;color: #696969;}#sk-container-id-2 label.sk-toggleable__label-arrow:hover:before {color: black;}#sk-container-id-2 div.sk-estimator:hover label.sk-toggleable__label-arrow:before {color: black;}#sk-container-id-2 div.sk-toggleable__content {max-height: 0;max-width: 0;overflow: hidden;text-align: left;background-color: #f0f8ff;}#sk-container-id-2 div.sk-toggleable__content pre {margin: 0.2em;color: black;border-radius: 0.25em;background-color: #f0f8ff;}#sk-container-id-2 input.sk-toggleable__control:checked~div.sk-toggleable__content {max-height: 200px;max-width: 100%;overflow: auto;}#sk-container-id-2 input.sk-toggleable__control:checked~label.sk-toggleable__label-arrow:before {content: \"▾\";}#sk-container-id-2 div.sk-estimator input.sk-toggleable__control:checked~label.sk-toggleable__label {background-color: #d4ebff;}#sk-container-id-2 div.sk-label input.sk-toggleable__control:checked~label.sk-toggleable__label {background-color: #d4ebff;}#sk-container-id-2 input.sk-hidden--visually {border: 0;clip: rect(1px 1px 1px 1px);clip: rect(1px, 1px, 1px, 1px);height: 1px;margin: -1px;overflow: hidden;padding: 0;position: absolute;width: 1px;}#sk-container-id-2 div.sk-estimator {font-family: monospace;background-color: #f0f8ff;border: 1px dotted black;border-radius: 0.25em;box-sizing: border-box;margin-bottom: 0.5em;}#sk-container-id-2 div.sk-estimator:hover {background-color: #d4ebff;}#sk-container-id-2 div.sk-parallel-item::after {content: \"\";width: 100%;border-bottom: 1px solid gray;flex-grow: 1;}#sk-container-id-2 div.sk-label:hover label.sk-toggleable__label {background-color: #d4ebff;}#sk-container-id-2 div.sk-serial::before {content: \"\";position: absolute;border-left: 1px solid gray;box-sizing: border-box;top: 0;bottom: 0;left: 50%;z-index: 0;}#sk-container-id-2 div.sk-serial {display: flex;flex-direction: column;align-items: center;background-color: white;padding-right: 0.2em;padding-left: 0.2em;position: relative;}#sk-container-id-2 div.sk-item {position: relative;z-index: 1;}#sk-container-id-2 div.sk-parallel {display: flex;align-items: stretch;justify-content: center;background-color: white;position: relative;}#sk-container-id-2 div.sk-item::before, #sk-container-id-2 div.sk-parallel-item::before {content: \"\";position: absolute;border-left: 1px solid gray;box-sizing: border-box;top: 0;bottom: 0;left: 50%;z-index: -1;}#sk-container-id-2 div.sk-parallel-item {display: flex;flex-direction: column;z-index: 1;position: relative;background-color: white;}#sk-container-id-2 div.sk-parallel-item:first-child::after {align-self: flex-end;width: 50%;}#sk-container-id-2 div.sk-parallel-item:last-child::after {align-self: flex-start;width: 50%;}#sk-container-id-2 div.sk-parallel-item:only-child::after {width: 0;}#sk-container-id-2 div.sk-dashed-wrapped {border: 1px dashed gray;margin: 0 0.4em 0.5em 0.4em;box-sizing: border-box;padding-bottom: 0.4em;background-color: white;}#sk-container-id-2 div.sk-label label {font-family: monospace;font-weight: bold;display: inline-block;line-height: 1.2em;}#sk-container-id-2 div.sk-label-container {text-align: center;}#sk-container-id-2 div.sk-container {/* jupyter's `normalize.less` sets `[hidden] { display: none; }` but bootstrap.min.css set `[hidden] { display: none !important; }` so we also need the `!important` here to be able to override the default hidden behavior on the sphinx rendered scikit-learn.org. See: https://github.com/scikit-learn/scikit-learn/issues/21755 */display: inline-block !important;position: relative;}#sk-container-id-2 div.sk-text-repr-fallback {display: none;}</style><div id=\"sk-container-id-2\" class=\"sk-top-container\"><div class=\"sk-text-repr-fallback\"><pre>KMeans(n_clusters=3)</pre><b>In a Jupyter environment, please rerun this cell to show the HTML representation or trust the notebook. <br />On GitHub, the HTML representation is unable to render, please try loading this page with nbviewer.org.</b></div><div class=\"sk-container\" hidden><div class=\"sk-item\"><div class=\"sk-estimator sk-toggleable\"><input class=\"sk-toggleable__control sk-hidden--visually\" id=\"sk-estimator-id-2\" type=\"checkbox\" checked><label for=\"sk-estimator-id-2\" class=\"sk-toggleable__label sk-toggleable__label-arrow\">KMeans</label><div class=\"sk-toggleable__content\"><pre>KMeans(n_clusters=3)</pre></div></div></div></div></div>"
      ],
      "text/plain": [
       "KMeans(n_clusters=3)"
      ]
     },
     "execution_count": 10,
     "metadata": {},
     "output_type": "execute_result"
    }
   ],
   "source": [
    "model_kms.fit(X=df_scaled)"
   ]
  },
  {
   "cell_type": "markdown",
   "metadata": {},
   "source": [
    "### Calculate Predictions"
   ]
  },
  {
   "cell_type": "code",
   "execution_count": 11,
   "metadata": {},
   "outputs": [
    {
     "data": {
      "text/plain": [
       "array([1, 1, 1, 1, 0, 2, 0, 1, 0, 1, 2, 1, 2, 2, 2, 2, 2, 1, 1, 2, 0, 0,\n",
       "       0, 0, 2, 1, 1, 2, 2, 2, 0, 2, 0, 2, 1, 2, 1, 2, 1, 0, 1, 1, 1, 1,\n",
       "       2, 2, 2, 2, 1, 2, 1])"
      ]
     },
     "execution_count": 11,
     "metadata": {},
     "output_type": "execute_result"
    }
   ],
   "source": [
    "model_kms.predict(df_scaled)"
   ]
  },
  {
   "cell_type": "markdown",
   "metadata": {},
   "source": [
    "### Create a New DataFrame for the Predictions"
   ]
  },
  {
   "cell_type": "code",
   "execution_count": 12,
   "metadata": {},
   "outputs": [],
   "source": [
    "df_pred = df_scaled.copy()\n",
    "df_pred.insert(0, 'pred_kms', model_kms.predict(df_scaled))"
   ]
  },
  {
   "cell_type": "markdown",
   "metadata": {},
   "source": [
    "### Create a New Column for the Predictions"
   ]
  },
  {
   "cell_type": "code",
   "execution_count": 13,
   "metadata": {},
   "outputs": [
    {
     "data": {
      "text/html": [
       "<div>\n",
       "<style scoped>\n",
       "    .dataframe tbody tr th:only-of-type {\n",
       "        vertical-align: middle;\n",
       "    }\n",
       "\n",
       "    .dataframe tbody tr th {\n",
       "        vertical-align: top;\n",
       "    }\n",
       "\n",
       "    .dataframe thead th {\n",
       "        text-align: right;\n",
       "    }\n",
       "</style>\n",
       "<table border=\"1\" class=\"dataframe\">\n",
       "  <thead>\n",
       "    <tr style=\"text-align: right;\">\n",
       "      <th></th>\n",
       "      <th>pred_kms</th>\n",
       "      <th>total</th>\n",
       "      <th>speeding</th>\n",
       "      <th>alcohol</th>\n",
       "      <th>not_distracted</th>\n",
       "      <th>no_previous</th>\n",
       "      <th>ins_premium</th>\n",
       "      <th>ins_losses</th>\n",
       "    </tr>\n",
       "    <tr>\n",
       "      <th>abbrev</th>\n",
       "      <th></th>\n",
       "      <th></th>\n",
       "      <th></th>\n",
       "      <th></th>\n",
       "      <th></th>\n",
       "      <th></th>\n",
       "      <th></th>\n",
       "      <th></th>\n",
       "    </tr>\n",
       "  </thead>\n",
       "  <tbody>\n",
       "    <tr>\n",
       "      <th>AL</th>\n",
       "      <td>1</td>\n",
       "      <td>0.737446</td>\n",
       "      <td>1.168148</td>\n",
       "      <td>0.439938</td>\n",
       "      <td>1.002301</td>\n",
       "      <td>0.277692</td>\n",
       "      <td>-0.580083</td>\n",
       "      <td>0.430514</td>\n",
       "    </tr>\n",
       "    <tr>\n",
       "      <th>AK</th>\n",
       "      <td>1</td>\n",
       "      <td>0.565936</td>\n",
       "      <td>1.212695</td>\n",
       "      <td>-0.211311</td>\n",
       "      <td>0.608532</td>\n",
       "      <td>0.807258</td>\n",
       "      <td>0.943258</td>\n",
       "      <td>-0.022900</td>\n",
       "    </tr>\n",
       "    <tr>\n",
       "      <th>AZ</th>\n",
       "      <td>1</td>\n",
       "      <td>0.688443</td>\n",
       "      <td>0.756709</td>\n",
       "      <td>0.187615</td>\n",
       "      <td>0.459357</td>\n",
       "      <td>1.033141</td>\n",
       "      <td>0.070876</td>\n",
       "      <td>-0.981778</td>\n",
       "    </tr>\n",
       "    <tr>\n",
       "      <th>AR</th>\n",
       "      <td>1</td>\n",
       "      <td>1.619498</td>\n",
       "      <td>-0.483614</td>\n",
       "      <td>0.547408</td>\n",
       "      <td>1.676052</td>\n",
       "      <td>1.951700</td>\n",
       "      <td>-0.337701</td>\n",
       "      <td>0.321125</td>\n",
       "    </tr>\n",
       "    <tr>\n",
       "      <th>CA</th>\n",
       "      <td>0</td>\n",
       "      <td>-0.928653</td>\n",
       "      <td>-0.399524</td>\n",
       "      <td>-0.891763</td>\n",
       "      <td>-0.594276</td>\n",
       "      <td>-0.891968</td>\n",
       "      <td>-0.048418</td>\n",
       "      <td>1.266178</td>\n",
       "    </tr>\n",
       "    <tr>\n",
       "      <th>CO</th>\n",
       "      <td>2</td>\n",
       "      <td>-0.536630</td>\n",
       "      <td>0.016920</td>\n",
       "      <td>-0.630095</td>\n",
       "      <td>-0.633698</td>\n",
       "      <td>-0.291042</td>\n",
       "      <td>-0.291479</td>\n",
       "      <td>0.220276</td>\n",
       "    </tr>\n",
       "    <tr>\n",
       "      <th>CT</th>\n",
       "      <td>0</td>\n",
       "      <td>-1.222671</td>\n",
       "      <td>-0.015114</td>\n",
       "      <td>-0.583369</td>\n",
       "      <td>-0.935632</td>\n",
       "      <td>-1.381293</td>\n",
       "      <td>1.029641</td>\n",
       "      <td>1.322702</td>\n",
       "    </tr>\n",
       "    <tr>\n",
       "      <th>DE</th>\n",
       "      <td>1</td>\n",
       "      <td>0.100408</td>\n",
       "      <td>0.579520</td>\n",
       "      <td>-0.015644</td>\n",
       "      <td>0.116657</td>\n",
       "      <td>0.545426</td>\n",
       "      <td>1.421281</td>\n",
       "      <td>0.690769</td>\n",
       "    </tr>\n",
       "    <tr>\n",
       "      <th>DC</th>\n",
       "      <td>0</td>\n",
       "      <td>-2.423242</td>\n",
       "      <td>-1.497695</td>\n",
       "      <td>-1.923831</td>\n",
       "      <td>-1.718689</td>\n",
       "      <td>-2.174301</td>\n",
       "      <td>2.191759</td>\n",
       "      <td>0.063310</td>\n",
       "    </tr>\n",
       "    <tr>\n",
       "      <th>FL</th>\n",
       "      <td>1</td>\n",
       "      <td>0.516933</td>\n",
       "      <td>-0.620259</td>\n",
       "      <td>0.177686</td>\n",
       "      <td>0.648402</td>\n",
       "      <td>0.756823</td>\n",
       "      <td>1.547371</td>\n",
       "      <td>0.393915</td>\n",
       "    </tr>\n",
       "    <tr>\n",
       "      <th>GA</th>\n",
       "      <td>2</td>\n",
       "      <td>-0.046601</td>\n",
       "      <td>-1.018184</td>\n",
       "      <td>-0.576360</td>\n",
       "      <td>0.279272</td>\n",
       "      <td>0.134972</td>\n",
       "      <td>0.148365</td>\n",
       "      <td>0.337798</td>\n",
       "    </tr>\n",
       "    <tr>\n",
       "      <th>HI</th>\n",
       "      <td>1</td>\n",
       "      <td>0.418927</td>\n",
       "      <td>2.228278</td>\n",
       "      <td>1.336499</td>\n",
       "      <td>0.173998</td>\n",
       "      <td>0.327322</td>\n",
       "      <td>-0.146016</td>\n",
       "      <td>-0.551950</td>\n",
       "    </tr>\n",
       "    <tr>\n",
       "      <th>ID</th>\n",
       "      <td>2</td>\n",
       "      <td>-0.120105</td>\n",
       "      <td>0.255174</td>\n",
       "      <td>-0.262710</td>\n",
       "      <td>-0.127264</td>\n",
       "      <td>0.265351</td>\n",
       "      <td>-1.387777</td>\n",
       "      <td>-2.104130</td>\n",
       "    </tr>\n",
       "    <tr>\n",
       "      <th>IL</th>\n",
       "      <td>2</td>\n",
       "      <td>-0.732642</td>\n",
       "      <td>-0.195306</td>\n",
       "      <td>-0.312356</td>\n",
       "      <td>-0.345203</td>\n",
       "      <td>-0.460589</td>\n",
       "      <td>-0.474951</td>\n",
       "      <td>0.189371</td>\n",
       "    </tr>\n",
       "    <tr>\n",
       "      <th>IN</th>\n",
       "      <td>2</td>\n",
       "      <td>-0.316117</td>\n",
       "      <td>-0.687331</td>\n",
       "      <td>-0.398216</td>\n",
       "      <td>0.045206</td>\n",
       "      <td>-0.061671</td>\n",
       "      <td>-0.999762</td>\n",
       "      <td>-1.039929</td>\n",
       "    </tr>\n",
       "    <tr>\n",
       "      <th>IA</th>\n",
       "      <td>2</td>\n",
       "      <td>-0.022099</td>\n",
       "      <td>-1.165841</td>\n",
       "      <td>-0.561758</td>\n",
       "      <td>0.370882</td>\n",
       "      <td>-0.092790</td>\n",
       "      <td>-1.347559</td>\n",
       "      <td>-0.814239</td>\n",
       "    </tr>\n",
       "    <tr>\n",
       "      <th>KS</th>\n",
       "      <td>2</td>\n",
       "      <td>0.492431</td>\n",
       "      <td>-0.096201</td>\n",
       "      <td>-0.359083</td>\n",
       "      <td>0.029751</td>\n",
       "      <td>0.301836</td>\n",
       "      <td>-0.603307</td>\n",
       "      <td>-0.028186</td>\n",
       "    </tr>\n",
       "    <tr>\n",
       "      <th>KY</th>\n",
       "      <td>1</td>\n",
       "      <td>1.374484</td>\n",
       "      <td>-0.466596</td>\n",
       "      <td>0.020569</td>\n",
       "      <td>0.698575</td>\n",
       "      <td>0.606055</td>\n",
       "      <td>-0.081838</td>\n",
       "      <td>0.107228</td>\n",
       "    </tr>\n",
       "    <tr>\n",
       "      <th>LA</th>\n",
       "      <td>1</td>\n",
       "      <td>1.153970</td>\n",
       "      <td>1.089564</td>\n",
       "      <td>1.097027</td>\n",
       "      <td>0.311750</td>\n",
       "      <td>1.632458</td>\n",
       "      <td>2.235149</td>\n",
       "      <td>2.451560</td>\n",
       "    </tr>\n",
       "    <tr>\n",
       "      <th>ME</th>\n",
       "      <td>2</td>\n",
       "      <td>-0.169108</td>\n",
       "      <td>0.370297</td>\n",
       "      <td>-0.208390</td>\n",
       "      <td>-0.097698</td>\n",
       "      <td>-0.354354</td>\n",
       "      <td>-1.274941</td>\n",
       "      <td>-1.542141</td>\n",
       "    </tr>\n",
       "    <tr>\n",
       "      <th>MD</th>\n",
       "      <td>0</td>\n",
       "      <td>-0.806146</td>\n",
       "      <td>-0.374497</td>\n",
       "      <td>-0.517952</td>\n",
       "      <td>-1.052329</td>\n",
       "      <td>-0.437249</td>\n",
       "      <td>0.916635</td>\n",
       "      <td>2.366977</td>\n",
       "    </tr>\n",
       "    <tr>\n",
       "      <th>MA</th>\n",
       "      <td>0</td>\n",
       "      <td>-1.859708</td>\n",
       "      <td>-1.557759</td>\n",
       "      <td>-1.177962</td>\n",
       "      <td>-1.442289</td>\n",
       "      <td>-1.997242</td>\n",
       "      <td>0.703425</td>\n",
       "      <td>0.046230</td>\n",
       "    </tr>\n",
       "    <tr>\n",
       "      <th>MI</th>\n",
       "      <td>0</td>\n",
       "      <td>-0.414123</td>\n",
       "      <td>-0.807960</td>\n",
       "      <td>-0.548324</td>\n",
       "      <td>-0.039909</td>\n",
       "      <td>-0.844484</td>\n",
       "      <td>1.266868</td>\n",
       "      <td>0.722488</td>\n",
       "    </tr>\n",
       "    <tr>\n",
       "      <th>MN</th>\n",
       "      <td>0</td>\n",
       "      <td>-1.516688</td>\n",
       "      <td>-1.396587</td>\n",
       "      <td>-1.228192</td>\n",
       "      <td>-1.147971</td>\n",
       "      <td>-1.490748</td>\n",
       "      <td>-0.621830</td>\n",
       "      <td>-0.046486</td>\n",
       "    </tr>\n",
       "    <tr>\n",
       "      <th>MS</th>\n",
       "      <td>2</td>\n",
       "      <td>0.443428</td>\n",
       "      <td>-1.180357</td>\n",
       "      <td>0.332467</td>\n",
       "      <td>-2.645993</td>\n",
       "      <td>0.964464</td>\n",
       "      <td>0.051616</td>\n",
       "      <td>0.865222</td>\n",
       "    </tr>\n",
       "    <tr>\n",
       "      <th>MO</th>\n",
       "      <td>1</td>\n",
       "      <td>0.075906</td>\n",
       "      <td>0.963429</td>\n",
       "      <td>0.342980</td>\n",
       "      <td>0.277480</td>\n",
       "      <td>-0.129007</td>\n",
       "      <td>-0.547399</td>\n",
       "      <td>0.404895</td>\n",
       "    </tr>\n",
       "    <tr>\n",
       "      <th>MT</th>\n",
       "      <td>1</td>\n",
       "      <td>1.374484</td>\n",
       "      <td>1.675689</td>\n",
       "      <td>2.645420</td>\n",
       "      <td>0.986174</td>\n",
       "      <td>1.122744</td>\n",
       "      <td>-0.400747</td>\n",
       "      <td>-2.006534</td>\n",
       "    </tr>\n",
       "    <tr>\n",
       "      <th>NE</th>\n",
       "      <td>2</td>\n",
       "      <td>-0.218111</td>\n",
       "      <td>-1.532232</td>\n",
       "      <td>0.191704</td>\n",
       "      <td>0.063573</td>\n",
       "      <td>-0.159589</td>\n",
       "      <td>-0.876164</td>\n",
       "      <td>-0.800006</td>\n",
       "    </tr>\n",
       "    <tr>\n",
       "      <th>NV</th>\n",
       "      <td>2</td>\n",
       "      <td>-0.267114</td>\n",
       "      <td>0.220637</td>\n",
       "      <td>-0.106761</td>\n",
       "      <td>0.087763</td>\n",
       "      <td>0.147044</td>\n",
       "      <td>0.809520</td>\n",
       "      <td>0.171478</td>\n",
       "    </tr>\n",
       "    <tr>\n",
       "      <th>NH</th>\n",
       "      <td>2</td>\n",
       "      <td>-1.026659</td>\n",
       "      <td>-0.469599</td>\n",
       "      <td>-0.821673</td>\n",
       "      <td>-0.779737</td>\n",
       "      <td>-1.174189</td>\n",
       "      <td>-0.795389</td>\n",
       "      <td>-0.580822</td>\n",
       "    </tr>\n",
       "    <tr>\n",
       "      <th>NJ</th>\n",
       "      <td>0</td>\n",
       "      <td>-1.124665</td>\n",
       "      <td>-1.604809</td>\n",
       "      <td>-1.022597</td>\n",
       "      <td>-0.882771</td>\n",
       "      <td>-1.413486</td>\n",
       "      <td>2.348268</td>\n",
       "      <td>1.031134</td>\n",
       "    </tr>\n",
       "    <tr>\n",
       "      <th>NM</th>\n",
       "      <td>2</td>\n",
       "      <td>0.639440</td>\n",
       "      <td>-0.751900</td>\n",
       "      <td>0.047436</td>\n",
       "      <td>-0.278903</td>\n",
       "      <td>1.080357</td>\n",
       "      <td>-0.096905</td>\n",
       "      <td>-0.558863</td>\n",
       "    </tr>\n",
       "    <tr>\n",
       "      <th>NY</th>\n",
       "      <td>0</td>\n",
       "      <td>-0.855149</td>\n",
       "      <td>-0.531665</td>\n",
       "      <td>-0.770859</td>\n",
       "      <td>-0.615779</td>\n",
       "      <td>-1.117315</td>\n",
       "      <td>1.967560</td>\n",
       "      <td>0.630992</td>\n",
       "    </tr>\n",
       "    <tr>\n",
       "      <th>NC</th>\n",
       "      <td>2</td>\n",
       "      <td>0.247417</td>\n",
       "      <td>0.777731</td>\n",
       "      <td>0.187615</td>\n",
       "      <td>0.496987</td>\n",
       "      <td>-0.106472</td>\n",
       "      <td>-1.012337</td>\n",
       "      <td>-0.271363</td>\n",
       "    </tr>\n",
       "    <tr>\n",
       "      <th>ND</th>\n",
       "      <td>1</td>\n",
       "      <td>1.987020</td>\n",
       "      <td>0.249668</td>\n",
       "      <td>3.008718</td>\n",
       "      <td>2.259537</td>\n",
       "      <td>1.756935</td>\n",
       "      <td>-1.122737</td>\n",
       "      <td>-1.007397</td>\n",
       "    </tr>\n",
       "    <tr>\n",
       "      <th>OH</th>\n",
       "      <td>2</td>\n",
       "      <td>-0.414123</td>\n",
       "      <td>-0.525659</td>\n",
       "      <td>-0.054193</td>\n",
       "      <td>0.086419</td>\n",
       "      <td>-0.655353</td>\n",
       "      <td>-1.071871</td>\n",
       "      <td>-0.039573</td>\n",
       "    </tr>\n",
       "    <tr>\n",
       "      <th>OK</th>\n",
       "      <td>1</td>\n",
       "      <td>1.006962</td>\n",
       "      <td>0.685633</td>\n",
       "      <td>0.516452</td>\n",
       "      <td>1.060537</td>\n",
       "      <td>1.261171</td>\n",
       "      <td>-0.030858</td>\n",
       "      <td>1.804174</td>\n",
       "    </tr>\n",
       "    <tr>\n",
       "      <th>OR</th>\n",
       "      <td>2</td>\n",
       "      <td>-0.732642</td>\n",
       "      <td>-0.387511</td>\n",
       "      <td>-0.910453</td>\n",
       "      <td>-1.119301</td>\n",
       "      <td>-0.666621</td>\n",
       "      <td>-0.465888</td>\n",
       "      <td>-1.215195</td>\n",
       "    </tr>\n",
       "    <tr>\n",
       "      <th>PA</th>\n",
       "      <td>1</td>\n",
       "      <td>0.590437</td>\n",
       "      <td>2.053091</td>\n",
       "      <td>0.441106</td>\n",
       "      <td>0.873284</td>\n",
       "      <td>0.539524</td>\n",
       "      <td>0.107808</td>\n",
       "      <td>0.787552</td>\n",
       "    </tr>\n",
       "    <tr>\n",
       "      <th>RI</th>\n",
       "      <td>0</td>\n",
       "      <td>-1.149166</td>\n",
       "      <td>-0.612751</td>\n",
       "      <td>-0.390623</td>\n",
       "      <td>-0.752859</td>\n",
       "      <td>-1.404633</td>\n",
       "      <td>1.484269</td>\n",
       "      <td>0.572841</td>\n",
       "    </tr>\n",
       "    <tr>\n",
       "      <th>SC</th>\n",
       "      <td>1</td>\n",
       "      <td>1.987020</td>\n",
       "      <td>2.044082</td>\n",
       "      <td>2.869123</td>\n",
       "      <td>2.098939</td>\n",
       "      <td>1.436352</td>\n",
       "      <td>-0.158535</td>\n",
       "      <td>-0.740229</td>\n",
       "    </tr>\n",
       "    <tr>\n",
       "      <th>SD</th>\n",
       "      <td>1</td>\n",
       "      <td>0.884454</td>\n",
       "      <td>0.508444</td>\n",
       "      <td>0.885006</td>\n",
       "      <td>1.218224</td>\n",
       "      <td>0.718728</td>\n",
       "      <td>-1.232854</td>\n",
       "      <td>-1.529941</td>\n",
       "    </tr>\n",
       "    <tr>\n",
       "      <th>TN</th>\n",
       "      <td>1</td>\n",
       "      <td>0.908956</td>\n",
       "      <td>-0.452080</td>\n",
       "      <td>0.448699</td>\n",
       "      <td>0.541336</td>\n",
       "      <td>0.480236</td>\n",
       "      <td>-0.674340</td>\n",
       "      <td>0.857089</td>\n",
       "    </tr>\n",
       "    <tr>\n",
       "      <th>TX</th>\n",
       "      <td>1</td>\n",
       "      <td>0.884454</td>\n",
       "      <td>1.382376</td>\n",
       "      <td>1.451563</td>\n",
       "      <td>0.914050</td>\n",
       "      <td>0.770773</td>\n",
       "      <td>0.667229</td>\n",
       "      <td>0.908326</td>\n",
       "    </tr>\n",
       "    <tr>\n",
       "      <th>UT</th>\n",
       "      <td>2</td>\n",
       "      <td>-1.100163</td>\n",
       "      <td>-0.069672</td>\n",
       "      <td>-1.798254</td>\n",
       "      <td>-0.812887</td>\n",
       "      <td>-0.846898</td>\n",
       "      <td>-0.439435</td>\n",
       "      <td>-1.017157</td>\n",
       "    </tr>\n",
       "    <tr>\n",
       "      <th>VT</th>\n",
       "      <td>2</td>\n",
       "      <td>-0.536630</td>\n",
       "      <td>-0.459588</td>\n",
       "      <td>-0.471226</td>\n",
       "      <td>-0.115841</td>\n",
       "      <td>-0.291042</td>\n",
       "      <td>-0.967248</td>\n",
       "      <td>-1.011870</td>\n",
       "    </tr>\n",
       "    <tr>\n",
       "      <th>VA</th>\n",
       "      <td>2</td>\n",
       "      <td>-0.757143</td>\n",
       "      <td>-1.293978</td>\n",
       "      <td>-0.851461</td>\n",
       "      <td>-0.565382</td>\n",
       "      <td>-0.758906</td>\n",
       "      <td>-0.668448</td>\n",
       "      <td>0.781859</td>\n",
       "    </tr>\n",
       "    <tr>\n",
       "      <th>WA</th>\n",
       "      <td>2</td>\n",
       "      <td>-1.271674</td>\n",
       "      <td>-0.273390</td>\n",
       "      <td>-0.811160</td>\n",
       "      <td>-1.093318</td>\n",
       "      <td>-1.311543</td>\n",
       "      <td>0.017403</td>\n",
       "      <td>-0.930134</td>\n",
       "    </tr>\n",
       "    <tr>\n",
       "      <th>WV</th>\n",
       "      <td>1</td>\n",
       "      <td>1.962518</td>\n",
       "      <td>1.548553</td>\n",
       "      <td>1.038035</td>\n",
       "      <td>2.130745</td>\n",
       "      <td>1.797712</td>\n",
       "      <td>0.598463</td>\n",
       "      <td>0.734687</td>\n",
       "    </tr>\n",
       "    <tr>\n",
       "      <th>WI</th>\n",
       "      <td>2</td>\n",
       "      <td>-0.487627</td>\n",
       "      <td>-0.015114</td>\n",
       "      <td>-0.194372</td>\n",
       "      <td>-1.834714</td>\n",
       "      <td>-0.647305</td>\n",
       "      <td>-1.227190</td>\n",
       "      <td>-1.133459</td>\n",
       "    </tr>\n",
       "    <tr>\n",
       "      <th>WY</th>\n",
       "      <td>1</td>\n",
       "      <td>0.394425</td>\n",
       "      <td>1.156135</td>\n",
       "      <td>0.397884</td>\n",
       "      <td>0.116657</td>\n",
       "      <td>0.444019</td>\n",
       "      <td>-0.542754</td>\n",
       "      <td>-0.506406</td>\n",
       "    </tr>\n",
       "  </tbody>\n",
       "</table>\n",
       "</div>"
      ],
      "text/plain": [
       "        pred_kms     total  speeding   alcohol  not_distracted  no_previous  \\\n",
       "abbrev                                                                        \n",
       "AL             1  0.737446  1.168148  0.439938        1.002301     0.277692   \n",
       "AK             1  0.565936  1.212695 -0.211311        0.608532     0.807258   \n",
       "AZ             1  0.688443  0.756709  0.187615        0.459357     1.033141   \n",
       "AR             1  1.619498 -0.483614  0.547408        1.676052     1.951700   \n",
       "CA             0 -0.928653 -0.399524 -0.891763       -0.594276    -0.891968   \n",
       "CO             2 -0.536630  0.016920 -0.630095       -0.633698    -0.291042   \n",
       "CT             0 -1.222671 -0.015114 -0.583369       -0.935632    -1.381293   \n",
       "DE             1  0.100408  0.579520 -0.015644        0.116657     0.545426   \n",
       "DC             0 -2.423242 -1.497695 -1.923831       -1.718689    -2.174301   \n",
       "FL             1  0.516933 -0.620259  0.177686        0.648402     0.756823   \n",
       "GA             2 -0.046601 -1.018184 -0.576360        0.279272     0.134972   \n",
       "HI             1  0.418927  2.228278  1.336499        0.173998     0.327322   \n",
       "ID             2 -0.120105  0.255174 -0.262710       -0.127264     0.265351   \n",
       "IL             2 -0.732642 -0.195306 -0.312356       -0.345203    -0.460589   \n",
       "IN             2 -0.316117 -0.687331 -0.398216        0.045206    -0.061671   \n",
       "IA             2 -0.022099 -1.165841 -0.561758        0.370882    -0.092790   \n",
       "KS             2  0.492431 -0.096201 -0.359083        0.029751     0.301836   \n",
       "KY             1  1.374484 -0.466596  0.020569        0.698575     0.606055   \n",
       "LA             1  1.153970  1.089564  1.097027        0.311750     1.632458   \n",
       "ME             2 -0.169108  0.370297 -0.208390       -0.097698    -0.354354   \n",
       "MD             0 -0.806146 -0.374497 -0.517952       -1.052329    -0.437249   \n",
       "MA             0 -1.859708 -1.557759 -1.177962       -1.442289    -1.997242   \n",
       "MI             0 -0.414123 -0.807960 -0.548324       -0.039909    -0.844484   \n",
       "MN             0 -1.516688 -1.396587 -1.228192       -1.147971    -1.490748   \n",
       "MS             2  0.443428 -1.180357  0.332467       -2.645993     0.964464   \n",
       "MO             1  0.075906  0.963429  0.342980        0.277480    -0.129007   \n",
       "MT             1  1.374484  1.675689  2.645420        0.986174     1.122744   \n",
       "NE             2 -0.218111 -1.532232  0.191704        0.063573    -0.159589   \n",
       "NV             2 -0.267114  0.220637 -0.106761        0.087763     0.147044   \n",
       "NH             2 -1.026659 -0.469599 -0.821673       -0.779737    -1.174189   \n",
       "NJ             0 -1.124665 -1.604809 -1.022597       -0.882771    -1.413486   \n",
       "NM             2  0.639440 -0.751900  0.047436       -0.278903     1.080357   \n",
       "NY             0 -0.855149 -0.531665 -0.770859       -0.615779    -1.117315   \n",
       "NC             2  0.247417  0.777731  0.187615        0.496987    -0.106472   \n",
       "ND             1  1.987020  0.249668  3.008718        2.259537     1.756935   \n",
       "OH             2 -0.414123 -0.525659 -0.054193        0.086419    -0.655353   \n",
       "OK             1  1.006962  0.685633  0.516452        1.060537     1.261171   \n",
       "OR             2 -0.732642 -0.387511 -0.910453       -1.119301    -0.666621   \n",
       "PA             1  0.590437  2.053091  0.441106        0.873284     0.539524   \n",
       "RI             0 -1.149166 -0.612751 -0.390623       -0.752859    -1.404633   \n",
       "SC             1  1.987020  2.044082  2.869123        2.098939     1.436352   \n",
       "SD             1  0.884454  0.508444  0.885006        1.218224     0.718728   \n",
       "TN             1  0.908956 -0.452080  0.448699        0.541336     0.480236   \n",
       "TX             1  0.884454  1.382376  1.451563        0.914050     0.770773   \n",
       "UT             2 -1.100163 -0.069672 -1.798254       -0.812887    -0.846898   \n",
       "VT             2 -0.536630 -0.459588 -0.471226       -0.115841    -0.291042   \n",
       "VA             2 -0.757143 -1.293978 -0.851461       -0.565382    -0.758906   \n",
       "WA             2 -1.271674 -0.273390 -0.811160       -1.093318    -1.311543   \n",
       "WV             1  1.962518  1.548553  1.038035        2.130745     1.797712   \n",
       "WI             2 -0.487627 -0.015114 -0.194372       -1.834714    -0.647305   \n",
       "WY             1  0.394425  1.156135  0.397884        0.116657     0.444019   \n",
       "\n",
       "        ins_premium  ins_losses  \n",
       "abbrev                           \n",
       "AL        -0.580083    0.430514  \n",
       "AK         0.943258   -0.022900  \n",
       "AZ         0.070876   -0.981778  \n",
       "AR        -0.337701    0.321125  \n",
       "CA        -0.048418    1.266178  \n",
       "CO        -0.291479    0.220276  \n",
       "CT         1.029641    1.322702  \n",
       "DE         1.421281    0.690769  \n",
       "DC         2.191759    0.063310  \n",
       "FL         1.547371    0.393915  \n",
       "GA         0.148365    0.337798  \n",
       "HI        -0.146016   -0.551950  \n",
       "ID        -1.387777   -2.104130  \n",
       "IL        -0.474951    0.189371  \n",
       "IN        -0.999762   -1.039929  \n",
       "IA        -1.347559   -0.814239  \n",
       "KS        -0.603307   -0.028186  \n",
       "KY        -0.081838    0.107228  \n",
       "LA         2.235149    2.451560  \n",
       "ME        -1.274941   -1.542141  \n",
       "MD         0.916635    2.366977  \n",
       "MA         0.703425    0.046230  \n",
       "MI         1.266868    0.722488  \n",
       "MN        -0.621830   -0.046486  \n",
       "MS         0.051616    0.865222  \n",
       "MO        -0.547399    0.404895  \n",
       "MT        -0.400747   -2.006534  \n",
       "NE        -0.876164   -0.800006  \n",
       "NV         0.809520    0.171478  \n",
       "NH        -0.795389   -0.580822  \n",
       "NJ         2.348268    1.031134  \n",
       "NM        -0.096905   -0.558863  \n",
       "NY         1.967560    0.630992  \n",
       "NC        -1.012337   -0.271363  \n",
       "ND        -1.122737   -1.007397  \n",
       "OH        -1.071871   -0.039573  \n",
       "OK        -0.030858    1.804174  \n",
       "OR        -0.465888   -1.215195  \n",
       "PA         0.107808    0.787552  \n",
       "RI         1.484269    0.572841  \n",
       "SC        -0.158535   -0.740229  \n",
       "SD        -1.232854   -1.529941  \n",
       "TN        -0.674340    0.857089  \n",
       "TX         0.667229    0.908326  \n",
       "UT        -0.439435   -1.017157  \n",
       "VT        -0.967248   -1.011870  \n",
       "VA        -0.668448    0.781859  \n",
       "WA         0.017403   -0.930134  \n",
       "WV         0.598463    0.734687  \n",
       "WI        -1.227190   -1.133459  \n",
       "WY        -0.542754   -0.506406  "
      ]
     },
     "execution_count": 13,
     "metadata": {},
     "output_type": "execute_result"
    }
   ],
   "source": [
    "df_pred"
   ]
  },
  {
   "cell_type": "markdown",
   "metadata": {},
   "source": [
    "### Visualize the Model"
   ]
  },
  {
   "cell_type": "code",
   "execution_count": 14,
   "metadata": {},
   "outputs": [
    {
     "data": {
      "image/png": "[encoded data removed]",
      "text/plain": [
       "<Figure size 640x480 with 1 Axes>"
      ]
     },
     "metadata": {},
     "output_type": "display_data"
    }
   ],
   "source": [
    "sns.scatterplot(x='alcohol', y='ins_premium', data=df_pred, hue='pred_kms', palette='Set1');"
   ]
  },
  {
   "cell_type": "markdown",
   "metadata": {},
   "source": [
    "### Model Interpretation"
   ]
  },
  {
   "cell_type": "code",
   "execution_count": 15,
   "metadata": {},
   "outputs": [
    {
     "data": {
      "text/plain": [
       "{'n_clusters': 3,\n",
       " 'init': 'k-means++',\n",
       " 'max_iter': 300,\n",
       " 'tol': 0.0001,\n",
       " 'n_init': 10,\n",
       " 'verbose': 0,\n",
       " 'random_state': None,\n",
       " 'copy_x': True,\n",
       " 'algorithm': 'lloyd',\n",
       " 'feature_names_in_': array(['total', 'speeding', 'alcohol', 'not_distracted', 'no_previous',\n",
       "        'ins_premium', 'ins_losses'], dtype=object),\n",
       " 'n_features_in_': 7,\n",
       " '_n_init': 10,\n",
       " '_tol': 0.0001,\n",
       " '_algorithm': 'lloyd',\n",
       " '_n_threads': 4,\n",
       " 'cluster_centers_': array([[-1.23002106, -0.87983624, -0.90554717, -0.91825024, -1.31527198,\n",
       "          1.12381767,  0.79763658],\n",
       "        [ 0.96163405,  0.86397325,  0.88123859,  0.90862935,  0.90685299,\n",
       "          0.08677855,  0.12723491],\n",
       "        [-0.33011764, -0.40386203, -0.40806191, -0.42809927, -0.23734953,\n",
       "         -0.61779751, -0.50100305]]),\n",
       " '_n_features_out': 3,\n",
       " 'labels_': array([1, 1, 1, 1, 0, 2, 0, 1, 0, 1, 2, 1, 2, 2, 2, 2, 2, 1, 1, 2, 0, 0,\n",
       "        0, 0, 2, 1, 1, 2, 2, 2, 0, 2, 0, 2, 1, 2, 1, 2, 1, 0, 1, 1, 1, 1,\n",
       "        2, 2, 2, 2, 1, 2, 1]),\n",
       " 'inertia_': 171.2880174049714,\n",
       " 'n_iter_': 6}"
      ]
     },
     "execution_count": 15,
     "metadata": {},
     "output_type": "execute_result"
    }
   ],
   "source": [
    "model_kms.__dict__"
   ]
  },
  {
   "cell_type": "markdown",
   "metadata": {},
   "source": [
    "## [ ] Grouping Variables with `PCA()`"
   ]
  },
  {
   "cell_type": "markdown",
   "metadata": {},
   "source": [
    "You need to group the original variables of the `DataFrame` in to components so that the groups are clearly separated from each other when we visualize it:"
   ]
  },
  {
   "cell_type": "markdown",
   "metadata": {},
   "source": [
    "![](src/pca.png)"
   ]
  },
  {
   "cell_type": "markdown",
   "metadata": {},
   "source": [
    "### Transform Data to Components"
   ]
  },
  {
   "cell_type": "markdown",
   "metadata": {},
   "source": [
    "`PCA()` is another technique used to transform data.\n",
    "\n",
    "How has the data been manipulated so far?\n",
    "\n",
    "1. Original Data `df_crashes`"
   ]
  },
  {
   "cell_type": "code",
   "execution_count": 16,
   "metadata": {},
   "outputs": [
    {
     "data": {
      "text/html": [
       "<div>\n",
       "<style scoped>\n",
       "    .dataframe tbody tr th:only-of-type {\n",
       "        vertical-align: middle;\n",
       "    }\n",
       "\n",
       "    .dataframe tbody tr th {\n",
       "        vertical-align: top;\n",
       "    }\n",
       "\n",
       "    .dataframe thead th {\n",
       "        text-align: right;\n",
       "    }\n",
       "</style>\n",
       "<table border=\"1\" class=\"dataframe\">\n",
       "  <thead>\n",
       "    <tr style=\"text-align: right;\">\n",
       "      <th></th>\n",
       "      <th>total</th>\n",
       "      <th>speeding</th>\n",
       "      <th>alcohol</th>\n",
       "      <th>not_distracted</th>\n",
       "      <th>no_previous</th>\n",
       "      <th>ins_premium</th>\n",
       "      <th>ins_losses</th>\n",
       "    </tr>\n",
       "    <tr>\n",
       "      <th>abbrev</th>\n",
       "      <th></th>\n",
       "      <th></th>\n",
       "      <th></th>\n",
       "      <th></th>\n",
       "      <th></th>\n",
       "      <th></th>\n",
       "      <th></th>\n",
       "    </tr>\n",
       "  </thead>\n",
       "  <tbody>\n",
       "    <tr>\n",
       "      <th>AL</th>\n",
       "      <td>18.8</td>\n",
       "      <td>7.332</td>\n",
       "      <td>5.640</td>\n",
       "      <td>18.048</td>\n",
       "      <td>15.040</td>\n",
       "      <td>784.55</td>\n",
       "      <td>145.08</td>\n",
       "    </tr>\n",
       "    <tr>\n",
       "      <th>AK</th>\n",
       "      <td>18.1</td>\n",
       "      <td>7.421</td>\n",
       "      <td>4.525</td>\n",
       "      <td>16.290</td>\n",
       "      <td>17.014</td>\n",
       "      <td>1053.48</td>\n",
       "      <td>133.93</td>\n",
       "    </tr>\n",
       "    <tr>\n",
       "      <th>AZ</th>\n",
       "      <td>18.6</td>\n",
       "      <td>6.510</td>\n",
       "      <td>5.208</td>\n",
       "      <td>15.624</td>\n",
       "      <td>17.856</td>\n",
       "      <td>899.47</td>\n",
       "      <td>110.35</td>\n",
       "    </tr>\n",
       "    <tr>\n",
       "      <th>AR</th>\n",
       "      <td>22.4</td>\n",
       "      <td>4.032</td>\n",
       "      <td>5.824</td>\n",
       "      <td>21.056</td>\n",
       "      <td>21.280</td>\n",
       "      <td>827.34</td>\n",
       "      <td>142.39</td>\n",
       "    </tr>\n",
       "    <tr>\n",
       "      <th>CA</th>\n",
       "      <td>12.0</td>\n",
       "      <td>4.200</td>\n",
       "      <td>3.360</td>\n",
       "      <td>10.920</td>\n",
       "      <td>10.680</td>\n",
       "      <td>878.41</td>\n",
       "      <td>165.63</td>\n",
       "    </tr>\n",
       "    <tr>\n",
       "      <th>CO</th>\n",
       "      <td>13.6</td>\n",
       "      <td>5.032</td>\n",
       "      <td>3.808</td>\n",
       "      <td>10.744</td>\n",
       "      <td>12.920</td>\n",
       "      <td>835.50</td>\n",
       "      <td>139.91</td>\n",
       "    </tr>\n",
       "    <tr>\n",
       "      <th>CT</th>\n",
       "      <td>10.8</td>\n",
       "      <td>4.968</td>\n",
       "      <td>3.888</td>\n",
       "      <td>9.396</td>\n",
       "      <td>8.856</td>\n",
       "      <td>1068.73</td>\n",
       "      <td>167.02</td>\n",
       "    </tr>\n",
       "    <tr>\n",
       "      <th>DE</th>\n",
       "      <td>16.2</td>\n",
       "      <td>6.156</td>\n",
       "      <td>4.860</td>\n",
       "      <td>14.094</td>\n",
       "      <td>16.038</td>\n",
       "      <td>1137.87</td>\n",
       "      <td>151.48</td>\n",
       "    </tr>\n",
       "    <tr>\n",
       "      <th>DC</th>\n",
       "      <td>5.9</td>\n",
       "      <td>2.006</td>\n",
       "      <td>1.593</td>\n",
       "      <td>5.900</td>\n",
       "      <td>5.900</td>\n",
       "      <td>1273.89</td>\n",
       "      <td>136.05</td>\n",
       "    </tr>\n",
       "    <tr>\n",
       "      <th>FL</th>\n",
       "      <td>17.9</td>\n",
       "      <td>3.759</td>\n",
       "      <td>5.191</td>\n",
       "      <td>16.468</td>\n",
       "      <td>16.826</td>\n",
       "      <td>1160.13</td>\n",
       "      <td>144.18</td>\n",
       "    </tr>\n",
       "    <tr>\n",
       "      <th>GA</th>\n",
       "      <td>15.6</td>\n",
       "      <td>2.964</td>\n",
       "      <td>3.900</td>\n",
       "      <td>14.820</td>\n",
       "      <td>14.508</td>\n",
       "      <td>913.15</td>\n",
       "      <td>142.80</td>\n",
       "    </tr>\n",
       "    <tr>\n",
       "      <th>HI</th>\n",
       "      <td>17.5</td>\n",
       "      <td>9.450</td>\n",
       "      <td>7.175</td>\n",
       "      <td>14.350</td>\n",
       "      <td>15.225</td>\n",
       "      <td>861.18</td>\n",
       "      <td>120.92</td>\n",
       "    </tr>\n",
       "    <tr>\n",
       "      <th>ID</th>\n",
       "      <td>15.3</td>\n",
       "      <td>5.508</td>\n",
       "      <td>4.437</td>\n",
       "      <td>13.005</td>\n",
       "      <td>14.994</td>\n",
       "      <td>641.96</td>\n",
       "      <td>82.75</td>\n",
       "    </tr>\n",
       "    <tr>\n",
       "      <th>IL</th>\n",
       "      <td>12.8</td>\n",
       "      <td>4.608</td>\n",
       "      <td>4.352</td>\n",
       "      <td>12.032</td>\n",
       "      <td>12.288</td>\n",
       "      <td>803.11</td>\n",
       "      <td>139.15</td>\n",
       "    </tr>\n",
       "    <tr>\n",
       "      <th>IN</th>\n",
       "      <td>14.5</td>\n",
       "      <td>3.625</td>\n",
       "      <td>4.205</td>\n",
       "      <td>13.775</td>\n",
       "      <td>13.775</td>\n",
       "      <td>710.46</td>\n",
       "      <td>108.92</td>\n",
       "    </tr>\n",
       "    <tr>\n",
       "      <th>IA</th>\n",
       "      <td>15.7</td>\n",
       "      <td>2.669</td>\n",
       "      <td>3.925</td>\n",
       "      <td>15.229</td>\n",
       "      <td>13.659</td>\n",
       "      <td>649.06</td>\n",
       "      <td>114.47</td>\n",
       "    </tr>\n",
       "    <tr>\n",
       "      <th>KS</th>\n",
       "      <td>17.8</td>\n",
       "      <td>4.806</td>\n",
       "      <td>4.272</td>\n",
       "      <td>13.706</td>\n",
       "      <td>15.130</td>\n",
       "      <td>780.45</td>\n",
       "      <td>133.80</td>\n",
       "    </tr>\n",
       "    <tr>\n",
       "      <th>KY</th>\n",
       "      <td>21.4</td>\n",
       "      <td>4.066</td>\n",
       "      <td>4.922</td>\n",
       "      <td>16.692</td>\n",
       "      <td>16.264</td>\n",
       "      <td>872.51</td>\n",
       "      <td>137.13</td>\n",
       "    </tr>\n",
       "    <tr>\n",
       "      <th>LA</th>\n",
       "      <td>20.5</td>\n",
       "      <td>7.175</td>\n",
       "      <td>6.765</td>\n",
       "      <td>14.965</td>\n",
       "      <td>20.090</td>\n",
       "      <td>1281.55</td>\n",
       "      <td>194.78</td>\n",
       "    </tr>\n",
       "    <tr>\n",
       "      <th>ME</th>\n",
       "      <td>15.1</td>\n",
       "      <td>5.738</td>\n",
       "      <td>4.530</td>\n",
       "      <td>13.137</td>\n",
       "      <td>12.684</td>\n",
       "      <td>661.88</td>\n",
       "      <td>96.57</td>\n",
       "    </tr>\n",
       "    <tr>\n",
       "      <th>MD</th>\n",
       "      <td>12.5</td>\n",
       "      <td>4.250</td>\n",
       "      <td>4.000</td>\n",
       "      <td>8.875</td>\n",
       "      <td>12.375</td>\n",
       "      <td>1048.78</td>\n",
       "      <td>192.70</td>\n",
       "    </tr>\n",
       "    <tr>\n",
       "      <th>MA</th>\n",
       "      <td>8.2</td>\n",
       "      <td>1.886</td>\n",
       "      <td>2.870</td>\n",
       "      <td>7.134</td>\n",
       "      <td>6.560</td>\n",
       "      <td>1011.14</td>\n",
       "      <td>135.63</td>\n",
       "    </tr>\n",
       "    <tr>\n",
       "      <th>MI</th>\n",
       "      <td>14.1</td>\n",
       "      <td>3.384</td>\n",
       "      <td>3.948</td>\n",
       "      <td>13.395</td>\n",
       "      <td>10.857</td>\n",
       "      <td>1110.61</td>\n",
       "      <td>152.26</td>\n",
       "    </tr>\n",
       "    <tr>\n",
       "      <th>MN</th>\n",
       "      <td>9.6</td>\n",
       "      <td>2.208</td>\n",
       "      <td>2.784</td>\n",
       "      <td>8.448</td>\n",
       "      <td>8.448</td>\n",
       "      <td>777.18</td>\n",
       "      <td>133.35</td>\n",
       "    </tr>\n",
       "    <tr>\n",
       "      <th>MS</th>\n",
       "      <td>17.6</td>\n",
       "      <td>2.640</td>\n",
       "      <td>5.456</td>\n",
       "      <td>1.760</td>\n",
       "      <td>17.600</td>\n",
       "      <td>896.07</td>\n",
       "      <td>155.77</td>\n",
       "    </tr>\n",
       "    <tr>\n",
       "      <th>MO</th>\n",
       "      <td>16.1</td>\n",
       "      <td>6.923</td>\n",
       "      <td>5.474</td>\n",
       "      <td>14.812</td>\n",
       "      <td>13.524</td>\n",
       "      <td>790.32</td>\n",
       "      <td>144.45</td>\n",
       "    </tr>\n",
       "    <tr>\n",
       "      <th>MT</th>\n",
       "      <td>21.4</td>\n",
       "      <td>8.346</td>\n",
       "      <td>9.416</td>\n",
       "      <td>17.976</td>\n",
       "      <td>18.190</td>\n",
       "      <td>816.21</td>\n",
       "      <td>85.15</td>\n",
       "    </tr>\n",
       "    <tr>\n",
       "      <th>NE</th>\n",
       "      <td>14.9</td>\n",
       "      <td>1.937</td>\n",
       "      <td>5.215</td>\n",
       "      <td>13.857</td>\n",
       "      <td>13.410</td>\n",
       "      <td>732.28</td>\n",
       "      <td>114.82</td>\n",
       "    </tr>\n",
       "    <tr>\n",
       "      <th>NV</th>\n",
       "      <td>14.7</td>\n",
       "      <td>5.439</td>\n",
       "      <td>4.704</td>\n",
       "      <td>13.965</td>\n",
       "      <td>14.553</td>\n",
       "      <td>1029.87</td>\n",
       "      <td>138.71</td>\n",
       "    </tr>\n",
       "    <tr>\n",
       "      <th>NH</th>\n",
       "      <td>11.6</td>\n",
       "      <td>4.060</td>\n",
       "      <td>3.480</td>\n",
       "      <td>10.092</td>\n",
       "      <td>9.628</td>\n",
       "      <td>746.54</td>\n",
       "      <td>120.21</td>\n",
       "    </tr>\n",
       "    <tr>\n",
       "      <th>NJ</th>\n",
       "      <td>11.2</td>\n",
       "      <td>1.792</td>\n",
       "      <td>3.136</td>\n",
       "      <td>9.632</td>\n",
       "      <td>8.736</td>\n",
       "      <td>1301.52</td>\n",
       "      <td>159.85</td>\n",
       "    </tr>\n",
       "    <tr>\n",
       "      <th>NM</th>\n",
       "      <td>18.4</td>\n",
       "      <td>3.496</td>\n",
       "      <td>4.968</td>\n",
       "      <td>12.328</td>\n",
       "      <td>18.032</td>\n",
       "      <td>869.85</td>\n",
       "      <td>120.75</td>\n",
       "    </tr>\n",
       "    <tr>\n",
       "      <th>NY</th>\n",
       "      <td>12.3</td>\n",
       "      <td>3.936</td>\n",
       "      <td>3.567</td>\n",
       "      <td>10.824</td>\n",
       "      <td>9.840</td>\n",
       "      <td>1234.31</td>\n",
       "      <td>150.01</td>\n",
       "    </tr>\n",
       "    <tr>\n",
       "      <th>NC</th>\n",
       "      <td>16.8</td>\n",
       "      <td>6.552</td>\n",
       "      <td>5.208</td>\n",
       "      <td>15.792</td>\n",
       "      <td>13.608</td>\n",
       "      <td>708.24</td>\n",
       "      <td>127.82</td>\n",
       "    </tr>\n",
       "    <tr>\n",
       "      <th>ND</th>\n",
       "      <td>23.9</td>\n",
       "      <td>5.497</td>\n",
       "      <td>10.038</td>\n",
       "      <td>23.661</td>\n",
       "      <td>20.554</td>\n",
       "      <td>688.75</td>\n",
       "      <td>109.72</td>\n",
       "    </tr>\n",
       "    <tr>\n",
       "      <th>OH</th>\n",
       "      <td>14.1</td>\n",
       "      <td>3.948</td>\n",
       "      <td>4.794</td>\n",
       "      <td>13.959</td>\n",
       "      <td>11.562</td>\n",
       "      <td>697.73</td>\n",
       "      <td>133.52</td>\n",
       "    </tr>\n",
       "    <tr>\n",
       "      <th>OK</th>\n",
       "      <td>19.9</td>\n",
       "      <td>6.368</td>\n",
       "      <td>5.771</td>\n",
       "      <td>18.308</td>\n",
       "      <td>18.706</td>\n",
       "      <td>881.51</td>\n",
       "      <td>178.86</td>\n",
       "    </tr>\n",
       "    <tr>\n",
       "      <th>OR</th>\n",
       "      <td>12.8</td>\n",
       "      <td>4.224</td>\n",
       "      <td>3.328</td>\n",
       "      <td>8.576</td>\n",
       "      <td>11.520</td>\n",
       "      <td>804.71</td>\n",
       "      <td>104.61</td>\n",
       "    </tr>\n",
       "    <tr>\n",
       "      <th>PA</th>\n",
       "      <td>18.2</td>\n",
       "      <td>9.100</td>\n",
       "      <td>5.642</td>\n",
       "      <td>17.472</td>\n",
       "      <td>16.016</td>\n",
       "      <td>905.99</td>\n",
       "      <td>153.86</td>\n",
       "    </tr>\n",
       "    <tr>\n",
       "      <th>RI</th>\n",
       "      <td>11.1</td>\n",
       "      <td>3.774</td>\n",
       "      <td>4.218</td>\n",
       "      <td>10.212</td>\n",
       "      <td>8.769</td>\n",
       "      <td>1148.99</td>\n",
       "      <td>148.58</td>\n",
       "    </tr>\n",
       "    <tr>\n",
       "      <th>SC</th>\n",
       "      <td>23.9</td>\n",
       "      <td>9.082</td>\n",
       "      <td>9.799</td>\n",
       "      <td>22.944</td>\n",
       "      <td>19.359</td>\n",
       "      <td>858.97</td>\n",
       "      <td>116.29</td>\n",
       "    </tr>\n",
       "    <tr>\n",
       "      <th>SD</th>\n",
       "      <td>19.4</td>\n",
       "      <td>6.014</td>\n",
       "      <td>6.402</td>\n",
       "      <td>19.012</td>\n",
       "      <td>16.684</td>\n",
       "      <td>669.31</td>\n",
       "      <td>96.87</td>\n",
       "    </tr>\n",
       "    <tr>\n",
       "      <th>TN</th>\n",
       "      <td>19.5</td>\n",
       "      <td>4.095</td>\n",
       "      <td>5.655</td>\n",
       "      <td>15.990</td>\n",
       "      <td>15.795</td>\n",
       "      <td>767.91</td>\n",
       "      <td>155.57</td>\n",
       "    </tr>\n",
       "    <tr>\n",
       "      <th>TX</th>\n",
       "      <td>19.4</td>\n",
       "      <td>7.760</td>\n",
       "      <td>7.372</td>\n",
       "      <td>17.654</td>\n",
       "      <td>16.878</td>\n",
       "      <td>1004.75</td>\n",
       "      <td>156.83</td>\n",
       "    </tr>\n",
       "    <tr>\n",
       "      <th>UT</th>\n",
       "      <td>11.3</td>\n",
       "      <td>4.859</td>\n",
       "      <td>1.808</td>\n",
       "      <td>9.944</td>\n",
       "      <td>10.848</td>\n",
       "      <td>809.38</td>\n",
       "      <td>109.48</td>\n",
       "    </tr>\n",
       "    <tr>\n",
       "      <th>VT</th>\n",
       "      <td>13.6</td>\n",
       "      <td>4.080</td>\n",
       "      <td>4.080</td>\n",
       "      <td>13.056</td>\n",
       "      <td>12.920</td>\n",
       "      <td>716.20</td>\n",
       "      <td>109.61</td>\n",
       "    </tr>\n",
       "    <tr>\n",
       "      <th>VA</th>\n",
       "      <td>12.7</td>\n",
       "      <td>2.413</td>\n",
       "      <td>3.429</td>\n",
       "      <td>11.049</td>\n",
       "      <td>11.176</td>\n",
       "      <td>768.95</td>\n",
       "      <td>153.72</td>\n",
       "    </tr>\n",
       "    <tr>\n",
       "      <th>WA</th>\n",
       "      <td>10.6</td>\n",
       "      <td>4.452</td>\n",
       "      <td>3.498</td>\n",
       "      <td>8.692</td>\n",
       "      <td>9.116</td>\n",
       "      <td>890.03</td>\n",
       "      <td>111.62</td>\n",
       "    </tr>\n",
       "    <tr>\n",
       "      <th>WV</th>\n",
       "      <td>23.8</td>\n",
       "      <td>8.092</td>\n",
       "      <td>6.664</td>\n",
       "      <td>23.086</td>\n",
       "      <td>20.706</td>\n",
       "      <td>992.61</td>\n",
       "      <td>152.56</td>\n",
       "    </tr>\n",
       "    <tr>\n",
       "      <th>WI</th>\n",
       "      <td>13.8</td>\n",
       "      <td>4.968</td>\n",
       "      <td>4.554</td>\n",
       "      <td>5.382</td>\n",
       "      <td>11.592</td>\n",
       "      <td>670.31</td>\n",
       "      <td>106.62</td>\n",
       "    </tr>\n",
       "    <tr>\n",
       "      <th>WY</th>\n",
       "      <td>17.4</td>\n",
       "      <td>7.308</td>\n",
       "      <td>5.568</td>\n",
       "      <td>14.094</td>\n",
       "      <td>15.660</td>\n",
       "      <td>791.14</td>\n",
       "      <td>122.04</td>\n",
       "    </tr>\n",
       "  </tbody>\n",
       "</table>\n",
       "</div>"
      ],
      "text/plain": [
       "        total  speeding  alcohol  not_distracted  no_previous  ins_premium  \\\n",
       "abbrev                                                                       \n",
       "AL       18.8     7.332    5.640          18.048       15.040       784.55   \n",
       "AK       18.1     7.421    4.525          16.290       17.014      1053.48   \n",
       "AZ       18.6     6.510    5.208          15.624       17.856       899.47   \n",
       "AR       22.4     4.032    5.824          21.056       21.280       827.34   \n",
       "CA       12.0     4.200    3.360          10.920       10.680       878.41   \n",
       "CO       13.6     5.032    3.808          10.744       12.920       835.50   \n",
       "CT       10.8     4.968    3.888           9.396        8.856      1068.73   \n",
       "DE       16.2     6.156    4.860          14.094       16.038      1137.87   \n",
       "DC        5.9     2.006    1.593           5.900        5.900      1273.89   \n",
       "FL       17.9     3.759    5.191          16.468       16.826      1160.13   \n",
       "GA       15.6     2.964    3.900          14.820       14.508       913.15   \n",
       "HI       17.5     9.450    7.175          14.350       15.225       861.18   \n",
       "ID       15.3     5.508    4.437          13.005       14.994       641.96   \n",
       "IL       12.8     4.608    4.352          12.032       12.288       803.11   \n",
       "IN       14.5     3.625    4.205          13.775       13.775       710.46   \n",
       "IA       15.7     2.669    3.925          15.229       13.659       649.06   \n",
       "KS       17.8     4.806    4.272          13.706       15.130       780.45   \n",
       "KY       21.4     4.066    4.922          16.692       16.264       872.51   \n",
       "LA       20.5     7.175    6.765          14.965       20.090      1281.55   \n",
       "ME       15.1     5.738    4.530          13.137       12.684       661.88   \n",
       "MD       12.5     4.250    4.000           8.875       12.375      1048.78   \n",
       "MA        8.2     1.886    2.870           7.134        6.560      1011.14   \n",
       "MI       14.1     3.384    3.948          13.395       10.857      1110.61   \n",
       "MN        9.6     2.208    2.784           8.448        8.448       777.18   \n",
       "MS       17.6     2.640    5.456           1.760       17.600       896.07   \n",
       "MO       16.1     6.923    5.474          14.812       13.524       790.32   \n",
       "MT       21.4     8.346    9.416          17.976       18.190       816.21   \n",
       "NE       14.9     1.937    5.215          13.857       13.410       732.28   \n",
       "NV       14.7     5.439    4.704          13.965       14.553      1029.87   \n",
       "NH       11.6     4.060    3.480          10.092        9.628       746.54   \n",
       "NJ       11.2     1.792    3.136           9.632        8.736      1301.52   \n",
       "NM       18.4     3.496    4.968          12.328       18.032       869.85   \n",
       "NY       12.3     3.936    3.567          10.824        9.840      1234.31   \n",
       "NC       16.8     6.552    5.208          15.792       13.608       708.24   \n",
       "ND       23.9     5.497   10.038          23.661       20.554       688.75   \n",
       "OH       14.1     3.948    4.794          13.959       11.562       697.73   \n",
       "OK       19.9     6.368    5.771          18.308       18.706       881.51   \n",
       "OR       12.8     4.224    3.328           8.576       11.520       804.71   \n",
       "PA       18.2     9.100    5.642          17.472       16.016       905.99   \n",
       "RI       11.1     3.774    4.218          10.212        8.769      1148.99   \n",
       "SC       23.9     9.082    9.799          22.944       19.359       858.97   \n",
       "SD       19.4     6.014    6.402          19.012       16.684       669.31   \n",
       "TN       19.5     4.095    5.655          15.990       15.795       767.91   \n",
       "TX       19.4     7.760    7.372          17.654       16.878      1004.75   \n",
       "UT       11.3     4.859    1.808           9.944       10.848       809.38   \n",
       "VT       13.6     4.080    4.080          13.056       12.920       716.20   \n",
       "VA       12.7     2.413    3.429          11.049       11.176       768.95   \n",
       "WA       10.6     4.452    3.498           8.692        9.116       890.03   \n",
       "WV       23.8     8.092    6.664          23.086       20.706       992.61   \n",
       "WI       13.8     4.968    4.554           5.382       11.592       670.31   \n",
       "WY       17.4     7.308    5.568          14.094       15.660       791.14   \n",
       "\n",
       "        ins_losses  \n",
       "abbrev              \n",
       "AL          145.08  \n",
       "AK          133.93  \n",
       "AZ          110.35  \n",
       "AR          142.39  \n",
       "CA          165.63  \n",
       "CO          139.91  \n",
       "CT          167.02  \n",
       "DE          151.48  \n",
       "DC          136.05  \n",
       "FL          144.18  \n",
       "GA          142.80  \n",
       "HI          120.92  \n",
       "ID           82.75  \n",
       "IL          139.15  \n",
       "IN          108.92  \n",
       "IA          114.47  \n",
       "KS          133.80  \n",
       "KY          137.13  \n",
       "LA          194.78  \n",
       "ME           96.57  \n",
       "MD          192.70  \n",
       "MA          135.63  \n",
       "MI          152.26  \n",
       "MN          133.35  \n",
       "MS          155.77  \n",
       "MO          144.45  \n",
       "MT           85.15  \n",
       "NE          114.82  \n",
       "NV          138.71  \n",
       "NH          120.21  \n",
       "NJ          159.85  \n",
       "NM          120.75  \n",
       "NY          150.01  \n",
       "NC          127.82  \n",
       "ND          109.72  \n",
       "OH          133.52  \n",
       "OK          178.86  \n",
       "OR          104.61  \n",
       "PA          153.86  \n",
       "RI          148.58  \n",
       "SC          116.29  \n",
       "SD           96.87  \n",
       "TN          155.57  \n",
       "TX          156.83  \n",
       "UT          109.48  \n",
       "VT          109.61  \n",
       "VA          153.72  \n",
       "WA          111.62  \n",
       "WV          152.56  \n",
       "WI          106.62  \n",
       "WY          122.04  "
      ]
     },
     "execution_count": 16,
     "metadata": {},
     "output_type": "execute_result"
    }
   ],
   "source": [
    "df_crashes"
   ]
  },
  {
   "cell_type": "markdown",
   "metadata": {},
   "source": [
    "2. Normalized Data `df_scaled`"
   ]
  },
  {
   "cell_type": "code",
   "execution_count": 17,
   "metadata": {},
   "outputs": [
    {
     "data": {
      "text/html": [
       "<div>\n",
       "<style scoped>\n",
       "    .dataframe tbody tr th:only-of-type {\n",
       "        vertical-align: middle;\n",
       "    }\n",
       "\n",
       "    .dataframe tbody tr th {\n",
       "        vertical-align: top;\n",
       "    }\n",
       "\n",
       "    .dataframe thead th {\n",
       "        text-align: right;\n",
       "    }\n",
       "</style>\n",
       "<table border=\"1\" class=\"dataframe\">\n",
       "  <thead>\n",
       "    <tr style=\"text-align: right;\">\n",
       "      <th></th>\n",
       "      <th>total</th>\n",
       "      <th>speeding</th>\n",
       "      <th>alcohol</th>\n",
       "      <th>not_distracted</th>\n",
       "      <th>no_previous</th>\n",
       "      <th>ins_premium</th>\n",
       "      <th>ins_losses</th>\n",
       "    </tr>\n",
       "    <tr>\n",
       "      <th>abbrev</th>\n",
       "      <th></th>\n",
       "      <th></th>\n",
       "      <th></th>\n",
       "      <th></th>\n",
       "      <th></th>\n",
       "      <th></th>\n",
       "      <th></th>\n",
       "    </tr>\n",
       "  </thead>\n",
       "  <tbody>\n",
       "    <tr>\n",
       "      <th>AL</th>\n",
       "      <td>0.737446</td>\n",
       "      <td>1.168148</td>\n",
       "      <td>0.439938</td>\n",
       "      <td>1.002301</td>\n",
       "      <td>0.277692</td>\n",
       "      <td>-0.580083</td>\n",
       "      <td>0.430514</td>\n",
       "    </tr>\n",
       "    <tr>\n",
       "      <th>AK</th>\n",
       "      <td>0.565936</td>\n",
       "      <td>1.212695</td>\n",
       "      <td>-0.211311</td>\n",
       "      <td>0.608532</td>\n",
       "      <td>0.807258</td>\n",
       "      <td>0.943258</td>\n",
       "      <td>-0.022900</td>\n",
       "    </tr>\n",
       "    <tr>\n",
       "      <th>AZ</th>\n",
       "      <td>0.688443</td>\n",
       "      <td>0.756709</td>\n",
       "      <td>0.187615</td>\n",
       "      <td>0.459357</td>\n",
       "      <td>1.033141</td>\n",
       "      <td>0.070876</td>\n",
       "      <td>-0.981778</td>\n",
       "    </tr>\n",
       "    <tr>\n",
       "      <th>AR</th>\n",
       "      <td>1.619498</td>\n",
       "      <td>-0.483614</td>\n",
       "      <td>0.547408</td>\n",
       "      <td>1.676052</td>\n",
       "      <td>1.951700</td>\n",
       "      <td>-0.337701</td>\n",
       "      <td>0.321125</td>\n",
       "    </tr>\n",
       "    <tr>\n",
       "      <th>CA</th>\n",
       "      <td>-0.928653</td>\n",
       "      <td>-0.399524</td>\n",
       "      <td>-0.891763</td>\n",
       "      <td>-0.594276</td>\n",
       "      <td>-0.891968</td>\n",
       "      <td>-0.048418</td>\n",
       "      <td>1.266178</td>\n",
       "    </tr>\n",
       "    <tr>\n",
       "      <th>CO</th>\n",
       "      <td>-0.536630</td>\n",
       "      <td>0.016920</td>\n",
       "      <td>-0.630095</td>\n",
       "      <td>-0.633698</td>\n",
       "      <td>-0.291042</td>\n",
       "      <td>-0.291479</td>\n",
       "      <td>0.220276</td>\n",
       "    </tr>\n",
       "    <tr>\n",
       "      <th>CT</th>\n",
       "      <td>-1.222671</td>\n",
       "      <td>-0.015114</td>\n",
       "      <td>-0.583369</td>\n",
       "      <td>-0.935632</td>\n",
       "      <td>-1.381293</td>\n",
       "      <td>1.029641</td>\n",
       "      <td>1.322702</td>\n",
       "    </tr>\n",
       "    <tr>\n",
       "      <th>DE</th>\n",
       "      <td>0.100408</td>\n",
       "      <td>0.579520</td>\n",
       "      <td>-0.015644</td>\n",
       "      <td>0.116657</td>\n",
       "      <td>0.545426</td>\n",
       "      <td>1.421281</td>\n",
       "      <td>0.690769</td>\n",
       "    </tr>\n",
       "    <tr>\n",
       "      <th>DC</th>\n",
       "      <td>-2.423242</td>\n",
       "      <td>-1.497695</td>\n",
       "      <td>-1.923831</td>\n",
       "      <td>-1.718689</td>\n",
       "      <td>-2.174301</td>\n",
       "      <td>2.191759</td>\n",
       "      <td>0.063310</td>\n",
       "    </tr>\n",
       "    <tr>\n",
       "      <th>FL</th>\n",
       "      <td>0.516933</td>\n",
       "      <td>-0.620259</td>\n",
       "      <td>0.177686</td>\n",
       "      <td>0.648402</td>\n",
       "      <td>0.756823</td>\n",
       "      <td>1.547371</td>\n",
       "      <td>0.393915</td>\n",
       "    </tr>\n",
       "    <tr>\n",
       "      <th>GA</th>\n",
       "      <td>-0.046601</td>\n",
       "      <td>-1.018184</td>\n",
       "      <td>-0.576360</td>\n",
       "      <td>0.279272</td>\n",
       "      <td>0.134972</td>\n",
       "      <td>0.148365</td>\n",
       "      <td>0.337798</td>\n",
       "    </tr>\n",
       "    <tr>\n",
       "      <th>HI</th>\n",
       "      <td>0.418927</td>\n",
       "      <td>2.228278</td>\n",
       "      <td>1.336499</td>\n",
       "      <td>0.173998</td>\n",
       "      <td>0.327322</td>\n",
       "      <td>-0.146016</td>\n",
       "      <td>-0.551950</td>\n",
       "    </tr>\n",
       "    <tr>\n",
       "      <th>ID</th>\n",
       "      <td>-0.120105</td>\n",
       "      <td>0.255174</td>\n",
       "      <td>-0.262710</td>\n",
       "      <td>-0.127264</td>\n",
       "      <td>0.265351</td>\n",
       "      <td>-1.387777</td>\n",
       "      <td>-2.104130</td>\n",
       "    </tr>\n",
       "    <tr>\n",
       "      <th>IL</th>\n",
       "      <td>-0.732642</td>\n",
       "      <td>-0.195306</td>\n",
       "      <td>-0.312356</td>\n",
       "      <td>-0.345203</td>\n",
       "      <td>-0.460589</td>\n",
       "      <td>-0.474951</td>\n",
       "      <td>0.189371</td>\n",
       "    </tr>\n",
       "    <tr>\n",
       "      <th>IN</th>\n",
       "      <td>-0.316117</td>\n",
       "      <td>-0.687331</td>\n",
       "      <td>-0.398216</td>\n",
       "      <td>0.045206</td>\n",
       "      <td>-0.061671</td>\n",
       "      <td>-0.999762</td>\n",
       "      <td>-1.039929</td>\n",
       "    </tr>\n",
       "    <tr>\n",
       "      <th>IA</th>\n",
       "      <td>-0.022099</td>\n",
       "      <td>-1.165841</td>\n",
       "      <td>-0.561758</td>\n",
       "      <td>0.370882</td>\n",
       "      <td>-0.092790</td>\n",
       "      <td>-1.347559</td>\n",
       "      <td>-0.814239</td>\n",
       "    </tr>\n",
       "    <tr>\n",
       "      <th>KS</th>\n",
       "      <td>0.492431</td>\n",
       "      <td>-0.096201</td>\n",
       "      <td>-0.359083</td>\n",
       "      <td>0.029751</td>\n",
       "      <td>0.301836</td>\n",
       "      <td>-0.603307</td>\n",
       "      <td>-0.028186</td>\n",
       "    </tr>\n",
       "    <tr>\n",
       "      <th>KY</th>\n",
       "      <td>1.374484</td>\n",
       "      <td>-0.466596</td>\n",
       "      <td>0.020569</td>\n",
       "      <td>0.698575</td>\n",
       "      <td>0.606055</td>\n",
       "      <td>-0.081838</td>\n",
       "      <td>0.107228</td>\n",
       "    </tr>\n",
       "    <tr>\n",
       "      <th>LA</th>\n",
       "      <td>1.153970</td>\n",
       "      <td>1.089564</td>\n",
       "      <td>1.097027</td>\n",
       "      <td>0.311750</td>\n",
       "      <td>1.632458</td>\n",
       "      <td>2.235149</td>\n",
       "      <td>2.451560</td>\n",
       "    </tr>\n",
       "    <tr>\n",
       "      <th>ME</th>\n",
       "      <td>-0.169108</td>\n",
       "      <td>0.370297</td>\n",
       "      <td>-0.208390</td>\n",
       "      <td>-0.097698</td>\n",
       "      <td>-0.354354</td>\n",
       "      <td>-1.274941</td>\n",
       "      <td>-1.542141</td>\n",
       "    </tr>\n",
       "    <tr>\n",
       "      <th>MD</th>\n",
       "      <td>-0.806146</td>\n",
       "      <td>-0.374497</td>\n",
       "      <td>-0.517952</td>\n",
       "      <td>-1.052329</td>\n",
       "      <td>-0.437249</td>\n",
       "      <td>0.916635</td>\n",
       "      <td>2.366977</td>\n",
       "    </tr>\n",
       "    <tr>\n",
       "      <th>MA</th>\n",
       "      <td>-1.859708</td>\n",
       "      <td>-1.557759</td>\n",
       "      <td>-1.177962</td>\n",
       "      <td>-1.442289</td>\n",
       "      <td>-1.997242</td>\n",
       "      <td>0.703425</td>\n",
       "      <td>0.046230</td>\n",
       "    </tr>\n",
       "    <tr>\n",
       "      <th>MI</th>\n",
       "      <td>-0.414123</td>\n",
       "      <td>-0.807960</td>\n",
       "      <td>-0.548324</td>\n",
       "      <td>-0.039909</td>\n",
       "      <td>-0.844484</td>\n",
       "      <td>1.266868</td>\n",
       "      <td>0.722488</td>\n",
       "    </tr>\n",
       "    <tr>\n",
       "      <th>MN</th>\n",
       "      <td>-1.516688</td>\n",
       "      <td>-1.396587</td>\n",
       "      <td>-1.228192</td>\n",
       "      <td>-1.147971</td>\n",
       "      <td>-1.490748</td>\n",
       "      <td>-0.621830</td>\n",
       "      <td>-0.046486</td>\n",
       "    </tr>\n",
       "    <tr>\n",
       "      <th>MS</th>\n",
       "      <td>0.443428</td>\n",
       "      <td>-1.180357</td>\n",
       "      <td>0.332467</td>\n",
       "      <td>-2.645993</td>\n",
       "      <td>0.964464</td>\n",
       "      <td>0.051616</td>\n",
       "      <td>0.865222</td>\n",
       "    </tr>\n",
       "    <tr>\n",
       "      <th>MO</th>\n",
       "      <td>0.075906</td>\n",
       "      <td>0.963429</td>\n",
       "      <td>0.342980</td>\n",
       "      <td>0.277480</td>\n",
       "      <td>-0.129007</td>\n",
       "      <td>-0.547399</td>\n",
       "      <td>0.404895</td>\n",
       "    </tr>\n",
       "    <tr>\n",
       "      <th>MT</th>\n",
       "      <td>1.374484</td>\n",
       "      <td>1.675689</td>\n",
       "      <td>2.645420</td>\n",
       "      <td>0.986174</td>\n",
       "      <td>1.122744</td>\n",
       "      <td>-0.400747</td>\n",
       "      <td>-2.006534</td>\n",
       "    </tr>\n",
       "    <tr>\n",
       "      <th>NE</th>\n",
       "      <td>-0.218111</td>\n",
       "      <td>-1.532232</td>\n",
       "      <td>0.191704</td>\n",
       "      <td>0.063573</td>\n",
       "      <td>-0.159589</td>\n",
       "      <td>-0.876164</td>\n",
       "      <td>-0.800006</td>\n",
       "    </tr>\n",
       "    <tr>\n",
       "      <th>NV</th>\n",
       "      <td>-0.267114</td>\n",
       "      <td>0.220637</td>\n",
       "      <td>-0.106761</td>\n",
       "      <td>0.087763</td>\n",
       "      <td>0.147044</td>\n",
       "      <td>0.809520</td>\n",
       "      <td>0.171478</td>\n",
       "    </tr>\n",
       "    <tr>\n",
       "      <th>NH</th>\n",
       "      <td>-1.026659</td>\n",
       "      <td>-0.469599</td>\n",
       "      <td>-0.821673</td>\n",
       "      <td>-0.779737</td>\n",
       "      <td>-1.174189</td>\n",
       "      <td>-0.795389</td>\n",
       "      <td>-0.580822</td>\n",
       "    </tr>\n",
       "    <tr>\n",
       "      <th>NJ</th>\n",
       "      <td>-1.124665</td>\n",
       "      <td>-1.604809</td>\n",
       "      <td>-1.022597</td>\n",
       "      <td>-0.882771</td>\n",
       "      <td>-1.413486</td>\n",
       "      <td>2.348268</td>\n",
       "      <td>1.031134</td>\n",
       "    </tr>\n",
       "    <tr>\n",
       "      <th>NM</th>\n",
       "      <td>0.639440</td>\n",
       "      <td>-0.751900</td>\n",
       "      <td>0.047436</td>\n",
       "      <td>-0.278903</td>\n",
       "      <td>1.080357</td>\n",
       "      <td>-0.096905</td>\n",
       "      <td>-0.558863</td>\n",
       "    </tr>\n",
       "    <tr>\n",
       "      <th>NY</th>\n",
       "      <td>-0.855149</td>\n",
       "      <td>-0.531665</td>\n",
       "      <td>-0.770859</td>\n",
       "      <td>-0.615779</td>\n",
       "      <td>-1.117315</td>\n",
       "      <td>1.967560</td>\n",
       "      <td>0.630992</td>\n",
       "    </tr>\n",
       "    <tr>\n",
       "      <th>NC</th>\n",
       "      <td>0.247417</td>\n",
       "      <td>0.777731</td>\n",
       "      <td>0.187615</td>\n",
       "      <td>0.496987</td>\n",
       "      <td>-0.106472</td>\n",
       "      <td>-1.012337</td>\n",
       "      <td>-0.271363</td>\n",
       "    </tr>\n",
       "    <tr>\n",
       "      <th>ND</th>\n",
       "      <td>1.987020</td>\n",
       "      <td>0.249668</td>\n",
       "      <td>3.008718</td>\n",
       "      <td>2.259537</td>\n",
       "      <td>1.756935</td>\n",
       "      <td>-1.122737</td>\n",
       "      <td>-1.007397</td>\n",
       "    </tr>\n",
       "    <tr>\n",
       "      <th>OH</th>\n",
       "      <td>-0.414123</td>\n",
       "      <td>-0.525659</td>\n",
       "      <td>-0.054193</td>\n",
       "      <td>0.086419</td>\n",
       "      <td>-0.655353</td>\n",
       "      <td>-1.071871</td>\n",
       "      <td>-0.039573</td>\n",
       "    </tr>\n",
       "    <tr>\n",
       "      <th>OK</th>\n",
       "      <td>1.006962</td>\n",
       "      <td>0.685633</td>\n",
       "      <td>0.516452</td>\n",
       "      <td>1.060537</td>\n",
       "      <td>1.261171</td>\n",
       "      <td>-0.030858</td>\n",
       "      <td>1.804174</td>\n",
       "    </tr>\n",
       "    <tr>\n",
       "      <th>OR</th>\n",
       "      <td>-0.732642</td>\n",
       "      <td>-0.387511</td>\n",
       "      <td>-0.910453</td>\n",
       "      <td>-1.119301</td>\n",
       "      <td>-0.666621</td>\n",
       "      <td>-0.465888</td>\n",
       "      <td>-1.215195</td>\n",
       "    </tr>\n",
       "    <tr>\n",
       "      <th>PA</th>\n",
       "      <td>0.590437</td>\n",
       "      <td>2.053091</td>\n",
       "      <td>0.441106</td>\n",
       "      <td>0.873284</td>\n",
       "      <td>0.539524</td>\n",
       "      <td>0.107808</td>\n",
       "      <td>0.787552</td>\n",
       "    </tr>\n",
       "    <tr>\n",
       "      <th>RI</th>\n",
       "      <td>-1.149166</td>\n",
       "      <td>-0.612751</td>\n",
       "      <td>-0.390623</td>\n",
       "      <td>-0.752859</td>\n",
       "      <td>-1.404633</td>\n",
       "      <td>1.484269</td>\n",
       "      <td>0.572841</td>\n",
       "    </tr>\n",
       "    <tr>\n",
       "      <th>SC</th>\n",
       "      <td>1.987020</td>\n",
       "      <td>2.044082</td>\n",
       "      <td>2.869123</td>\n",
       "      <td>2.098939</td>\n",
       "      <td>1.436352</td>\n",
       "      <td>-0.158535</td>\n",
       "      <td>-0.740229</td>\n",
       "    </tr>\n",
       "    <tr>\n",
       "      <th>SD</th>\n",
       "      <td>0.884454</td>\n",
       "      <td>0.508444</td>\n",
       "      <td>0.885006</td>\n",
       "      <td>1.218224</td>\n",
       "      <td>0.718728</td>\n",
       "      <td>-1.232854</td>\n",
       "      <td>-1.529941</td>\n",
       "    </tr>\n",
       "    <tr>\n",
       "      <th>TN</th>\n",
       "      <td>0.908956</td>\n",
       "      <td>-0.452080</td>\n",
       "      <td>0.448699</td>\n",
       "      <td>0.541336</td>\n",
       "      <td>0.480236</td>\n",
       "      <td>-0.674340</td>\n",
       "      <td>0.857089</td>\n",
       "    </tr>\n",
       "    <tr>\n",
       "      <th>TX</th>\n",
       "      <td>0.884454</td>\n",
       "      <td>1.382376</td>\n",
       "      <td>1.451563</td>\n",
       "      <td>0.914050</td>\n",
       "      <td>0.770773</td>\n",
       "      <td>0.667229</td>\n",
       "      <td>0.908326</td>\n",
       "    </tr>\n",
       "    <tr>\n",
       "      <th>UT</th>\n",
       "      <td>-1.100163</td>\n",
       "      <td>-0.069672</td>\n",
       "      <td>-1.798254</td>\n",
       "      <td>-0.812887</td>\n",
       "      <td>-0.846898</td>\n",
       "      <td>-0.439435</td>\n",
       "      <td>-1.017157</td>\n",
       "    </tr>\n",
       "    <tr>\n",
       "      <th>VT</th>\n",
       "      <td>-0.536630</td>\n",
       "      <td>-0.459588</td>\n",
       "      <td>-0.471226</td>\n",
       "      <td>-0.115841</td>\n",
       "      <td>-0.291042</td>\n",
       "      <td>-0.967248</td>\n",
       "      <td>-1.011870</td>\n",
       "    </tr>\n",
       "    <tr>\n",
       "      <th>VA</th>\n",
       "      <td>-0.757143</td>\n",
       "      <td>-1.293978</td>\n",
       "      <td>-0.851461</td>\n",
       "      <td>-0.565382</td>\n",
       "      <td>-0.758906</td>\n",
       "      <td>-0.668448</td>\n",
       "      <td>0.781859</td>\n",
       "    </tr>\n",
       "    <tr>\n",
       "      <th>WA</th>\n",
       "      <td>-1.271674</td>\n",
       "      <td>-0.273390</td>\n",
       "      <td>-0.811160</td>\n",
       "      <td>-1.093318</td>\n",
       "      <td>-1.311543</td>\n",
       "      <td>0.017403</td>\n",
       "      <td>-0.930134</td>\n",
       "    </tr>\n",
       "    <tr>\n",
       "      <th>WV</th>\n",
       "      <td>1.962518</td>\n",
       "      <td>1.548553</td>\n",
       "      <td>1.038035</td>\n",
       "      <td>2.130745</td>\n",
       "      <td>1.797712</td>\n",
       "      <td>0.598463</td>\n",
       "      <td>0.734687</td>\n",
       "    </tr>\n",
       "    <tr>\n",
       "      <th>WI</th>\n",
       "      <td>-0.487627</td>\n",
       "      <td>-0.015114</td>\n",
       "      <td>-0.194372</td>\n",
       "      <td>-1.834714</td>\n",
       "      <td>-0.647305</td>\n",
       "      <td>-1.227190</td>\n",
       "      <td>-1.133459</td>\n",
       "    </tr>\n",
       "    <tr>\n",
       "      <th>WY</th>\n",
       "      <td>0.394425</td>\n",
       "      <td>1.156135</td>\n",
       "      <td>0.397884</td>\n",
       "      <td>0.116657</td>\n",
       "      <td>0.444019</td>\n",
       "      <td>-0.542754</td>\n",
       "      <td>-0.506406</td>\n",
       "    </tr>\n",
       "  </tbody>\n",
       "</table>\n",
       "</div>"
      ],
      "text/plain": [
       "           total  speeding   alcohol  not_distracted  no_previous  \\\n",
       "abbrev                                                              \n",
       "AL      0.737446  1.168148  0.439938        1.002301     0.277692   \n",
       "AK      0.565936  1.212695 -0.211311        0.608532     0.807258   \n",
       "AZ      0.688443  0.756709  0.187615        0.459357     1.033141   \n",
       "AR      1.619498 -0.483614  0.547408        1.676052     1.951700   \n",
       "CA     -0.928653 -0.399524 -0.891763       -0.594276    -0.891968   \n",
       "CO     -0.536630  0.016920 -0.630095       -0.633698    -0.291042   \n",
       "CT     -1.222671 -0.015114 -0.583369       -0.935632    -1.381293   \n",
       "DE      0.100408  0.579520 -0.015644        0.116657     0.545426   \n",
       "DC     -2.423242 -1.497695 -1.923831       -1.718689    -2.174301   \n",
       "FL      0.516933 -0.620259  0.177686        0.648402     0.756823   \n",
       "GA     -0.046601 -1.018184 -0.576360        0.279272     0.134972   \n",
       "HI      0.418927  2.228278  1.336499        0.173998     0.327322   \n",
       "ID     -0.120105  0.255174 -0.262710       -0.127264     0.265351   \n",
       "IL     -0.732642 -0.195306 -0.312356       -0.345203    -0.460589   \n",
       "IN     -0.316117 -0.687331 -0.398216        0.045206    -0.061671   \n",
       "IA     -0.022099 -1.165841 -0.561758        0.370882    -0.092790   \n",
       "KS      0.492431 -0.096201 -0.359083        0.029751     0.301836   \n",
       "KY      1.374484 -0.466596  0.020569        0.698575     0.606055   \n",
       "LA      1.153970  1.089564  1.097027        0.311750     1.632458   \n",
       "ME     -0.169108  0.370297 -0.208390       -0.097698    -0.354354   \n",
       "MD     -0.806146 -0.374497 -0.517952       -1.052329    -0.437249   \n",
       "MA     -1.859708 -1.557759 -1.177962       -1.442289    -1.997242   \n",
       "MI     -0.414123 -0.807960 -0.548324       -0.039909    -0.844484   \n",
       "MN     -1.516688 -1.396587 -1.228192       -1.147971    -1.490748   \n",
       "MS      0.443428 -1.180357  0.332467       -2.645993     0.964464   \n",
       "MO      0.075906  0.963429  0.342980        0.277480    -0.129007   \n",
       "MT      1.374484  1.675689  2.645420        0.986174     1.122744   \n",
       "NE     -0.218111 -1.532232  0.191704        0.063573    -0.159589   \n",
       "NV     -0.267114  0.220637 -0.106761        0.087763     0.147044   \n",
       "NH     -1.026659 -0.469599 -0.821673       -0.779737    -1.174189   \n",
       "NJ     -1.124665 -1.604809 -1.022597       -0.882771    -1.413486   \n",
       "NM      0.639440 -0.751900  0.047436       -0.278903     1.080357   \n",
       "NY     -0.855149 -0.531665 -0.770859       -0.615779    -1.117315   \n",
       "NC      0.247417  0.777731  0.187615        0.496987    -0.106472   \n",
       "ND      1.987020  0.249668  3.008718        2.259537     1.756935   \n",
       "OH     -0.414123 -0.525659 -0.054193        0.086419    -0.655353   \n",
       "OK      1.006962  0.685633  0.516452        1.060537     1.261171   \n",
       "OR     -0.732642 -0.387511 -0.910453       -1.119301    -0.666621   \n",
       "PA      0.590437  2.053091  0.441106        0.873284     0.539524   \n",
       "RI     -1.149166 -0.612751 -0.390623       -0.752859    -1.404633   \n",
       "SC      1.987020  2.044082  2.869123        2.098939     1.436352   \n",
       "SD      0.884454  0.508444  0.885006        1.218224     0.718728   \n",
       "TN      0.908956 -0.452080  0.448699        0.541336     0.480236   \n",
       "TX      0.884454  1.382376  1.451563        0.914050     0.770773   \n",
       "UT     -1.100163 -0.069672 -1.798254       -0.812887    -0.846898   \n",
       "VT     -0.536630 -0.459588 -0.471226       -0.115841    -0.291042   \n",
       "VA     -0.757143 -1.293978 -0.851461       -0.565382    -0.758906   \n",
       "WA     -1.271674 -0.273390 -0.811160       -1.093318    -1.311543   \n",
       "WV      1.962518  1.548553  1.038035        2.130745     1.797712   \n",
       "WI     -0.487627 -0.015114 -0.194372       -1.834714    -0.647305   \n",
       "WY      0.394425  1.156135  0.397884        0.116657     0.444019   \n",
       "\n",
       "        ins_premium  ins_losses  \n",
       "abbrev                           \n",
       "AL        -0.580083    0.430514  \n",
       "AK         0.943258   -0.022900  \n",
       "AZ         0.070876   -0.981778  \n",
       "AR        -0.337701    0.321125  \n",
       "CA        -0.048418    1.266178  \n",
       "CO        -0.291479    0.220276  \n",
       "CT         1.029641    1.322702  \n",
       "DE         1.421281    0.690769  \n",
       "DC         2.191759    0.063310  \n",
       "FL         1.547371    0.393915  \n",
       "GA         0.148365    0.337798  \n",
       "HI        -0.146016   -0.551950  \n",
       "ID        -1.387777   -2.104130  \n",
       "IL        -0.474951    0.189371  \n",
       "IN        -0.999762   -1.039929  \n",
       "IA        -1.347559   -0.814239  \n",
       "KS        -0.603307   -0.028186  \n",
       "KY        -0.081838    0.107228  \n",
       "LA         2.235149    2.451560  \n",
       "ME        -1.274941   -1.542141  \n",
       "MD         0.916635    2.366977  \n",
       "MA         0.703425    0.046230  \n",
       "MI         1.266868    0.722488  \n",
       "MN        -0.621830   -0.046486  \n",
       "MS         0.051616    0.865222  \n",
       "MO        -0.547399    0.404895  \n",
       "MT        -0.400747   -2.006534  \n",
       "NE        -0.876164   -0.800006  \n",
       "NV         0.809520    0.171478  \n",
       "NH        -0.795389   -0.580822  \n",
       "NJ         2.348268    1.031134  \n",
       "NM        -0.096905   -0.558863  \n",
       "NY         1.967560    0.630992  \n",
       "NC        -1.012337   -0.271363  \n",
       "ND        -1.122737   -1.007397  \n",
       "OH        -1.071871   -0.039573  \n",
       "OK        -0.030858    1.804174  \n",
       "OR        -0.465888   -1.215195  \n",
       "PA         0.107808    0.787552  \n",
       "RI         1.484269    0.572841  \n",
       "SC        -0.158535   -0.740229  \n",
       "SD        -1.232854   -1.529941  \n",
       "TN        -0.674340    0.857089  \n",
       "TX         0.667229    0.908326  \n",
       "UT        -0.439435   -1.017157  \n",
       "VT        -0.967248   -1.011870  \n",
       "VA        -0.668448    0.781859  \n",
       "WA         0.017403   -0.930134  \n",
       "WV         0.598463    0.734687  \n",
       "WI        -1.227190   -1.133459  \n",
       "WY        -0.542754   -0.506406  "
      ]
     },
     "execution_count": 17,
     "metadata": {},
     "output_type": "execute_result"
    }
   ],
   "source": [
    "df_scaled"
   ]
  },
  {
   "cell_type": "markdown",
   "metadata": {},
   "source": [
    "3. Principal Components Data `df_pca` (now)"
   ]
  },
  {
   "cell_type": "code",
   "execution_count": 18,
   "metadata": {},
   "outputs": [],
   "source": [
    "from sklearn.decomposition import PCA"
   ]
  },
  {
   "cell_type": "code",
   "execution_count": 19,
   "metadata": {},
   "outputs": [],
   "source": [
    "pca = PCA()"
   ]
  },
  {
   "cell_type": "code",
   "execution_count": 20,
   "metadata": {},
   "outputs": [
    {
     "data": {
      "text/html": [
       "<style>#sk-container-id-3 {color: black;background-color: white;}#sk-container-id-3 pre{padding: 0;}#sk-container-id-3 div.sk-toggleable {background-color: white;}#sk-container-id-3 label.sk-toggleable__label {cursor: pointer;display: block;width: 100%;margin-bottom: 0;padding: 0.3em;box-sizing: border-box;text-align: center;}#sk-container-id-3 label.sk-toggleable__label-arrow:before {content: \"▸\";float: left;margin-right: 0.25em;color: #696969;}#sk-container-id-3 label.sk-toggleable__label-arrow:hover:before {color: black;}#sk-container-id-3 div.sk-estimator:hover label.sk-toggleable__label-arrow:before {color: black;}#sk-container-id-3 div.sk-toggleable__content {max-height: 0;max-width: 0;overflow: hidden;text-align: left;background-color: #f0f8ff;}#sk-container-id-3 div.sk-toggleable__content pre {margin: 0.2em;color: black;border-radius: 0.25em;background-color: #f0f8ff;}#sk-container-id-3 input.sk-toggleable__control:checked~div.sk-toggleable__content {max-height: 200px;max-width: 100%;overflow: auto;}#sk-container-id-3 input.sk-toggleable__control:checked~label.sk-toggleable__label-arrow:before {content: \"▾\";}#sk-container-id-3 div.sk-estimator input.sk-toggleable__control:checked~label.sk-toggleable__label {background-color: #d4ebff;}#sk-container-id-3 div.sk-label input.sk-toggleable__control:checked~label.sk-toggleable__label {background-color: #d4ebff;}#sk-container-id-3 input.sk-hidden--visually {border: 0;clip: rect(1px 1px 1px 1px);clip: rect(1px, 1px, 1px, 1px);height: 1px;margin: -1px;overflow: hidden;padding: 0;position: absolute;width: 1px;}#sk-container-id-3 div.sk-estimator {font-family: monospace;background-color: #f0f8ff;border: 1px dotted black;border-radius: 0.25em;box-sizing: border-box;margin-bottom: 0.5em;}#sk-container-id-3 div.sk-estimator:hover {background-color: #d4ebff;}#sk-container-id-3 div.sk-parallel-item::after {content: \"\";width: 100%;border-bottom: 1px solid gray;flex-grow: 1;}#sk-container-id-3 div.sk-label:hover label.sk-toggleable__label {background-color: #d4ebff;}#sk-container-id-3 div.sk-serial::before {content: \"\";position: absolute;border-left: 1px solid gray;box-sizing: border-box;top: 0;bottom: 0;left: 50%;z-index: 0;}#sk-container-id-3 div.sk-serial {display: flex;flex-direction: column;align-items: center;background-color: white;padding-right: 0.2em;padding-left: 0.2em;position: relative;}#sk-container-id-3 div.sk-item {position: relative;z-index: 1;}#sk-container-id-3 div.sk-parallel {display: flex;align-items: stretch;justify-content: center;background-color: white;position: relative;}#sk-container-id-3 div.sk-item::before, #sk-container-id-3 div.sk-parallel-item::before {content: \"\";position: absolute;border-left: 1px solid gray;box-sizing: border-box;top: 0;bottom: 0;left: 50%;z-index: -1;}#sk-container-id-3 div.sk-parallel-item {display: flex;flex-direction: column;z-index: 1;position: relative;background-color: white;}#sk-container-id-3 div.sk-parallel-item:first-child::after {align-self: flex-end;width: 50%;}#sk-container-id-3 div.sk-parallel-item:last-child::after {align-self: flex-start;width: 50%;}#sk-container-id-3 div.sk-parallel-item:only-child::after {width: 0;}#sk-container-id-3 div.sk-dashed-wrapped {border: 1px dashed gray;margin: 0 0.4em 0.5em 0.4em;box-sizing: border-box;padding-bottom: 0.4em;background-color: white;}#sk-container-id-3 div.sk-label label {font-family: monospace;font-weight: bold;display: inline-block;line-height: 1.2em;}#sk-container-id-3 div.sk-label-container {text-align: center;}#sk-container-id-3 div.sk-container {/* jupyter's `normalize.less` sets `[hidden] { display: none; }` but bootstrap.min.css set `[hidden] { display: none !important; }` so we also need the `!important` here to be able to override the default hidden behavior on the sphinx rendered scikit-learn.org. See: https://github.com/scikit-learn/scikit-learn/issues/21755 */display: inline-block !important;position: relative;}#sk-container-id-3 div.sk-text-repr-fallback {display: none;}</style><div id=\"sk-container-id-3\" class=\"sk-top-container\"><div class=\"sk-text-repr-fallback\"><pre>PCA()</pre><b>In a Jupyter environment, please rerun this cell to show the HTML representation or trust the notebook. <br />On GitHub, the HTML representation is unable to render, please try loading this page with nbviewer.org.</b></div><div class=\"sk-container\" hidden><div class=\"sk-item\"><div class=\"sk-estimator sk-toggleable\"><input class=\"sk-toggleable__control sk-hidden--visually\" id=\"sk-estimator-id-3\" type=\"checkbox\" checked><label for=\"sk-estimator-id-3\" class=\"sk-toggleable__label sk-toggleable__label-arrow\">PCA</label><div class=\"sk-toggleable__content\"><pre>PCA()</pre></div></div></div></div></div>"
      ],
      "text/plain": [
       "PCA()"
      ]
     },
     "execution_count": 20,
     "metadata": {},
     "output_type": "execute_result"
    }
   ],
   "source": [
    "pca.fit(X=df_scaled)"
   ]
  },
  {
   "cell_type": "code",
   "execution_count": 21,
   "metadata": {},
   "outputs": [],
   "source": [
    "data_pca=pca.transform(X=df_scaled)"
   ]
  },
  {
   "cell_type": "code",
   "execution_count": 22,
   "metadata": {},
   "outputs": [],
   "source": [
    "col_pca = [f'PC{i}'for i in list(range(1,8))]"
   ]
  },
  {
   "cell_type": "code",
   "execution_count": 23,
   "metadata": {},
   "outputs": [
    {
     "data": {
      "text/plain": [
       "['PC1', 'PC2', 'PC3', 'PC4', 'PC5', 'PC6', 'PC7']"
      ]
     },
     "execution_count": 23,
     "metadata": {},
     "output_type": "execute_result"
    }
   ],
   "source": [
    "col_pca"
   ]
  },
  {
   "cell_type": "code",
   "execution_count": 24,
   "metadata": {},
   "outputs": [],
   "source": [
    "df_pca = pd.DataFrame(data_pca, index=df_crashes.index, columns = col_pca)"
   ]
  },
  {
   "cell_type": "code",
   "execution_count": 25,
   "metadata": {},
   "outputs": [
    {
     "data": {
      "text/html": [
       "<div>\n",
       "<style scoped>\n",
       "    .dataframe tbody tr th:only-of-type {\n",
       "        vertical-align: middle;\n",
       "    }\n",
       "\n",
       "    .dataframe tbody tr th {\n",
       "        vertical-align: top;\n",
       "    }\n",
       "\n",
       "    .dataframe thead th {\n",
       "        text-align: right;\n",
       "    }\n",
       "</style>\n",
       "<table border=\"1\" class=\"dataframe\">\n",
       "  <thead>\n",
       "    <tr style=\"text-align: right;\">\n",
       "      <th></th>\n",
       "      <th>PC1</th>\n",
       "      <th>PC2</th>\n",
       "      <th>PC3</th>\n",
       "      <th>PC4</th>\n",
       "      <th>PC5</th>\n",
       "      <th>PC6</th>\n",
       "      <th>PC7</th>\n",
       "    </tr>\n",
       "    <tr>\n",
       "      <th>abbrev</th>\n",
       "      <th></th>\n",
       "      <th></th>\n",
       "      <th></th>\n",
       "      <th></th>\n",
       "      <th></th>\n",
       "      <th></th>\n",
       "      <th></th>\n",
       "    </tr>\n",
       "  </thead>\n",
       "  <tbody>\n",
       "    <tr>\n",
       "      <th>AL</th>\n",
       "      <td>1.603671</td>\n",
       "      <td>0.133449</td>\n",
       "      <td>0.317881</td>\n",
       "      <td>-0.795293</td>\n",
       "      <td>-0.579719</td>\n",
       "      <td>0.046223</td>\n",
       "      <td>0.210185</td>\n",
       "    </tr>\n",
       "    <tr>\n",
       "      <th>AK</th>\n",
       "      <td>1.144212</td>\n",
       "      <td>0.858234</td>\n",
       "      <td>0.736626</td>\n",
       "      <td>0.318988</td>\n",
       "      <td>-0.228701</td>\n",
       "      <td>-1.002625</td>\n",
       "      <td>0.008966</td>\n",
       "    </tr>\n",
       "    <tr>\n",
       "      <th>AZ</th>\n",
       "      <td>1.432172</td>\n",
       "      <td>-0.420506</td>\n",
       "      <td>0.338136</td>\n",
       "      <td>0.552513</td>\n",
       "      <td>0.168718</td>\n",
       "      <td>-0.804523</td>\n",
       "      <td>-0.076107</td>\n",
       "    </tr>\n",
       "    <tr>\n",
       "      <th>AR</th>\n",
       "      <td>2.491584</td>\n",
       "      <td>0.348968</td>\n",
       "      <td>-1.788747</td>\n",
       "      <td>0.264064</td>\n",
       "      <td>-0.372382</td>\n",
       "      <td>-0.481849</td>\n",
       "      <td>-0.147636</td>\n",
       "    </tr>\n",
       "    <tr>\n",
       "      <th>CA</th>\n",
       "      <td>-1.750638</td>\n",
       "      <td>0.633625</td>\n",
       "      <td>-0.136176</td>\n",
       "      <td>-0.974916</td>\n",
       "      <td>-0.315811</td>\n",
       "      <td>0.178510</td>\n",
       "      <td>-0.068958</td>\n",
       "    </tr>\n",
       "    <tr>\n",
       "      <th>CO</th>\n",
       "      <td>-0.925120</td>\n",
       "      <td>-0.154388</td>\n",
       "      <td>0.146177</td>\n",
       "      <td>-0.568096</td>\n",
       "      <td>0.116420</td>\n",
       "      <td>-0.240859</td>\n",
       "      <td>-0.098428</td>\n",
       "    </tr>\n",
       "    <tr>\n",
       "      <th>CT</th>\n",
       "      <td>-2.125359</td>\n",
       "      <td>1.370600</td>\n",
       "      <td>0.743078</td>\n",
       "      <td>-0.485553</td>\n",
       "      <td>-0.088337</td>\n",
       "      <td>0.486531</td>\n",
       "      <td>0.020256</td>\n",
       "    </tr>\n",
       "    <tr>\n",
       "      <th>DE</th>\n",
       "      <td>0.324658</td>\n",
       "      <td>1.574245</td>\n",
       "      <td>0.440982</td>\n",
       "      <td>0.338057</td>\n",
       "      <td>0.095481</td>\n",
       "      <td>-0.466100</td>\n",
       "      <td>-0.188961</td>\n",
       "    </tr>\n",
       "    <tr>\n",
       "      <th>DC</th>\n",
       "      <td>-4.635926</td>\n",
       "      <td>0.918997</td>\n",
       "      <td>0.720078</td>\n",
       "      <td>1.184313</td>\n",
       "      <td>-0.172554</td>\n",
       "      <td>-0.052800</td>\n",
       "      <td>-0.124806</td>\n",
       "    </tr>\n",
       "    <tr>\n",
       "      <th>FL</th>\n",
       "      <td>0.495689</td>\n",
       "      <td>1.435282</td>\n",
       "      <td>-0.661126</td>\n",
       "      <td>1.185136</td>\n",
       "      <td>-0.108007</td>\n",
       "      <td>-0.244305</td>\n",
       "      <td>-0.086714</td>\n",
       "    </tr>\n",
       "    <tr>\n",
       "      <th>GA</th>\n",
       "      <td>-0.525427</td>\n",
       "      <td>0.266688</td>\n",
       "      <td>-0.996973</td>\n",
       "      <td>0.224700</td>\n",
       "      <td>-0.396993</td>\n",
       "      <td>-0.216235</td>\n",
       "      <td>-0.085949</td>\n",
       "    </tr>\n",
       "    <tr>\n",
       "      <th>HI</th>\n",
       "      <td>1.928047</td>\n",
       "      <td>-0.210245</td>\n",
       "      <td>1.802469</td>\n",
       "      <td>-0.307749</td>\n",
       "      <td>0.474235</td>\n",
       "      <td>0.243974</td>\n",
       "      <td>-0.027264</td>\n",
       "    </tr>\n",
       "    <tr>\n",
       "      <th>ID</th>\n",
       "      <td>0.313123</td>\n",
       "      <td>-2.427597</td>\n",
       "      <td>0.346267</td>\n",
       "      <td>0.242471</td>\n",
       "      <td>0.156261</td>\n",
       "      <td>-0.601429</td>\n",
       "      <td>-0.179853</td>\n",
       "    </tr>\n",
       "    <tr>\n",
       "      <th>IL</th>\n",
       "      <td>-0.879340</td>\n",
       "      <td>-0.325337</td>\n",
       "      <td>0.030223</td>\n",
       "      <td>-0.510003</td>\n",
       "      <td>-0.104465</td>\n",
       "      <td>0.214890</td>\n",
       "      <td>-0.260829</td>\n",
       "    </tr>\n",
       "    <tr>\n",
       "      <th>IN</th>\n",
       "      <td>-0.395326</td>\n",
       "      <td>-1.517806</td>\n",
       "      <td>-0.480372</td>\n",
       "      <td>0.170787</td>\n",
       "      <td>-0.207524</td>\n",
       "      <td>-0.138441</td>\n",
       "      <td>-0.188620</td>\n",
       "    </tr>\n",
       "    <tr>\n",
       "      <th>IA</th>\n",
       "      <td>-0.350122</td>\n",
       "      <td>-1.606357</td>\n",
       "      <td>-1.143953</td>\n",
       "      <td>0.018727</td>\n",
       "      <td>-0.530035</td>\n",
       "      <td>-0.085099</td>\n",
       "      <td>0.013598</td>\n",
       "    </tr>\n",
       "    <tr>\n",
       "      <th>KS</th>\n",
       "      <td>0.268724</td>\n",
       "      <td>-0.388644</td>\n",
       "      <td>-0.487894</td>\n",
       "      <td>-0.360658</td>\n",
       "      <td>-0.000996</td>\n",
       "      <td>-0.428149</td>\n",
       "      <td>0.250526</td>\n",
       "    </tr>\n",
       "    <tr>\n",
       "      <th>KY</th>\n",
       "      <td>1.079427</td>\n",
       "      <td>0.167894</td>\n",
       "      <td>-1.079836</td>\n",
       "      <td>0.249861</td>\n",
       "      <td>-0.186248</td>\n",
       "      <td>-0.329688</td>\n",
       "      <td>0.644697</td>\n",
       "    </tr>\n",
       "    <tr>\n",
       "      <th>LA</th>\n",
       "      <td>1.879427</td>\n",
       "      <td>3.648218</td>\n",
       "      <td>0.044439</td>\n",
       "      <td>-0.119691</td>\n",
       "      <td>0.753572</td>\n",
       "      <td>-0.199459</td>\n",
       "      <td>-0.157203</td>\n",
       "    </tr>\n",
       "    <tr>\n",
       "      <th>ME</th>\n",
       "      <td>0.033165</td>\n",
       "      <td>-2.000912</td>\n",
       "      <td>0.533298</td>\n",
       "      <td>-0.086128</td>\n",
       "      <td>-0.098662</td>\n",
       "      <td>-0.174564</td>\n",
       "      <td>0.105598</td>\n",
       "    </tr>\n",
       "    <tr>\n",
       "      <th>MD</th>\n",
       "      <td>-1.708747</td>\n",
       "      <td>2.126422</td>\n",
       "      <td>-0.245391</td>\n",
       "      <td>-1.031566</td>\n",
       "      <td>0.350294</td>\n",
       "      <td>0.261180</td>\n",
       "      <td>-0.207411</td>\n",
       "    </tr>\n",
       "    <tr>\n",
       "      <th>MA</th>\n",
       "      <td>-3.651457</td>\n",
       "      <td>-0.025082</td>\n",
       "      <td>0.113215</td>\n",
       "      <td>0.426712</td>\n",
       "      <td>-0.063149</td>\n",
       "      <td>0.553208</td>\n",
       "      <td>0.012150</td>\n",
       "    </tr>\n",
       "    <tr>\n",
       "      <th>MI</th>\n",
       "      <td>-1.370703</td>\n",
       "      <td>1.191239</td>\n",
       "      <td>-0.186198</td>\n",
       "      <td>0.541027</td>\n",
       "      <td>-0.478532</td>\n",
       "      <td>0.226347</td>\n",
       "      <td>0.247314</td>\n",
       "    </tr>\n",
       "    <tr>\n",
       "      <th>MN</th>\n",
       "      <td>-2.909039</td>\n",
       "      <td>-0.903774</td>\n",
       "      <td>-0.364751</td>\n",
       "      <td>-0.368156</td>\n",
       "      <td>-0.166400</td>\n",
       "      <td>0.326086</td>\n",
       "      <td>-0.079624</td>\n",
       "    </tr>\n",
       "    <tr>\n",
       "      <th>MS</th>\n",
       "      <td>-0.864891</td>\n",
       "      <td>0.583746</td>\n",
       "      <td>-1.243684</td>\n",
       "      <td>-0.420313</td>\n",
       "      <td>2.747442</td>\n",
       "      <td>-0.112549</td>\n",
       "      <td>0.099181</td>\n",
       "    </tr>\n",
       "    <tr>\n",
       "      <th>MO</th>\n",
       "      <td>0.659733</td>\n",
       "      <td>0.003254</td>\n",
       "      <td>0.556189</td>\n",
       "      <td>-0.863878</td>\n",
       "      <td>-0.218926</td>\n",
       "      <td>0.263466</td>\n",
       "      <td>0.024157</td>\n",
       "    </tr>\n",
       "    <tr>\n",
       "      <th>MT</th>\n",
       "      <td>3.627923</td>\n",
       "      <td>-1.242992</td>\n",
       "      <td>1.161788</td>\n",
       "      <td>1.027460</td>\n",
       "      <td>0.743786</td>\n",
       "      <td>0.670637</td>\n",
       "      <td>-0.001845</td>\n",
       "    </tr>\n",
       "    <tr>\n",
       "      <th>NE</th>\n",
       "      <td>-0.467083</td>\n",
       "      <td>-1.309009</td>\n",
       "      <td>-1.151495</td>\n",
       "      <td>0.501488</td>\n",
       "      <td>-0.023241</td>\n",
       "      <td>0.576539</td>\n",
       "      <td>-0.164922</td>\n",
       "    </tr>\n",
       "    <tr>\n",
       "      <th>NV</th>\n",
       "      <td>-0.106028</td>\n",
       "      <td>0.689652</td>\n",
       "      <td>0.348203</td>\n",
       "      <td>0.339661</td>\n",
       "      <td>-0.084383</td>\n",
       "      <td>-0.217774</td>\n",
       "      <td>-0.259724</td>\n",
       "    </tr>\n",
       "    <tr>\n",
       "      <th>NH</th>\n",
       "      <td>-1.775362</td>\n",
       "      <td>-1.239018</td>\n",
       "      <td>0.243905</td>\n",
       "      <td>-0.333879</td>\n",
       "      <td>-0.154285</td>\n",
       "      <td>0.149904</td>\n",
       "      <td>0.045691</td>\n",
       "    </tr>\n",
       "    <tr>\n",
       "      <th>NJ</th>\n",
       "      <td>-3.018309</td>\n",
       "      <td>1.935870</td>\n",
       "      <td>-0.202882</td>\n",
       "      <td>1.084987</td>\n",
       "      <td>-0.175650</td>\n",
       "      <td>0.299146</td>\n",
       "      <td>0.210557</td>\n",
       "    </tr>\n",
       "    <tr>\n",
       "      <th>NM</th>\n",
       "      <td>0.469291</td>\n",
       "      <td>-0.384486</td>\n",
       "      <td>-0.970288</td>\n",
       "      <td>0.582329</td>\n",
       "      <td>0.760605</td>\n",
       "      <td>-0.558852</td>\n",
       "      <td>-0.060830</td>\n",
       "    </tr>\n",
       "    <tr>\n",
       "      <th>NY</th>\n",
       "      <td>-2.041784</td>\n",
       "      <td>1.538860</td>\n",
       "      <td>0.502944</td>\n",
       "      <td>0.797447</td>\n",
       "      <td>-0.191340</td>\n",
       "      <td>0.055756</td>\n",
       "      <td>0.199052</td>\n",
       "    </tr>\n",
       "    <tr>\n",
       "      <th>NC</th>\n",
       "      <td>0.816262</td>\n",
       "      <td>-0.793312</td>\n",
       "      <td>0.368251</td>\n",
       "      <td>-0.661200</td>\n",
       "      <td>-0.402007</td>\n",
       "      <td>0.095075</td>\n",
       "      <td>0.137858</td>\n",
       "    </tr>\n",
       "    <tr>\n",
       "      <th>ND</th>\n",
       "      <td>4.423619</td>\n",
       "      <td>-0.965716</td>\n",
       "      <td>-0.948543</td>\n",
       "      <td>0.775273</td>\n",
       "      <td>0.023569</td>\n",
       "      <td>1.222200</td>\n",
       "      <td>-0.185898</td>\n",
       "    </tr>\n",
       "    <tr>\n",
       "      <th>OH</th>\n",
       "      <td>-0.539149</td>\n",
       "      <td>-0.892627</td>\n",
       "      <td>-0.389892</td>\n",
       "      <td>-0.523138</td>\n",
       "      <td>-0.404637</td>\n",
       "      <td>0.600677</td>\n",
       "      <td>-0.021991</td>\n",
       "    </tr>\n",
       "    <tr>\n",
       "      <th>OK</th>\n",
       "      <td>1.893587</td>\n",
       "      <td>1.569755</td>\n",
       "      <td>-0.682062</td>\n",
       "      <td>-1.038087</td>\n",
       "      <td>-0.285300</td>\n",
       "      <td>-0.140813</td>\n",
       "      <td>-0.167974</td>\n",
       "    </tr>\n",
       "    <tr>\n",
       "      <th>OR</th>\n",
       "      <td>-1.559410</td>\n",
       "      <td>-1.407253</td>\n",
       "      <td>0.356474</td>\n",
       "      <td>0.205008</td>\n",
       "      <td>0.370710</td>\n",
       "      <td>-0.423845</td>\n",
       "      <td>0.092349</td>\n",
       "    </tr>\n",
       "    <tr>\n",
       "      <th>PA</th>\n",
       "      <td>1.814053</td>\n",
       "      <td>0.936589</td>\n",
       "      <td>1.097425</td>\n",
       "      <td>-0.903765</td>\n",
       "      <td>-0.416062</td>\n",
       "      <td>-0.285857</td>\n",
       "      <td>-0.001473</td>\n",
       "    </tr>\n",
       "    <tr>\n",
       "      <th>RI</th>\n",
       "      <td>-2.164484</td>\n",
       "      <td>1.119077</td>\n",
       "      <td>0.547331</td>\n",
       "      <td>0.555804</td>\n",
       "      <td>-0.093357</td>\n",
       "      <td>0.600640</td>\n",
       "      <td>0.065785</td>\n",
       "    </tr>\n",
       "    <tr>\n",
       "      <th>SC</th>\n",
       "      <td>4.672014</td>\n",
       "      <td>-0.019524</td>\n",
       "      <td>0.807443</td>\n",
       "      <td>0.529369</td>\n",
       "      <td>-0.013393</td>\n",
       "      <td>0.793271</td>\n",
       "      <td>0.101770</td>\n",
       "    </tr>\n",
       "    <tr>\n",
       "      <th>SD</th>\n",
       "      <td>2.147476</td>\n",
       "      <td>-1.684670</td>\n",
       "      <td>-0.046152</td>\n",
       "      <td>0.354682</td>\n",
       "      <td>-0.325454</td>\n",
       "      <td>0.041000</td>\n",
       "      <td>-0.001036</td>\n",
       "    </tr>\n",
       "    <tr>\n",
       "      <th>TN</th>\n",
       "      <td>0.954879</td>\n",
       "      <td>0.260777</td>\n",
       "      <td>-1.195367</td>\n",
       "      <td>-0.594569</td>\n",
       "      <td>-0.082671</td>\n",
       "      <td>0.333748</td>\n",
       "      <td>0.253928</td>\n",
       "    </tr>\n",
       "    <tr>\n",
       "      <th>TX</th>\n",
       "      <td>2.204308</td>\n",
       "      <td>1.432642</td>\n",
       "      <td>0.586286</td>\n",
       "      <td>-0.189818</td>\n",
       "      <td>0.059423</td>\n",
       "      <td>0.450637</td>\n",
       "      <td>-0.047766</td>\n",
       "    </tr>\n",
       "    <tr>\n",
       "      <th>UT</th>\n",
       "      <td>-1.985211</td>\n",
       "      <td>-1.283064</td>\n",
       "      <td>0.615428</td>\n",
       "      <td>-0.116365</td>\n",
       "      <td>-0.339627</td>\n",
       "      <td>-0.979614</td>\n",
       "      <td>-0.007981</td>\n",
       "    </tr>\n",
       "    <tr>\n",
       "      <th>VT</th>\n",
       "      <td>-0.630338</td>\n",
       "      <td>-1.504611</td>\n",
       "      <td>-0.146494</td>\n",
       "      <td>0.035877</td>\n",
       "      <td>-0.210385</td>\n",
       "      <td>-0.106305</td>\n",
       "      <td>-0.198325</td>\n",
       "    </tr>\n",
       "    <tr>\n",
       "      <th>VA</th>\n",
       "      <td>-1.797349</td>\n",
       "      <td>-0.177639</td>\n",
       "      <td>-0.988900</td>\n",
       "      <td>-0.734181</td>\n",
       "      <td>-0.231569</td>\n",
       "      <td>0.303000</td>\n",
       "      <td>-0.044200</td>\n",
       "    </tr>\n",
       "    <tr>\n",
       "      <th>WA</th>\n",
       "      <td>-2.096452</td>\n",
       "      <td>-0.958969</td>\n",
       "      <td>0.854118</td>\n",
       "      <td>0.277163</td>\n",
       "      <td>0.087962</td>\n",
       "      <td>0.041864</td>\n",
       "      <td>0.016137</td>\n",
       "    </tr>\n",
       "    <tr>\n",
       "      <th>WV</th>\n",
       "      <td>3.619129</td>\n",
       "      <td>1.485286</td>\n",
       "      <td>-0.054355</td>\n",
       "      <td>0.041551</td>\n",
       "      <td>-0.622525</td>\n",
       "      <td>-0.530780</td>\n",
       "      <td>0.136625</td>\n",
       "    </tr>\n",
       "    <tr>\n",
       "      <th>WI</th>\n",
       "      <td>-1.187447</td>\n",
       "      <td>-1.829767</td>\n",
       "      <td>0.522376</td>\n",
       "      <td>-0.486705</td>\n",
       "      <td>1.234004</td>\n",
       "      <td>0.044176</td>\n",
       "      <td>0.243181</td>\n",
       "    </tr>\n",
       "    <tr>\n",
       "      <th>WY</th>\n",
       "      <td>1.164326</td>\n",
       "      <td>-0.556064</td>\n",
       "      <td>0.710502</td>\n",
       "      <td>-0.351745</td>\n",
       "      <td>0.230845</td>\n",
       "      <td>-0.256171</td>\n",
       "      <td>0.002769</td>\n",
       "    </tr>\n",
       "  </tbody>\n",
       "</table>\n",
       "</div>"
      ],
      "text/plain": [
       "             PC1       PC2       PC3       PC4       PC5       PC6       PC7\n",
       "abbrev                                                                      \n",
       "AL      1.603671  0.133449  0.317881 -0.795293 -0.579719  0.046223  0.210185\n",
       "AK      1.144212  0.858234  0.736626  0.318988 -0.228701 -1.002625  0.008966\n",
       "AZ      1.432172 -0.420506  0.338136  0.552513  0.168718 -0.804523 -0.076107\n",
       "AR      2.491584  0.348968 -1.788747  0.264064 -0.372382 -0.481849 -0.147636\n",
       "CA     -1.750638  0.633625 -0.136176 -0.974916 -0.315811  0.178510 -0.068958\n",
       "CO     -0.925120 -0.154388  0.146177 -0.568096  0.116420 -0.240859 -0.098428\n",
       "CT     -2.125359  1.370600  0.743078 -0.485553 -0.088337  0.486531  0.020256\n",
       "DE      0.324658  1.574245  0.440982  0.338057  0.095481 -0.466100 -0.188961\n",
       "DC     -4.635926  0.918997  0.720078  1.184313 -0.172554 -0.052800 -0.124806\n",
       "FL      0.495689  1.435282 -0.661126  1.185136 -0.108007 -0.244305 -0.086714\n",
       "GA     -0.525427  0.266688 -0.996973  0.224700 -0.396993 -0.216235 -0.085949\n",
       "HI      1.928047 -0.210245  1.802469 -0.307749  0.474235  0.243974 -0.027264\n",
       "ID      0.313123 -2.427597  0.346267  0.242471  0.156261 -0.601429 -0.179853\n",
       "IL     -0.879340 -0.325337  0.030223 -0.510003 -0.104465  0.214890 -0.260829\n",
       "IN     -0.395326 -1.517806 -0.480372  0.170787 -0.207524 -0.138441 -0.188620\n",
       "IA     -0.350122 -1.606357 -1.143953  0.018727 -0.530035 -0.085099  0.013598\n",
       "KS      0.268724 -0.388644 -0.487894 -0.360658 -0.000996 -0.428149  0.250526\n",
       "KY      1.079427  0.167894 -1.079836  0.249861 -0.186248 -0.329688  0.644697\n",
       "LA      1.879427  3.648218  0.044439 -0.119691  0.753572 -0.199459 -0.157203\n",
       "ME      0.033165 -2.000912  0.533298 -0.086128 -0.098662 -0.174564  0.105598\n",
       "MD     -1.708747  2.126422 -0.245391 -1.031566  0.350294  0.261180 -0.207411\n",
       "MA     -3.651457 -0.025082  0.113215  0.426712 -0.063149  0.553208  0.012150\n",
       "MI     -1.370703  1.191239 -0.186198  0.541027 -0.478532  0.226347  0.247314\n",
       "MN     -2.909039 -0.903774 -0.364751 -0.368156 -0.166400  0.326086 -0.079624\n",
       "MS     -0.864891  0.583746 -1.243684 -0.420313  2.747442 -0.112549  0.099181\n",
       "MO      0.659733  0.003254  0.556189 -0.863878 -0.218926  0.263466  0.024157\n",
       "MT      3.627923 -1.242992  1.161788  1.027460  0.743786  0.670637 -0.001845\n",
       "NE     -0.467083 -1.309009 -1.151495  0.501488 -0.023241  0.576539 -0.164922\n",
       "NV     -0.106028  0.689652  0.348203  0.339661 -0.084383 -0.217774 -0.259724\n",
       "NH     -1.775362 -1.239018  0.243905 -0.333879 -0.154285  0.149904  0.045691\n",
       "NJ     -3.018309  1.935870 -0.202882  1.084987 -0.175650  0.299146  0.210557\n",
       "NM      0.469291 -0.384486 -0.970288  0.582329  0.760605 -0.558852 -0.060830\n",
       "NY     -2.041784  1.538860  0.502944  0.797447 -0.191340  0.055756  0.199052\n",
       "NC      0.816262 -0.793312  0.368251 -0.661200 -0.402007  0.095075  0.137858\n",
       "ND      4.423619 -0.965716 -0.948543  0.775273  0.023569  1.222200 -0.185898\n",
       "OH     -0.539149 -0.892627 -0.389892 -0.523138 -0.404637  0.600677 -0.021991\n",
       "OK      1.893587  1.569755 -0.682062 -1.038087 -0.285300 -0.140813 -0.167974\n",
       "OR     -1.559410 -1.407253  0.356474  0.205008  0.370710 -0.423845  0.092349\n",
       "PA      1.814053  0.936589  1.097425 -0.903765 -0.416062 -0.285857 -0.001473\n",
       "RI     -2.164484  1.119077  0.547331  0.555804 -0.093357  0.600640  0.065785\n",
       "SC      4.672014 -0.019524  0.807443  0.529369 -0.013393  0.793271  0.101770\n",
       "SD      2.147476 -1.684670 -0.046152  0.354682 -0.325454  0.041000 -0.001036\n",
       "TN      0.954879  0.260777 -1.195367 -0.594569 -0.082671  0.333748  0.253928\n",
       "TX      2.204308  1.432642  0.586286 -0.189818  0.059423  0.450637 -0.047766\n",
       "UT     -1.985211 -1.283064  0.615428 -0.116365 -0.339627 -0.979614 -0.007981\n",
       "VT     -0.630338 -1.504611 -0.146494  0.035877 -0.210385 -0.106305 -0.198325\n",
       "VA     -1.797349 -0.177639 -0.988900 -0.734181 -0.231569  0.303000 -0.044200\n",
       "WA     -2.096452 -0.958969  0.854118  0.277163  0.087962  0.041864  0.016137\n",
       "WV      3.619129  1.485286 -0.054355  0.041551 -0.622525 -0.530780  0.136625\n",
       "WI     -1.187447 -1.829767  0.522376 -0.486705  1.234004  0.044176  0.243181\n",
       "WY      1.164326 -0.556064  0.710502 -0.351745  0.230845 -0.256171  0.002769"
      ]
     },
     "execution_count": 25,
     "metadata": {},
     "output_type": "execute_result"
    }
   ],
   "source": [
    "df_pca"
   ]
  },
  {
   "cell_type": "markdown",
   "metadata": {},
   "source": [
    "### Visualize Components & Clusters"
   ]
  },
  {
   "cell_type": "code",
   "execution_count": 26,
   "metadata": {},
   "outputs": [],
   "source": [
    "import plotly.express as px"
   ]
  },
  {
   "cell_type": "code",
   "execution_count": 29,
   "metadata": {},
   "outputs": [
    {
     "data": {
      "application/vnd.plotly.v1+json": {
       "config": {
        "plotlyServerURL": "https://plot.ly"
       },
       "data": [
        {
         "hovertemplate": "<b>%{hovertext}</b><br><br>PC1=%{x}<br>PC2=%{y}<br>color=%{marker.color}<extra></extra>",
         "hovertext": [
          "AL",
          "AK",
          "AZ",
          "AR",
          "CA",
          "CO",
          "CT",
          "DE",
          "DC",
          "FL",
          "GA",
          "HI",
          "ID",
          "IL",
          "IN",
          "IA",
          "KS",
          "KY",
          "LA",
          "ME",
          "MD",
          "MA",
          "MI",
          "MN",
          "MS",
          "MO",
          "MT",
          "NE",
          "NV",
          "NH",
          "NJ",
          "NM",
          "NY",
          "NC",
          "ND",
          "OH",
          "OK",
          "OR",
          "PA",
          "RI",
          "SC",
          "SD",
          "TN",
          "TX",
          "UT",
          "VT",
          "VA",
          "WA",
          "WV",
          "WI",
          "WY"
         ],
         "legendgroup": "",
         "marker": {
          "color": [
           1,
           1,
           1,
           1,
           0,
           2,
           0,
           1,
           0,
           1,
           2,
           1,
           2,
           2,
           2,
           2,
           2,
           1,
           1,
           2,
           0,
           0,
           0,
           0,
           2,
           1,
           1,
           2,
           2,
           2,
           0,
           2,
           0,
           2,
           1,
           2,
           1,
           2,
           1,
           0,
           1,
           1,
           1,
           1,
           2,
           2,
           2,
           2,
           1,
           2,
           1
          ],
          "coloraxis": "coloraxis",
          "symbol": "circle"
         },
         "mode": "markers",
         "name": "",
         "orientation": "v",
         "showlegend": false,
         "type": "scatter",
         "x": [
          1.6036712920638672,
          1.1442118763157039,
          1.4321719675062357,
          2.4915835190732842,
          -1.7506382539760206,
          -0.9251202488860342,
          -2.1253592451717935,
          0.32465801625134494,
          -4.635925570333746,
          0.49568879401434646,
          -0.5254271281060762,
          1.9280469577362793,
          0.3131230890359158,
          -0.8793400373779718,
          -0.39532570367795183,
          -0.35012213312125506,
          0.2687239062094826,
          1.0794269363998854,
          1.8794272670384382,
          0.03316519504817376,
          -1.7087474308482185,
          -3.6514570255071024,
          -1.3707025287055496,
          -2.9090385017494254,
          -0.8648908005003847,
          0.6597331360588236,
          3.6279233622540157,
          -0.4670829323269445,
          -0.10602771952958712,
          -1.775362264303605,
          -3.0183091362105583,
          0.46929132612342367,
          -2.041784270695779,
          0.8162622009397005,
          4.4236191540295104,
          -0.5391493221420199,
          1.893587382371987,
          -1.5594101671724687,
          1.8140529975938473,
          -2.164483928167344,
          4.672013995002564,
          2.1474762931769718,
          0.95487882111058,
          2.2043082790237185,
          -1.9852112540426603,
          -0.6303375914131888,
          -1.797349228160101,
          -2.0964516369964383,
          3.6191288449153323,
          -1.187446704960038,
          1.1643261547888315
         ],
         "xaxis": "x",
         "y": [
          0.13344926968043047,
          0.8582339894293289,
          -0.4205056168878649,
          0.3489681166159155,
          0.6336251692149383,
          -0.15438781557476322,
          1.37060015821328,
          1.5742446940343622,
          0.9189968817049315,
          1.4352819371517147,
          0.26668801394331637,
          -0.21024525016261197,
          -2.4275974951793944,
          -0.3253365977441939,
          -1.517806341220062,
          -1.60635699958614,
          -0.3886444292577362,
          0.16789431438424768,
          3.6482175303581457,
          -2.000911578971501,
          2.1264219888559825,
          -0.02508167354041232,
          1.1912387964051954,
          -0.903773578216851,
          0.5837461625713328,
          0.0032540382009016433,
          -1.2429920461888102,
          -1.309009475824436,
          0.6896524437862012,
          -1.2390182746107858,
          1.9358695221967666,
          -0.38448561899398725,
          1.538860350958054,
          -0.7933123527821455,
          -0.9657162440262443,
          -0.8926266350305354,
          1.5697553106029372,
          -1.4072529017769795,
          0.9365890102701382,
          1.1190774735244104,
          -0.01952380812622258,
          -1.6846702110775797,
          0.26077660911209494,
          1.4326421493384114,
          -1.283064311815796,
          -1.5046108331408614,
          -0.17763939227071374,
          -0.9589686595869715,
          1.485285546427215,
          -1.829767319915332,
          -0.5560640154713206
         ],
         "yaxis": "y"
        }
       ],
       "layout": {
        "autosize": true,
        "coloraxis": {
         "colorbar": {
          "title": {
           "text": "color"
          }
         },
         "colorscale": [
          [
           0,
           "#0d0887"
          ],
          [
           0.1111111111111111,
           "#46039f"
          ],
          [
           0.2222222222222222,
           "#7201a8"
          ],
          [
           0.3333333333333333,
           "#9c179e"
          ],
          [
           0.4444444444444444,
           "#bd3786"
          ],
          [
           0.5555555555555556,
           "#d8576b"
          ],
          [
           0.6666666666666666,
           "#ed7953"
          ],
          [
           0.7777777777777778,
           "#fb9f3a"
          ],
          [
           0.8888888888888888,
           "#fdca26"
          ],
          [
           1,
           "#f0f921"
          ]
         ]
        },
        "legend": {
         "tracegroupgap": 0
        },
        "margin": {
         "t": 60
        },
        "template": {
         "data": {
          "bar": [
           {
            "error_x": {
             "color": "#2a3f5f"
            },
            "error_y": {
             "color": "#2a3f5f"
            },
            "marker": {
             "line": {
              "color": "#E5ECF6",
              "width": 0.5
             },
             "pattern": {
              "fillmode": "overlay",
              "size": 10,
              "solidity": 0.2
             }
            },
            "type": "bar"
           }
          ],
          "barpolar": [
           {
            "marker": {
             "line": {
              "color": "#E5ECF6",
              "width": 0.5
             },
             "pattern": {
              "fillmode": "overlay",
              "size": 10,
              "solidity": 0.2
             }
            },
            "type": "barpolar"
           }
          ],
          "carpet": [
           {
            "aaxis": {
             "endlinecolor": "#2a3f5f",
             "gridcolor": "white",
             "linecolor": "white",
             "minorgridcolor": "white",
             "startlinecolor": "#2a3f5f"
            },
            "baxis": {
             "endlinecolor": "#2a3f5f",
             "gridcolor": "white",
             "linecolor": "white",
             "minorgridcolor": "white",
             "startlinecolor": "#2a3f5f"
            },
            "type": "carpet"
           }
          ],
          "choropleth": [
           {
            "colorbar": {
             "outlinewidth": 0,
             "ticks": ""
            },
            "type": "choropleth"
           }
          ],
          "contour": [
           {
            "colorbar": {
             "outlinewidth": 0,
             "ticks": ""
            },
            "colorscale": [
             [
              0,
              "#0d0887"
             ],
             [
              0.1111111111111111,
              "#46039f"
             ],
             [
              0.2222222222222222,
              "#7201a8"
             ],
             [
              0.3333333333333333,
              "#9c179e"
             ],
             [
              0.4444444444444444,
              "#bd3786"
             ],
             [
              0.5555555555555556,
              "#d8576b"
             ],
             [
              0.6666666666666666,
              "#ed7953"
             ],
             [
              0.7777777777777778,
              "#fb9f3a"
             ],
             [
              0.8888888888888888,
              "#fdca26"
             ],
             [
              1,
              "#f0f921"
             ]
            ],
            "type": "contour"
           }
          ],
          "contourcarpet": [
           {
            "colorbar": {
             "outlinewidth": 0,
             "ticks": ""
            },
            "type": "contourcarpet"
           }
          ],
          "heatmap": [
           {
            "colorbar": {
             "outlinewidth": 0,
             "ticks": ""
            },
            "colorscale": [
             [
              0,
              "#0d0887"
             ],
             [
              0.1111111111111111,
              "#46039f"
             ],
             [
              0.2222222222222222,
              "#7201a8"
             ],
             [
              0.3333333333333333,
              "#9c179e"
             ],
             [
              0.4444444444444444,
              "#bd3786"
             ],
             [
              0.5555555555555556,
              "#d8576b"
             ],
             [
              0.6666666666666666,
              "#ed7953"
             ],
             [
              0.7777777777777778,
              "#fb9f3a"
             ],
             [
              0.8888888888888888,
              "#fdca26"
             ],
             [
              1,
              "#f0f921"
             ]
            ],
            "type": "heatmap"
           }
          ],
          "heatmapgl": [
           {
            "colorbar": {
             "outlinewidth": 0,
             "ticks": ""
            },
            "colorscale": [
             [
              0,
              "#0d0887"
             ],
             [
              0.1111111111111111,
              "#46039f"
             ],
             [
              0.2222222222222222,
              "#7201a8"
             ],
             [
              0.3333333333333333,
              "#9c179e"
             ],
             [
              0.4444444444444444,
              "#bd3786"
             ],
             [
              0.5555555555555556,
              "#d8576b"
             ],
             [
              0.6666666666666666,
              "#ed7953"
             ],
             [
              0.7777777777777778,
              "#fb9f3a"
             ],
             [
              0.8888888888888888,
              "#fdca26"
             ],
             [
              1,
              "#f0f921"
             ]
            ],
            "type": "heatmapgl"
           }
          ],
          "histogram": [
           {
            "marker": {
             "pattern": {
              "fillmode": "overlay",
              "size": 10,
              "solidity": 0.2
             }
            },
            "type": "histogram"
           }
          ],
          "histogram2d": [
           {
            "colorbar": {
             "outlinewidth": 0,
             "ticks": ""
            },
            "colorscale": [
             [
              0,
              "#0d0887"
             ],
             [
              0.1111111111111111,
              "#46039f"
             ],
             [
              0.2222222222222222,
              "#7201a8"
             ],
             [
              0.3333333333333333,
              "#9c179e"
             ],
             [
              0.4444444444444444,
              "#bd3786"
             ],
             [
              0.5555555555555556,
              "#d8576b"
             ],
             [
              0.6666666666666666,
              "#ed7953"
             ],
             [
              0.7777777777777778,
              "#fb9f3a"
             ],
             [
              0.8888888888888888,
              "#fdca26"
             ],
             [
              1,
              "#f0f921"
             ]
            ],
            "type": "histogram2d"
           }
          ],
          "histogram2dcontour": [
           {
            "colorbar": {
             "outlinewidth": 0,
             "ticks": ""
            },
            "colorscale": [
             [
              0,
              "#0d0887"
             ],
             [
              0.1111111111111111,
              "#46039f"
             ],
             [
              0.2222222222222222,
              "#7201a8"
             ],
             [
              0.3333333333333333,
              "#9c179e"
             ],
             [
              0.4444444444444444,
              "#bd3786"
             ],
             [
              0.5555555555555556,
              "#d8576b"
             ],
             [
              0.6666666666666666,
              "#ed7953"
             ],
             [
              0.7777777777777778,
              "#fb9f3a"
             ],
             [
              0.8888888888888888,
              "#fdca26"
             ],
             [
              1,
              "#f0f921"
             ]
            ],
            "type": "histogram2dcontour"
           }
          ],
          "mesh3d": [
           {
            "colorbar": {
             "outlinewidth": 0,
             "ticks": ""
            },
            "type": "mesh3d"
           }
          ],
          "parcoords": [
           {
            "line": {
             "colorbar": {
              "outlinewidth": 0,
              "ticks": ""
             }
            },
            "type": "parcoords"
           }
          ],
          "pie": [
           {
            "automargin": true,
            "type": "pie"
           }
          ],
          "scatter": [
           {
            "fillpattern": {
             "fillmode": "overlay",
             "size": 10,
             "solidity": 0.2
            },
            "type": "scatter"
           }
          ],
          "scatter3d": [
           {
            "line": {
             "colorbar": {
              "outlinewidth": 0,
              "ticks": ""
             }
            },
            "marker": {
             "colorbar": {
              "outlinewidth": 0,
              "ticks": ""
             }
            },
            "type": "scatter3d"
           }
          ],
          "scattercarpet": [
           {
            "marker": {
             "colorbar": {
              "outlinewidth": 0,
              "ticks": ""
             }
            },
            "type": "scattercarpet"
           }
          ],
          "scattergeo": [
           {
            "marker": {
             "colorbar": {
              "outlinewidth": 0,
              "ticks": ""
             }
            },
            "type": "scattergeo"
           }
          ],
          "scattergl": [
           {
            "marker": {
             "colorbar": {
              "outlinewidth": 0,
              "ticks": ""
             }
            },
            "type": "scattergl"
           }
          ],
          "scattermapbox": [
           {
            "marker": {
             "colorbar": {
              "outlinewidth": 0,
              "ticks": ""
             }
            },
            "type": "scattermapbox"
           }
          ],
          "scatterpolar": [
           {
            "marker": {
             "colorbar": {
              "outlinewidth": 0,
              "ticks": ""
             }
            },
            "type": "scatterpolar"
           }
          ],
          "scatterpolargl": [
           {
            "marker": {
             "colorbar": {
              "outlinewidth": 0,
              "ticks": ""
             }
            },
            "type": "scatterpolargl"
           }
          ],
          "scatterternary": [
           {
            "marker": {
             "colorbar": {
              "outlinewidth": 0,
              "ticks": ""
             }
            },
            "type": "scatterternary"
           }
          ],
          "surface": [
           {
            "colorbar": {
             "outlinewidth": 0,
             "ticks": ""
            },
            "colorscale": [
             [
              0,
              "#0d0887"
             ],
             [
              0.1111111111111111,
              "#46039f"
             ],
             [
              0.2222222222222222,
              "#7201a8"
             ],
             [
              0.3333333333333333,
              "#9c179e"
             ],
             [
              0.4444444444444444,
              "#bd3786"
             ],
             [
              0.5555555555555556,
              "#d8576b"
             ],
             [
              0.6666666666666666,
              "#ed7953"
             ],
             [
              0.7777777777777778,
              "#fb9f3a"
             ],
             [
              0.8888888888888888,
              "#fdca26"
             ],
             [
              1,
              "#f0f921"
             ]
            ],
            "type": "surface"
           }
          ],
          "table": [
           {
            "cells": {
             "fill": {
              "color": "#EBF0F8"
             },
             "line": {
              "color": "white"
             }
            },
            "header": {
             "fill": {
              "color": "#C8D4E3"
             },
             "line": {
              "color": "white"
             }
            },
            "type": "table"
           }
          ]
         },
         "layout": {
          "annotationdefaults": {
           "arrowcolor": "#2a3f5f",
           "arrowhead": 0,
           "arrowwidth": 1
          },
          "autotypenumbers": "strict",
          "coloraxis": {
           "colorbar": {
            "outlinewidth": 0,
            "ticks": ""
           }
          },
          "colorscale": {
           "diverging": [
            [
             0,
             "#8e0152"
            ],
            [
             0.1,
             "#c51b7d"
            ],
            [
             0.2,
             "#de77ae"
            ],
            [
             0.3,
             "#f1b6da"
            ],
            [
             0.4,
             "#fde0ef"
            ],
            [
             0.5,
             "#f7f7f7"
            ],
            [
             0.6,
             "#e6f5d0"
            ],
            [
             0.7,
             "#b8e186"
            ],
            [
             0.8,
             "#7fbc41"
            ],
            [
             0.9,
             "#4d9221"
            ],
            [
             1,
             "#276419"
            ]
           ],
           "sequential": [
            [
             0,
             "#0d0887"
            ],
            [
             0.1111111111111111,
             "#46039f"
            ],
            [
             0.2222222222222222,
             "#7201a8"
            ],
            [
             0.3333333333333333,
             "#9c179e"
            ],
            [
             0.4444444444444444,
             "#bd3786"
            ],
            [
             0.5555555555555556,
             "#d8576b"
            ],
            [
             0.6666666666666666,
             "#ed7953"
            ],
            [
             0.7777777777777778,
             "#fb9f3a"
            ],
            [
             0.8888888888888888,
             "#fdca26"
            ],
            [
             1,
             "#f0f921"
            ]
           ],
           "sequentialminus": [
            [
             0,
             "#0d0887"
            ],
            [
             0.1111111111111111,
             "#46039f"
            ],
            [
             0.2222222222222222,
             "#7201a8"
            ],
            [
             0.3333333333333333,
             "#9c179e"
            ],
            [
             0.4444444444444444,
             "#bd3786"
            ],
            [
             0.5555555555555556,
             "#d8576b"
            ],
            [
             0.6666666666666666,
             "#ed7953"
            ],
            [
             0.7777777777777778,
             "#fb9f3a"
            ],
            [
             0.8888888888888888,
             "#fdca26"
            ],
            [
             1,
             "#f0f921"
            ]
           ]
          },
          "colorway": [
           "#636efa",
           "#EF553B",
           "#00cc96",
           "#ab63fa",
           "#FFA15A",
           "#19d3f3",
           "#FF6692",
           "#B6E880",
           "#FF97FF",
           "#FECB52"
          ],
          "font": {
           "color": "#2a3f5f"
          },
          "geo": {
           "bgcolor": "white",
           "lakecolor": "white",
           "landcolor": "#E5ECF6",
           "showlakes": true,
           "showland": true,
           "subunitcolor": "white"
          },
          "hoverlabel": {
           "align": "left"
          },
          "hovermode": "closest",
          "mapbox": {
           "style": "light"
          },
          "paper_bgcolor": "white",
          "plot_bgcolor": "#E5ECF6",
          "polar": {
           "angularaxis": {
            "gridcolor": "white",
            "linecolor": "white",
            "ticks": ""
           },
           "bgcolor": "#E5ECF6",
           "radialaxis": {
            "gridcolor": "white",
            "linecolor": "white",
            "ticks": ""
           }
          },
          "scene": {
           "xaxis": {
            "backgroundcolor": "#E5ECF6",
            "gridcolor": "white",
            "gridwidth": 2,
            "linecolor": "white",
            "showbackground": true,
            "ticks": "",
            "zerolinecolor": "white"
           },
           "yaxis": {
            "backgroundcolor": "#E5ECF6",
            "gridcolor": "white",
            "gridwidth": 2,
            "linecolor": "white",
            "showbackground": true,
            "ticks": "",
            "zerolinecolor": "white"
           },
           "zaxis": {
            "backgroundcolor": "#E5ECF6",
            "gridcolor": "white",
            "gridwidth": 2,
            "linecolor": "white",
            "showbackground": true,
            "ticks": "",
            "zerolinecolor": "white"
           }
          },
          "shapedefaults": {
           "line": {
            "color": "#2a3f5f"
           }
          },
          "ternary": {
           "aaxis": {
            "gridcolor": "white",
            "linecolor": "white",
            "ticks": ""
           },
           "baxis": {
            "gridcolor": "white",
            "linecolor": "white",
            "ticks": ""
           },
           "bgcolor": "#E5ECF6",
           "caxis": {
            "gridcolor": "white",
            "linecolor": "white",
            "ticks": ""
           }
          },
          "title": {
           "x": 0.05
          },
          "xaxis": {
           "automargin": true,
           "gridcolor": "white",
           "linecolor": "white",
           "ticks": "",
           "title": {
            "standoff": 15
           },
           "zerolinecolor": "white",
           "zerolinewidth": 2
          },
          "yaxis": {
           "automargin": true,
           "gridcolor": "white",
           "linecolor": "white",
           "ticks": "",
           "title": {
            "standoff": 15
           },
           "zerolinecolor": "white",
           "zerolinewidth": 2
          }
         }
        },
        "xaxis": {
         "anchor": "y",
         "autorange": true,
         "domain": [
          0,
          1
         ],
         "range": [
          -5.253325750966992,
          5.28941417563581
         ],
         "title": {
          "text": "PC1"
         },
         "type": "linear"
        },
        "yaxis": {
         "anchor": "x",
         "autorange": true,
         "domain": [
          0,
          1
         ],
         "range": [
          -2.8980346165792827,
          4.118654651758034
         ],
         "title": {
          "text": "PC2"
         },
         "type": "linear"
        }
       }
      },
      "image/png": "[encoded data removed]",
      "text/html": [
       "<div>                            <div id=\"536a15be-951f-486e-9873-c0ed91363614\" class=\"plotly-graph-div\" style=\"height:525px; width:100%;\"></div>            <script type=\"text/javascript\">                require([\"plotly\"], function(Plotly) {                    window.PLOTLYENV=window.PLOTLYENV || {};                                    if (document.getElementById(\"536a15be-951f-486e-9873-c0ed91363614\")) {                    Plotly.newPlot(                        \"536a15be-951f-486e-9873-c0ed91363614\",                        [{\"hovertemplate\":\"<b>%{hovertext}</b><br><br>PC1=%{x}<br>PC2=%{y}<br>color=%{marker.color}<extra></extra>\",\"hovertext\":[\"AL\",\"AK\",\"AZ\",\"AR\",\"CA\",\"CO\",\"CT\",\"DE\",\"DC\",\"FL\",\"GA\",\"HI\",\"ID\",\"IL\",\"IN\",\"IA\",\"KS\",\"KY\",\"LA\",\"ME\",\"MD\",\"MA\",\"MI\",\"MN\",\"MS\",\"MO\",\"MT\",\"NE\",\"NV\",\"NH\",\"NJ\",\"NM\",\"NY\",\"NC\",\"ND\",\"OH\",\"OK\",\"OR\",\"PA\",\"RI\",\"SC\",\"SD\",\"TN\",\"TX\",\"UT\",\"VT\",\"VA\",\"WA\",\"WV\",\"WI\",\"WY\"],\"legendgroup\":\"\",\"marker\":{\"color\":[1,1,1,1,0,2,0,1,0,1,2,1,2,2,2,2,2,1,1,2,0,0,0,0,2,1,1,2,2,2,0,2,0,2,1,2,1,2,1,0,1,1,1,1,2,2,2,2,1,2,1],\"coloraxis\":\"coloraxis\",\"symbol\":\"circle\"},\"mode\":\"markers\",\"name\":\"\",\"orientation\":\"v\",\"showlegend\":false,\"x\":[1.6036712920638672,1.1442118763157039,1.4321719675062357,2.4915835190732842,-1.7506382539760206,-0.9251202488860342,-2.1253592451717935,0.32465801625134494,-4.635925570333746,0.49568879401434646,-0.5254271281060762,1.9280469577362793,0.3131230890359158,-0.8793400373779718,-0.39532570367795183,-0.35012213312125506,0.2687239062094826,1.0794269363998854,1.8794272670384382,0.03316519504817376,-1.7087474308482185,-3.6514570255071024,-1.3707025287055496,-2.9090385017494254,-0.8648908005003847,0.6597331360588236,3.6279233622540157,-0.4670829323269445,-0.10602771952958712,-1.775362264303605,-3.0183091362105583,0.46929132612342367,-2.041784270695779,0.8162622009397005,4.4236191540295104,-0.5391493221420199,1.893587382371987,-1.5594101671724687,1.8140529975938473,-2.164483928167344,4.672013995002564,2.1474762931769718,0.95487882111058,2.2043082790237185,-1.9852112540426603,-0.6303375914131888,-1.797349228160101,-2.0964516369964383,3.6191288449153323,-1.187446704960038,1.1643261547888315],\"xaxis\":\"x\",\"y\":[0.13344926968043047,0.8582339894293289,-0.4205056168878649,0.3489681166159155,0.6336251692149383,-0.15438781557476322,1.37060015821328,1.5742446940343622,0.9189968817049315,1.4352819371517147,0.26668801394331637,-0.21024525016261197,-2.4275974951793944,-0.3253365977441939,-1.517806341220062,-1.60635699958614,-0.3886444292577362,0.16789431438424768,3.6482175303581457,-2.000911578971501,2.1264219888559825,-0.02508167354041232,1.1912387964051954,-0.903773578216851,0.5837461625713328,0.0032540382009016433,-1.2429920461888102,-1.309009475824436,0.6896524437862012,-1.2390182746107858,1.9358695221967666,-0.38448561899398725,1.538860350958054,-0.7933123527821455,-0.9657162440262443,-0.8926266350305354,1.5697553106029372,-1.4072529017769795,0.9365890102701382,1.1190774735244104,-0.01952380812622258,-1.6846702110775797,0.26077660911209494,1.4326421493384114,-1.283064311815796,-1.5046108331408614,-0.17763939227071374,-0.9589686595869715,1.485285546427215,-1.829767319915332,-0.5560640154713206],\"yaxis\":\"y\",\"type\":\"scatter\"}],                        {\"template\":{\"data\":{\"histogram2dcontour\":[{\"type\":\"histogram2dcontour\",\"colorbar\":{\"outlinewidth\":0,\"ticks\":\"\"},\"colorscale\":[[0.0,\"#0d0887\"],[0.1111111111111111,\"#46039f\"],[0.2222222222222222,\"#7201a8\"],[0.3333333333333333,\"#9c179e\"],[0.4444444444444444,\"#bd3786\"],[0.5555555555555556,\"#d8576b\"],[0.6666666666666666,\"#ed7953\"],[0.7777777777777778,\"#fb9f3a\"],[0.8888888888888888,\"#fdca26\"],[1.0,\"#f0f921\"]]}],\"choropleth\":[{\"type\":\"choropleth\",\"colorbar\":{\"outlinewidth\":0,\"ticks\":\"\"}}],\"histogram2d\":[{\"type\":\"histogram2d\",\"colorbar\":{\"outlinewidth\":0,\"ticks\":\"\"},\"colorscale\":[[0.0,\"#0d0887\"],[0.1111111111111111,\"#46039f\"],[0.2222222222222222,\"#7201a8\"],[0.3333333333333333,\"#9c179e\"],[0.4444444444444444,\"#bd3786\"],[0.5555555555555556,\"#d8576b\"],[0.6666666666666666,\"#ed7953\"],[0.7777777777777778,\"#fb9f3a\"],[0.8888888888888888,\"#fdca26\"],[1.0,\"#f0f921\"]]}],\"heatmap\":[{\"type\":\"heatmap\",\"colorbar\":{\"outlinewidth\":0,\"ticks\":\"\"},\"colorscale\":[[0.0,\"#0d0887\"],[0.1111111111111111,\"#46039f\"],[0.2222222222222222,\"#7201a8\"],[0.3333333333333333,\"#9c179e\"],[0.4444444444444444,\"#bd3786\"],[0.5555555555555556,\"#d8576b\"],[0.6666666666666666,\"#ed7953\"],[0.7777777777777778,\"#fb9f3a\"],[0.8888888888888888,\"#fdca26\"],[1.0,\"#f0f921\"]]}],\"heatmapgl\":[{\"type\":\"heatmapgl\",\"colorbar\":{\"outlinewidth\":0,\"ticks\":\"\"},\"colorscale\":[[0.0,\"#0d0887\"],[0.1111111111111111,\"#46039f\"],[0.2222222222222222,\"#7201a8\"],[0.3333333333333333,\"#9c179e\"],[0.4444444444444444,\"#bd3786\"],[0.5555555555555556,\"#d8576b\"],[0.6666666666666666,\"#ed7953\"],[0.7777777777777778,\"#fb9f3a\"],[0.8888888888888888,\"#fdca26\"],[1.0,\"#f0f921\"]]}],\"contourcarpet\":[{\"type\":\"contourcarpet\",\"colorbar\":{\"outlinewidth\":0,\"ticks\":\"\"}}],\"contour\":[{\"type\":\"contour\",\"colorbar\":{\"outlinewidth\":0,\"ticks\":\"\"},\"colorscale\":[[0.0,\"#0d0887\"],[0.1111111111111111,\"#46039f\"],[0.2222222222222222,\"#7201a8\"],[0.3333333333333333,\"#9c179e\"],[0.4444444444444444,\"#bd3786\"],[0.5555555555555556,\"#d8576b\"],[0.6666666666666666,\"#ed7953\"],[0.7777777777777778,\"#fb9f3a\"],[0.8888888888888888,\"#fdca26\"],[1.0,\"#f0f921\"]]}],\"surface\":[{\"type\":\"surface\",\"colorbar\":{\"outlinewidth\":0,\"ticks\":\"\"},\"colorscale\":[[0.0,\"#0d0887\"],[0.1111111111111111,\"#46039f\"],[0.2222222222222222,\"#7201a8\"],[0.3333333333333333,\"#9c179e\"],[0.4444444444444444,\"#bd3786\"],[0.5555555555555556,\"#d8576b\"],[0.6666666666666666,\"#ed7953\"],[0.7777777777777778,\"#fb9f3a\"],[0.8888888888888888,\"#fdca26\"],[1.0,\"#f0f921\"]]}],\"mesh3d\":[{\"type\":\"mesh3d\",\"colorbar\":{\"outlinewidth\":0,\"ticks\":\"\"}}],\"scatter\":[{\"fillpattern\":{\"fillmode\":\"overlay\",\"size\":10,\"solidity\":0.2},\"type\":\"scatter\"}],\"parcoords\":[{\"type\":\"parcoords\",\"line\":{\"colorbar\":{\"outlinewidth\":0,\"ticks\":\"\"}}}],\"scatterpolargl\":[{\"type\":\"scatterpolargl\",\"marker\":{\"colorbar\":{\"outlinewidth\":0,\"ticks\":\"\"}}}],\"bar\":[{\"error_x\":{\"color\":\"#2a3f5f\"},\"error_y\":{\"color\":\"#2a3f5f\"},\"marker\":{\"line\":{\"color\":\"#E5ECF6\",\"width\":0.5},\"pattern\":{\"fillmode\":\"overlay\",\"size\":10,\"solidity\":0.2}},\"type\":\"bar\"}],\"scattergeo\":[{\"type\":\"scattergeo\",\"marker\":{\"colorbar\":{\"outlinewidth\":0,\"ticks\":\"\"}}}],\"scatterpolar\":[{\"type\":\"scatterpolar\",\"marker\":{\"colorbar\":{\"outlinewidth\":0,\"ticks\":\"\"}}}],\"histogram\":[{\"marker\":{\"pattern\":{\"fillmode\":\"overlay\",\"size\":10,\"solidity\":0.2}},\"type\":\"histogram\"}],\"scattergl\":[{\"type\":\"scattergl\",\"marker\":{\"colorbar\":{\"outlinewidth\":0,\"ticks\":\"\"}}}],\"scatter3d\":[{\"type\":\"scatter3d\",\"line\":{\"colorbar\":{\"outlinewidth\":0,\"ticks\":\"\"}},\"marker\":{\"colorbar\":{\"outlinewidth\":0,\"ticks\":\"\"}}}],\"scattermapbox\":[{\"type\":\"scattermapbox\",\"marker\":{\"colorbar\":{\"outlinewidth\":0,\"ticks\":\"\"}}}],\"scatterternary\":[{\"type\":\"scatterternary\",\"marker\":{\"colorbar\":{\"outlinewidth\":0,\"ticks\":\"\"}}}],\"scattercarpet\":[{\"type\":\"scattercarpet\",\"marker\":{\"colorbar\":{\"outlinewidth\":0,\"ticks\":\"\"}}}],\"carpet\":[{\"aaxis\":{\"endlinecolor\":\"#2a3f5f\",\"gridcolor\":\"white\",\"linecolor\":\"white\",\"minorgridcolor\":\"white\",\"startlinecolor\":\"#2a3f5f\"},\"baxis\":{\"endlinecolor\":\"#2a3f5f\",\"gridcolor\":\"white\",\"linecolor\":\"white\",\"minorgridcolor\":\"white\",\"startlinecolor\":\"#2a3f5f\"},\"type\":\"carpet\"}],\"table\":[{\"cells\":{\"fill\":{\"color\":\"#EBF0F8\"},\"line\":{\"color\":\"white\"}},\"header\":{\"fill\":{\"color\":\"#C8D4E3\"},\"line\":{\"color\":\"white\"}},\"type\":\"table\"}],\"barpolar\":[{\"marker\":{\"line\":{\"color\":\"#E5ECF6\",\"width\":0.5},\"pattern\":{\"fillmode\":\"overlay\",\"size\":10,\"solidity\":0.2}},\"type\":\"barpolar\"}],\"pie\":[{\"automargin\":true,\"type\":\"pie\"}]},\"layout\":{\"autotypenumbers\":\"strict\",\"colorway\":[\"#636efa\",\"#EF553B\",\"#00cc96\",\"#ab63fa\",\"#FFA15A\",\"#19d3f3\",\"#FF6692\",\"#B6E880\",\"#FF97FF\",\"#FECB52\"],\"font\":{\"color\":\"#2a3f5f\"},\"hovermode\":\"closest\",\"hoverlabel\":{\"align\":\"left\"},\"paper_bgcolor\":\"white\",\"plot_bgcolor\":\"#E5ECF6\",\"polar\":{\"bgcolor\":\"#E5ECF6\",\"angularaxis\":{\"gridcolor\":\"white\",\"linecolor\":\"white\",\"ticks\":\"\"},\"radialaxis\":{\"gridcolor\":\"white\",\"linecolor\":\"white\",\"ticks\":\"\"}},\"ternary\":{\"bgcolor\":\"#E5ECF6\",\"aaxis\":{\"gridcolor\":\"white\",\"linecolor\":\"white\",\"ticks\":\"\"},\"baxis\":{\"gridcolor\":\"white\",\"linecolor\":\"white\",\"ticks\":\"\"},\"caxis\":{\"gridcolor\":\"white\",\"linecolor\":\"white\",\"ticks\":\"\"}},\"coloraxis\":{\"colorbar\":{\"outlinewidth\":0,\"ticks\":\"\"}},\"colorscale\":{\"sequential\":[[0.0,\"#0d0887\"],[0.1111111111111111,\"#46039f\"],[0.2222222222222222,\"#7201a8\"],[0.3333333333333333,\"#9c179e\"],[0.4444444444444444,\"#bd3786\"],[0.5555555555555556,\"#d8576b\"],[0.6666666666666666,\"#ed7953\"],[0.7777777777777778,\"#fb9f3a\"],[0.8888888888888888,\"#fdca26\"],[1.0,\"#f0f921\"]],\"sequentialminus\":[[0.0,\"#0d0887\"],[0.1111111111111111,\"#46039f\"],[0.2222222222222222,\"#7201a8\"],[0.3333333333333333,\"#9c179e\"],[0.4444444444444444,\"#bd3786\"],[0.5555555555555556,\"#d8576b\"],[0.6666666666666666,\"#ed7953\"],[0.7777777777777778,\"#fb9f3a\"],[0.8888888888888888,\"#fdca26\"],[1.0,\"#f0f921\"]],\"diverging\":[[0,\"#8e0152\"],[0.1,\"#c51b7d\"],[0.2,\"#de77ae\"],[0.3,\"#f1b6da\"],[0.4,\"#fde0ef\"],[0.5,\"#f7f7f7\"],[0.6,\"#e6f5d0\"],[0.7,\"#b8e186\"],[0.8,\"#7fbc41\"],[0.9,\"#4d9221\"],[1,\"#276419\"]]},\"xaxis\":{\"gridcolor\":\"white\",\"linecolor\":\"white\",\"ticks\":\"\",\"title\":{\"standoff\":15},\"zerolinecolor\":\"white\",\"automargin\":true,\"zerolinewidth\":2},\"yaxis\":{\"gridcolor\":\"white\",\"linecolor\":\"white\",\"ticks\":\"\",\"title\":{\"standoff\":15},\"zerolinecolor\":\"white\",\"automargin\":true,\"zerolinewidth\":2},\"scene\":{\"xaxis\":{\"backgroundcolor\":\"#E5ECF6\",\"gridcolor\":\"white\",\"linecolor\":\"white\",\"showbackground\":true,\"ticks\":\"\",\"zerolinecolor\":\"white\",\"gridwidth\":2},\"yaxis\":{\"backgroundcolor\":\"#E5ECF6\",\"gridcolor\":\"white\",\"linecolor\":\"white\",\"showbackground\":true,\"ticks\":\"\",\"zerolinecolor\":\"white\",\"gridwidth\":2},\"zaxis\":{\"backgroundcolor\":\"#E5ECF6\",\"gridcolor\":\"white\",\"linecolor\":\"white\",\"showbackground\":true,\"ticks\":\"\",\"zerolinecolor\":\"white\",\"gridwidth\":2}},\"shapedefaults\":{\"line\":{\"color\":\"#2a3f5f\"}},\"annotationdefaults\":{\"arrowcolor\":\"#2a3f5f\",\"arrowhead\":0,\"arrowwidth\":1},\"geo\":{\"bgcolor\":\"white\",\"landcolor\":\"#E5ECF6\",\"subunitcolor\":\"white\",\"showland\":true,\"showlakes\":true,\"lakecolor\":\"white\"},\"title\":{\"x\":0.05},\"mapbox\":{\"style\":\"light\"}}},\"xaxis\":{\"anchor\":\"y\",\"domain\":[0.0,1.0],\"title\":{\"text\":\"PC1\"}},\"yaxis\":{\"anchor\":\"x\",\"domain\":[0.0,1.0],\"title\":{\"text\":\"PC2\"}},\"coloraxis\":{\"colorbar\":{\"title\":{\"text\":\"color\"}},\"colorscale\":[[0.0,\"#0d0887\"],[0.1111111111111111,\"#46039f\"],[0.2222222222222222,\"#7201a8\"],[0.3333333333333333,\"#9c179e\"],[0.4444444444444444,\"#bd3786\"],[0.5555555555555556,\"#d8576b\"],[0.6666666666666666,\"#ed7953\"],[0.7777777777777778,\"#fb9f3a\"],[0.8888888888888888,\"#fdca26\"],[1.0,\"#f0f921\"]]},\"legend\":{\"tracegroupgap\":0},\"margin\":{\"t\":60}},                        {\"responsive\": true}                    ).then(function(){\n",
       "                            \n",
       "var gd = document.getElementById('536a15be-951f-486e-9873-c0ed91363614');\n",
       "var x = new MutationObserver(function (mutations, observer) {{\n",
       "        var display = window.getComputedStyle(gd).display;\n",
       "        if (!display || display === 'none') {{\n",
       "            console.log([gd, 'removed!']);\n",
       "            Plotly.purge(gd);\n",
       "            observer.disconnect();\n",
       "        }}\n",
       "}});\n",
       "\n",
       "// Listen for the removal of the full notebook cells\n",
       "var notebookContainer = gd.closest('#notebook-container');\n",
       "if (notebookContainer) {{\n",
       "    x.observe(notebookContainer, {childList: true});\n",
       "}}\n",
       "\n",
       "// Listen for the clearing of the current output cell\n",
       "var outputEl = gd.closest('.output');\n",
       "if (outputEl) {{\n",
       "    x.observe(outputEl, {childList: true});\n",
       "}}\n",
       "\n",
       "                        })                };                });            </script>        </div>"
      ]
     },
     "metadata": {},
     "output_type": "display_data"
    }
   ],
   "source": [
    "px.scatter(data_frame=df_pca, x='PC1', y='PC2', color=df_pred.pred_kms, hover_name=df_crashes.index)"
   ]
  },
  {
   "cell_type": "markdown",
   "metadata": {},
   "source": [
    "## [ ] Explained Variance Ratio"
   ]
  },
  {
   "cell_type": "code",
   "execution_count": 31,
   "metadata": {},
   "outputs": [
    {
     "data": {
      "text/plain": [
       "array([0.57342168, 0.22543042, 0.07865743, 0.05007557, 0.04011   ,\n",
       "       0.02837999, 0.00392491])"
      ]
     },
     "execution_count": 31,
     "metadata": {},
     "output_type": "execute_result"
    }
   ],
   "source": [
    "pca.explained_variance_ratio_"
   ]
  },
  {
   "cell_type": "code",
   "execution_count": 33,
   "metadata": {},
   "outputs": [
    {
     "data": {
      "text/plain": [
       "array([0.57342168, 0.7988521 , 0.87750953, 0.9275851 , 0.9676951 ,\n",
       "       0.99607509, 1.        ])"
      ]
     },
     "execution_count": 33,
     "metadata": {},
     "output_type": "execute_result"
    }
   ],
   "source": [
    "pca.explained_variance_ratio_.cumsum()"
   ]
  },
  {
   "cell_type": "markdown",
   "metadata": {},
   "source": [
    "## [ ] Relationship between Original Variables & Components"
   ]
  },
  {
   "cell_type": "markdown",
   "metadata": {},
   "source": [
    "### Loading Vectors"
   ]
  },
  {
   "cell_type": "code",
   "execution_count": 34,
   "metadata": {},
   "outputs": [],
   "source": [
    "df_weights = pd.DataFrame(pca.components_.T, columns=col_pca, index=df_crashes.columns)"
   ]
  },
  {
   "cell_type": "code",
   "execution_count": 35,
   "metadata": {},
   "outputs": [
    {
     "data": {
      "text/html": [
       "<style type=\"text/css\">\n",
       "#T_13310_row0_col0, #T_13310_row0_col6, #T_13310_row1_col2, #T_13310_row2_col4, #T_13310_row2_col5, #T_13310_row5_col3, #T_13310_row6_col1 {\n",
       "  background-color: #023858;\n",
       "  color: #f1f1f1;\n",
       "}\n",
       "#T_13310_row0_col1 {\n",
       "  background-color: #f7f0f7;\n",
       "  color: #000000;\n",
       "}\n",
       "#T_13310_row0_col2, #T_13310_row6_col2 {\n",
       "  background-color: #f8f1f8;\n",
       "  color: #000000;\n",
       "}\n",
       "#T_13310_row0_col3, #T_13310_row4_col3 {\n",
       "  background-color: #6ba5cd;\n",
       "  color: #f1f1f1;\n",
       "}\n",
       "#T_13310_row0_col4 {\n",
       "  background-color: #04629a;\n",
       "  color: #f1f1f1;\n",
       "}\n",
       "#T_13310_row0_col5 {\n",
       "  background-color: #cdd0e5;\n",
       "  color: #000000;\n",
       "}\n",
       "#T_13310_row1_col0 {\n",
       "  background-color: #046299;\n",
       "  color: #f1f1f1;\n",
       "}\n",
       "#T_13310_row1_col1 {\n",
       "  background-color: #f5eff6;\n",
       "  color: #000000;\n",
       "}\n",
       "#T_13310_row1_col3 {\n",
       "  background-color: #dbdaeb;\n",
       "  color: #000000;\n",
       "}\n",
       "#T_13310_row1_col4 {\n",
       "  background-color: #1c7fb8;\n",
       "  color: #f1f1f1;\n",
       "}\n",
       "#T_13310_row1_col5 {\n",
       "  background-color: #d8d7e9;\n",
       "  color: #000000;\n",
       "}\n",
       "#T_13310_row1_col6 {\n",
       "  background-color: #93b5d6;\n",
       "  color: #000000;\n",
       "}\n",
       "#T_13310_row2_col0, #T_13310_row5_col1 {\n",
       "  background-color: #034369;\n",
       "  color: #f1f1f1;\n",
       "}\n",
       "#T_13310_row2_col1, #T_13310_row3_col4, #T_13310_row4_col2, #T_13310_row4_col5, #T_13310_row4_col6, #T_13310_row5_col0, #T_13310_row6_col3 {\n",
       "  background-color: #fff7fb;\n",
       "  color: #000000;\n",
       "}\n",
       "#T_13310_row2_col2 {\n",
       "  background-color: #adc1dd;\n",
       "  color: #000000;\n",
       "}\n",
       "#T_13310_row2_col3 {\n",
       "  background-color: #4295c3;\n",
       "  color: #f1f1f1;\n",
       "}\n",
       "#T_13310_row2_col6 {\n",
       "  background-color: #c0c9e2;\n",
       "  color: #000000;\n",
       "}\n",
       "#T_13310_row3_col0 {\n",
       "  background-color: #034a74;\n",
       "  color: #f1f1f1;\n",
       "}\n",
       "#T_13310_row3_col1 {\n",
       "  background-color: #fdf5fa;\n",
       "  color: #000000;\n",
       "}\n",
       "#T_13310_row3_col2 {\n",
       "  background-color: #e2dfee;\n",
       "  color: #000000;\n",
       "}\n",
       "#T_13310_row3_col3 {\n",
       "  background-color: #3991c1;\n",
       "  color: #f1f1f1;\n",
       "}\n",
       "#T_13310_row3_col5 {\n",
       "  background-color: #84b0d3;\n",
       "  color: #f1f1f1;\n",
       "}\n",
       "#T_13310_row3_col6 {\n",
       "  background-color: #bdc8e1;\n",
       "  color: #000000;\n",
       "}\n",
       "#T_13310_row4_col0 {\n",
       "  background-color: #034267;\n",
       "  color: #f1f1f1;\n",
       "}\n",
       "#T_13310_row4_col1 {\n",
       "  background-color: #f1ebf5;\n",
       "  color: #000000;\n",
       "}\n",
       "#T_13310_row4_col4 {\n",
       "  background-color: #023b5d;\n",
       "  color: #f1f1f1;\n",
       "}\n",
       "#T_13310_row5_col2 {\n",
       "  background-color: #71a8ce;\n",
       "  color: #f1f1f1;\n",
       "}\n",
       "#T_13310_row5_col4 {\n",
       "  background-color: #0872b1;\n",
       "  color: #f1f1f1;\n",
       "}\n",
       "#T_13310_row5_col5 {\n",
       "  background-color: #bfc9e1;\n",
       "  color: #000000;\n",
       "}\n",
       "#T_13310_row5_col6 {\n",
       "  background-color: #8cb3d5;\n",
       "  color: #000000;\n",
       "}\n",
       "#T_13310_row6_col0 {\n",
       "  background-color: #f0eaf4;\n",
       "  color: #000000;\n",
       "}\n",
       "#T_13310_row6_col4 {\n",
       "  background-color: #2a88bc;\n",
       "  color: #f1f1f1;\n",
       "}\n",
       "#T_13310_row6_col5 {\n",
       "  background-color: #65a3cb;\n",
       "  color: #f1f1f1;\n",
       "}\n",
       "#T_13310_row6_col6 {\n",
       "  background-color: #a1bbda;\n",
       "  color: #000000;\n",
       "}\n",
       "</style>\n",
       "<table id=\"T_13310\">\n",
       "  <thead>\n",
       "    <tr>\n",
       "      <th class=\"blank level0\" >&nbsp;</th>\n",
       "      <th id=\"T_13310_level0_col0\" class=\"col_heading level0 col0\" >PC1</th>\n",
       "      <th id=\"T_13310_level0_col1\" class=\"col_heading level0 col1\" >PC2</th>\n",
       "      <th id=\"T_13310_level0_col2\" class=\"col_heading level0 col2\" >PC3</th>\n",
       "      <th id=\"T_13310_level0_col3\" class=\"col_heading level0 col3\" >PC4</th>\n",
       "      <th id=\"T_13310_level0_col4\" class=\"col_heading level0 col4\" >PC5</th>\n",
       "      <th id=\"T_13310_level0_col5\" class=\"col_heading level0 col5\" >PC6</th>\n",
       "      <th id=\"T_13310_level0_col6\" class=\"col_heading level0 col6\" >PC7</th>\n",
       "    </tr>\n",
       "  </thead>\n",
       "  <tbody>\n",
       "    <tr>\n",
       "      <th id=\"T_13310_level0_row0\" class=\"row_heading level0 row0\" >total</th>\n",
       "      <td id=\"T_13310_row0_col0\" class=\"data row0 col0\" >0.479471</td>\n",
       "      <td id=\"T_13310_row0_col1\" class=\"data row0 col1\" >0.068938</td>\n",
       "      <td id=\"T_13310_row0_col2\" class=\"data row0 col2\" >-0.269088</td>\n",
       "      <td id=\"T_13310_row0_col3\" class=\"data row0 col3\" >0.038956</td>\n",
       "      <td id=\"T_13310_row0_col4\" class=\"data row0 col4\" >0.145977</td>\n",
       "      <td id=\"T_13310_row0_col5\" class=\"data row0 col5\" >-0.169705</td>\n",
       "      <td id=\"T_13310_row0_col6\" class=\"data row0 col6\" >0.800825</td>\n",
       "    </tr>\n",
       "    <tr>\n",
       "      <th id=\"T_13310_level0_row1\" class=\"row_heading level0 row1\" >speeding</th>\n",
       "      <td id=\"T_13310_row1_col0\" class=\"data row1 col0\" >0.375347</td>\n",
       "      <td id=\"T_13310_row1_col1\" class=\"data row1 col1\" >0.076585</td>\n",
       "      <td id=\"T_13310_row1_col2\" class=\"data row1 col2\" >0.818269</td>\n",
       "      <td id=\"T_13310_row1_col3\" class=\"data row1 col3\" >-0.363749</td>\n",
       "      <td id=\"T_13310_row1_col4\" class=\"data row1 col4\" >-0.022828</td>\n",
       "      <td id=\"T_13310_row1_col5\" class=\"data row1 col5\" >-0.224792</td>\n",
       "      <td id=\"T_13310_row1_col6\" class=\"data row1 col6\" >0.017848</td>\n",
       "    </tr>\n",
       "    <tr>\n",
       "      <th id=\"T_13310_level0_row2\" class=\"row_heading level0 row2\" >alcohol</th>\n",
       "      <td id=\"T_13310_row2_col0\" class=\"data row2 col0\" >0.454376</td>\n",
       "      <td id=\"T_13310_row2_col1\" class=\"data row2 col1\" >0.033458</td>\n",
       "      <td id=\"T_13310_row2_col2\" class=\"data row2 col2\" >0.082933</td>\n",
       "      <td id=\"T_13310_row2_col3\" class=\"data row2 col3\" >0.148344</td>\n",
       "      <td id=\"T_13310_row2_col4\" class=\"data row2 col4\" >0.354798</td>\n",
       "      <td id=\"T_13310_row2_col5\" class=\"data row2 col5\" >0.783768</td>\n",
       "      <td id=\"T_13310_row2_col6\" class=\"data row2 col6\" >-0.152858</td>\n",
       "    </tr>\n",
       "    <tr>\n",
       "      <th id=\"T_13310_level0_row3\" class=\"row_heading level0 row3\" >not_distracted</th>\n",
       "      <td id=\"T_13310_row3_col0\" class=\"data row3 col0\" >0.438033</td>\n",
       "      <td id=\"T_13310_row3_col1\" class=\"data row3 col1\" >0.042375</td>\n",
       "      <td id=\"T_13310_row3_col2\" class=\"data row3 col2\" >-0.126168</td>\n",
       "      <td id=\"T_13310_row3_col3\" class=\"data row3 col3\" >0.171266</td>\n",
       "      <td id=\"T_13310_row3_col4\" class=\"data row3 col4\" >-0.856469</td>\n",
       "      <td id=\"T_13310_row3_col5\" class=\"data row3 col5\" >0.085105</td>\n",
       "      <td id=\"T_13310_row3_col6\" class=\"data row3 col6\" >-0.142478</td>\n",
       "    </tr>\n",
       "    <tr>\n",
       "      <th id=\"T_13310_level0_row4\" class=\"row_heading level0 row4\" >no_previous</th>\n",
       "      <td id=\"T_13310_row4_col0\" class=\"data row4 col0\" >0.457034</td>\n",
       "      <td id=\"T_13310_row4_col1\" class=\"data row4 col1\" >0.096129</td>\n",
       "      <td id=\"T_13310_row4_col2\" class=\"data row4 col2\" >-0.317988</td>\n",
       "      <td id=\"T_13310_row4_col3\" class=\"data row4 col3\" >0.039481</td>\n",
       "      <td id=\"T_13310_row4_col4\" class=\"data row4 col4\" >0.336110</td>\n",
       "      <td id=\"T_13310_row4_col5\" class=\"data row4 col5\" >-0.504012</td>\n",
       "      <td id=\"T_13310_row4_col6\" class=\"data row4 col6\" >-0.558754</td>\n",
       "    </tr>\n",
       "    <tr>\n",
       "      <th id=\"T_13310_level0_row5\" class=\"row_heading level0 row5\" >ins_premium</th>\n",
       "      <td id=\"T_13310_row5_col0\" class=\"data row5 col0\" >-0.130832</td>\n",
       "      <td id=\"T_13310_row5_col1\" class=\"data row5 col1\" >0.685227</td>\n",
       "      <td id=\"T_13310_row5_col2\" class=\"data row5 col2\" >0.256142</td>\n",
       "      <td id=\"T_13310_row5_col3\" class=\"data row5 col3\" >0.656396</td>\n",
       "      <td id=\"T_13310_row5_col4\" class=\"data row5 col4\" >0.042145</td>\n",
       "      <td id=\"T_13310_row5_col5\" class=\"data row5 col5\" >-0.115773</td>\n",
       "      <td id=\"T_13310_row5_col6\" class=\"data row5 col6\" >0.041266</td>\n",
       "    </tr>\n",
       "    <tr>\n",
       "      <th id=\"T_13310_level0_row6\" class=\"row_heading level0 row6\" >ins_losses</th>\n",
       "      <td id=\"T_13310_row6_col0\" class=\"data row6 col0\" >-0.069960</td>\n",
       "      <td id=\"T_13310_row6_col1\" class=\"data row6 col1\" >0.712524</td>\n",
       "      <td id=\"T_13310_row6_col2\" class=\"data row6 col2\" >-0.261735</td>\n",
       "      <td id=\"T_13310_row6_col3\" class=\"data row6 col3\" >-0.618399</td>\n",
       "      <td id=\"T_13310_row6_col4\" class=\"data row6 col4\" >-0.063272</td>\n",
       "      <td id=\"T_13310_row6_col5\" class=\"data row6 col5\" >0.178052</td>\n",
       "      <td id=\"T_13310_row6_col6\" class=\"data row6 col6\" >-0.028050</td>\n",
       "    </tr>\n",
       "  </tbody>\n",
       "</table>\n"
      ],
      "text/plain": [
       "<pandas.io.formats.style.Styler at 0x290ea6488e0>"
      ]
     },
     "execution_count": 35,
     "metadata": {},
     "output_type": "execute_result"
    }
   ],
   "source": [
    "df_weights.style.background_gradient()"
   ]
  },
  {
   "cell_type": "markdown",
   "metadata": {},
   "source": [
    "### Correlation Matrix"
   ]
  },
  {
   "cell_type": "code",
   "execution_count": 36,
   "metadata": {},
   "outputs": [
    {
     "data": {
      "text/plain": [
       "<AxesSubplot:>"
      ]
     },
     "execution_count": 36,
     "metadata": {},
     "output_type": "execute_result"
    },
    {
     "data": {
      "image/png": "[encoded data removed]",
      "text/plain": [
       "<Figure size 640x480 with 2 Axes>"
      ]
     },
     "metadata": {},
     "output_type": "display_data"
    }
   ],
   "source": [
    "sns.heatmap(df_scaled.corr(), annot=True)"
   ]
  },
  {
   "cell_type": "markdown",
   "metadata": {},
   "source": [
    "### [ ] Calculating One PCA Value"
   ]
  },
  {
   "cell_type": "code",
   "execution_count": 37,
   "metadata": {},
   "outputs": [
    {
     "data": {
      "text/plain": [
       "1.603671292063867"
      ]
     },
     "execution_count": 37,
     "metadata": {},
     "output_type": "execute_result"
    }
   ],
   "source": [
    "(df_weights['PC1']*df_scaled.loc['AL']).sum()"
   ]
  },
  {
   "cell_type": "markdown",
   "metadata": {},
   "source": [
    "## [ ] PCA & Cluster Interpretation"
   ]
  },
  {
   "cell_type": "code",
   "execution_count": 41,
   "metadata": {},
   "outputs": [
    {
     "data": {
      "application/vnd.plotly.v1+json": {
       "config": {
        "plotlyServerURL": "https://plot.ly"
       },
       "data": [
        {
         "hovertemplate": "<b>%{hovertext}</b><br><br>color=1<br>PC1=%{x}<br>PC2=%{y}<extra></extra>",
         "hovertext": [
          "AL",
          "AK",
          "AZ",
          "AR",
          "DE",
          "FL",
          "HI",
          "KY",
          "LA",
          "MO",
          "MT",
          "ND",
          "OK",
          "PA",
          "SC",
          "SD",
          "TN",
          "TX",
          "WV",
          "WY"
         ],
         "legendgroup": "1",
         "marker": {
          "color": "#636efa",
          "symbol": "circle"
         },
         "mode": "markers",
         "name": "1",
         "orientation": "v",
         "showlegend": true,
         "type": "scatter",
         "x": [
          1.6036712920638672,
          1.1442118763157039,
          1.4321719675062357,
          2.4915835190732842,
          0.32465801625134494,
          0.49568879401434646,
          1.9280469577362793,
          1.0794269363998854,
          1.8794272670384382,
          0.6597331360588236,
          3.6279233622540157,
          4.4236191540295104,
          1.893587382371987,
          1.8140529975938473,
          4.672013995002564,
          2.1474762931769718,
          0.95487882111058,
          2.2043082790237185,
          3.6191288449153323,
          1.1643261547888315
         ],
         "xaxis": "x",
         "y": [
          0.13344926968043047,
          0.8582339894293289,
          -0.4205056168878649,
          0.3489681166159155,
          1.5742446940343622,
          1.4352819371517147,
          -0.21024525016261197,
          0.16789431438424768,
          3.6482175303581457,
          0.0032540382009016433,
          -1.2429920461888102,
          -0.9657162440262443,
          1.5697553106029372,
          0.9365890102701382,
          -0.01952380812622258,
          -1.6846702110775797,
          0.26077660911209494,
          1.4326421493384114,
          1.485285546427215,
          -0.5560640154713206
         ],
         "yaxis": "y"
        },
        {
         "hovertemplate": "<b>%{hovertext}</b><br><br>color=0<br>PC1=%{x}<br>PC2=%{y}<extra></extra>",
         "hovertext": [
          "CA",
          "CT",
          "DC",
          "MD",
          "MA",
          "MI",
          "MN",
          "NJ",
          "NY",
          "RI"
         ],
         "legendgroup": "0",
         "marker": {
          "color": "#EF553B",
          "symbol": "circle"
         },
         "mode": "markers",
         "name": "0",
         "orientation": "v",
         "showlegend": true,
         "type": "scatter",
         "x": [
          -1.7506382539760206,
          -2.1253592451717935,
          -4.635925570333746,
          -1.7087474308482185,
          -3.6514570255071024,
          -1.3707025287055496,
          -2.9090385017494254,
          -3.0183091362105583,
          -2.041784270695779,
          -2.164483928167344
         ],
         "xaxis": "x",
         "y": [
          0.6336251692149383,
          1.37060015821328,
          0.9189968817049315,
          2.1264219888559825,
          -0.02508167354041232,
          1.1912387964051954,
          -0.903773578216851,
          1.9358695221967666,
          1.538860350958054,
          1.1190774735244104
         ],
         "yaxis": "y"
        },
        {
         "hovertemplate": "<b>%{hovertext}</b><br><br>color=2<br>PC1=%{x}<br>PC2=%{y}<extra></extra>",
         "hovertext": [
          "CO",
          "GA",
          "ID",
          "IL",
          "IN",
          "IA",
          "KS",
          "ME",
          "MS",
          "NE",
          "NV",
          "NH",
          "NM",
          "NC",
          "OH",
          "OR",
          "UT",
          "VT",
          "VA",
          "WA",
          "WI"
         ],
         "legendgroup": "2",
         "marker": {
          "color": "#00cc96",
          "symbol": "circle"
         },
         "mode": "markers",
         "name": "2",
         "orientation": "v",
         "showlegend": true,
         "type": "scatter",
         "x": [
          -0.9251202488860342,
          -0.5254271281060762,
          0.3131230890359158,
          -0.8793400373779718,
          -0.39532570367795183,
          -0.35012213312125506,
          0.2687239062094826,
          0.03316519504817376,
          -0.8648908005003847,
          -0.4670829323269445,
          -0.10602771952958712,
          -1.775362264303605,
          0.46929132612342367,
          0.8162622009397005,
          -0.5391493221420199,
          -1.5594101671724687,
          -1.9852112540426603,
          -0.6303375914131888,
          -1.797349228160101,
          -2.0964516369964383,
          -1.187446704960038
         ],
         "xaxis": "x",
         "y": [
          -0.15438781557476322,
          0.26668801394331637,
          -2.4275974951793944,
          -0.3253365977441939,
          -1.517806341220062,
          -1.60635699958614,
          -0.3886444292577362,
          -2.000911578971501,
          0.5837461625713328,
          -1.309009475824436,
          0.6896524437862012,
          -1.2390182746107858,
          -0.38448561899398725,
          -0.7933123527821455,
          -0.8926266350305354,
          -1.4072529017769795,
          -1.283064311815796,
          -1.5046108331408614,
          -0.17763939227071374,
          -0.9589686595869715,
          -1.829767319915332
         ],
         "yaxis": "y"
        }
       ],
       "layout": {
        "autosize": true,
        "legend": {
         "title": {
          "text": "color"
         },
         "tracegroupgap": 0
        },
        "margin": {
         "t": 60
        },
        "template": {
         "data": {
          "bar": [
           {
            "error_x": {
             "color": "#2a3f5f"
            },
            "error_y": {
             "color": "#2a3f5f"
            },
            "marker": {
             "line": {
              "color": "#E5ECF6",
              "width": 0.5
             },
             "pattern": {
              "fillmode": "overlay",
              "size": 10,
              "solidity": 0.2
             }
            },
            "type": "bar"
           }
          ],
          "barpolar": [
           {
            "marker": {
             "line": {
              "color": "#E5ECF6",
              "width": 0.5
             },
             "pattern": {
              "fillmode": "overlay",
              "size": 10,
              "solidity": 0.2
             }
            },
            "type": "barpolar"
           }
          ],
          "carpet": [
           {
            "aaxis": {
             "endlinecolor": "#2a3f5f",
             "gridcolor": "white",
             "linecolor": "white",
             "minorgridcolor": "white",
             "startlinecolor": "#2a3f5f"
            },
            "baxis": {
             "endlinecolor": "#2a3f5f",
             "gridcolor": "white",
             "linecolor": "white",
             "minorgridcolor": "white",
             "startlinecolor": "#2a3f5f"
            },
            "type": "carpet"
           }
          ],
          "choropleth": [
           {
            "colorbar": {
             "outlinewidth": 0,
             "ticks": ""
            },
            "type": "choropleth"
           }
          ],
          "contour": [
           {
            "colorbar": {
             "outlinewidth": 0,
             "ticks": ""
            },
            "colorscale": [
             [
              0,
              "#0d0887"
             ],
             [
              0.1111111111111111,
              "#46039f"
             ],
             [
              0.2222222222222222,
              "#7201a8"
             ],
             [
              0.3333333333333333,
              "#9c179e"
             ],
             [
              0.4444444444444444,
              "#bd3786"
             ],
             [
              0.5555555555555556,
              "#d8576b"
             ],
             [
              0.6666666666666666,
              "#ed7953"
             ],
             [
              0.7777777777777778,
              "#fb9f3a"
             ],
             [
              0.8888888888888888,
              "#fdca26"
             ],
             [
              1,
              "#f0f921"
             ]
            ],
            "type": "contour"
           }
          ],
          "contourcarpet": [
           {
            "colorbar": {
             "outlinewidth": 0,
             "ticks": ""
            },
            "type": "contourcarpet"
           }
          ],
          "heatmap": [
           {
            "colorbar": {
             "outlinewidth": 0,
             "ticks": ""
            },
            "colorscale": [
             [
              0,
              "#0d0887"
             ],
             [
              0.1111111111111111,
              "#46039f"
             ],
             [
              0.2222222222222222,
              "#7201a8"
             ],
             [
              0.3333333333333333,
              "#9c179e"
             ],
             [
              0.4444444444444444,
              "#bd3786"
             ],
             [
              0.5555555555555556,
              "#d8576b"
             ],
             [
              0.6666666666666666,
              "#ed7953"
             ],
             [
              0.7777777777777778,
              "#fb9f3a"
             ],
             [
              0.8888888888888888,
              "#fdca26"
             ],
             [
              1,
              "#f0f921"
             ]
            ],
            "type": "heatmap"
           }
          ],
          "heatmapgl": [
           {
            "colorbar": {
             "outlinewidth": 0,
             "ticks": ""
            },
            "colorscale": [
             [
              0,
              "#0d0887"
             ],
             [
              0.1111111111111111,
              "#46039f"
             ],
             [
              0.2222222222222222,
              "#7201a8"
             ],
             [
              0.3333333333333333,
              "#9c179e"
             ],
             [
              0.4444444444444444,
              "#bd3786"
             ],
             [
              0.5555555555555556,
              "#d8576b"
             ],
             [
              0.6666666666666666,
              "#ed7953"
             ],
             [
              0.7777777777777778,
              "#fb9f3a"
             ],
             [
              0.8888888888888888,
              "#fdca26"
             ],
             [
              1,
              "#f0f921"
             ]
            ],
            "type": "heatmapgl"
           }
          ],
          "histogram": [
           {
            "marker": {
             "pattern": {
              "fillmode": "overlay",
              "size": 10,
              "solidity": 0.2
             }
            },
            "type": "histogram"
           }
          ],
          "histogram2d": [
           {
            "colorbar": {
             "outlinewidth": 0,
             "ticks": ""
            },
            "colorscale": [
             [
              0,
              "#0d0887"
             ],
             [
              0.1111111111111111,
              "#46039f"
             ],
             [
              0.2222222222222222,
              "#7201a8"
             ],
             [
              0.3333333333333333,
              "#9c179e"
             ],
             [
              0.4444444444444444,
              "#bd3786"
             ],
             [
              0.5555555555555556,
              "#d8576b"
             ],
             [
              0.6666666666666666,
              "#ed7953"
             ],
             [
              0.7777777777777778,
              "#fb9f3a"
             ],
             [
              0.8888888888888888,
              "#fdca26"
             ],
             [
              1,
              "#f0f921"
             ]
            ],
            "type": "histogram2d"
           }
          ],
          "histogram2dcontour": [
           {
            "colorbar": {
             "outlinewidth": 0,
             "ticks": ""
            },
            "colorscale": [
             [
              0,
              "#0d0887"
             ],
             [
              0.1111111111111111,
              "#46039f"
             ],
             [
              0.2222222222222222,
              "#7201a8"
             ],
             [
              0.3333333333333333,
              "#9c179e"
             ],
             [
              0.4444444444444444,
              "#bd3786"
             ],
             [
              0.5555555555555556,
              "#d8576b"
             ],
             [
              0.6666666666666666,
              "#ed7953"
             ],
             [
              0.7777777777777778,
              "#fb9f3a"
             ],
             [
              0.8888888888888888,
              "#fdca26"
             ],
             [
              1,
              "#f0f921"
             ]
            ],
            "type": "histogram2dcontour"
           }
          ],
          "mesh3d": [
           {
            "colorbar": {
             "outlinewidth": 0,
             "ticks": ""
            },
            "type": "mesh3d"
           }
          ],
          "parcoords": [
           {
            "line": {
             "colorbar": {
              "outlinewidth": 0,
              "ticks": ""
             }
            },
            "type": "parcoords"
           }
          ],
          "pie": [
           {
            "automargin": true,
            "type": "pie"
           }
          ],
          "scatter": [
           {
            "fillpattern": {
             "fillmode": "overlay",
             "size": 10,
             "solidity": 0.2
            },
            "type": "scatter"
           }
          ],
          "scatter3d": [
           {
            "line": {
             "colorbar": {
              "outlinewidth": 0,
              "ticks": ""
             }
            },
            "marker": {
             "colorbar": {
              "outlinewidth": 0,
              "ticks": ""
             }
            },
            "type": "scatter3d"
           }
          ],
          "scattercarpet": [
           {
            "marker": {
             "colorbar": {
              "outlinewidth": 0,
              "ticks": ""
             }
            },
            "type": "scattercarpet"
           }
          ],
          "scattergeo": [
           {
            "marker": {
             "colorbar": {
              "outlinewidth": 0,
              "ticks": ""
             }
            },
            "type": "scattergeo"
           }
          ],
          "scattergl": [
           {
            "marker": {
             "colorbar": {
              "outlinewidth": 0,
              "ticks": ""
             }
            },
            "type": "scattergl"
           }
          ],
          "scattermapbox": [
           {
            "marker": {
             "colorbar": {
              "outlinewidth": 0,
              "ticks": ""
             }
            },
            "type": "scattermapbox"
           }
          ],
          "scatterpolar": [
           {
            "marker": {
             "colorbar": {
              "outlinewidth": 0,
              "ticks": ""
             }
            },
            "type": "scatterpolar"
           }
          ],
          "scatterpolargl": [
           {
            "marker": {
             "colorbar": {
              "outlinewidth": 0,
              "ticks": ""
             }
            },
            "type": "scatterpolargl"
           }
          ],
          "scatterternary": [
           {
            "marker": {
             "colorbar": {
              "outlinewidth": 0,
              "ticks": ""
             }
            },
            "type": "scatterternary"
           }
          ],
          "surface": [
           {
            "colorbar": {
             "outlinewidth": 0,
             "ticks": ""
            },
            "colorscale": [
             [
              0,
              "#0d0887"
             ],
             [
              0.1111111111111111,
              "#46039f"
             ],
             [
              0.2222222222222222,
              "#7201a8"
             ],
             [
              0.3333333333333333,
              "#9c179e"
             ],
             [
              0.4444444444444444,
              "#bd3786"
             ],
             [
              0.5555555555555556,
              "#d8576b"
             ],
             [
              0.6666666666666666,
              "#ed7953"
             ],
             [
              0.7777777777777778,
              "#fb9f3a"
             ],
             [
              0.8888888888888888,
              "#fdca26"
             ],
             [
              1,
              "#f0f921"
             ]
            ],
            "type": "surface"
           }
          ],
          "table": [
           {
            "cells": {
             "fill": {
              "color": "#EBF0F8"
             },
             "line": {
              "color": "white"
             }
            },
            "header": {
             "fill": {
              "color": "#C8D4E3"
             },
             "line": {
              "color": "white"
             }
            },
            "type": "table"
           }
          ]
         },
         "layout": {
          "annotationdefaults": {
           "arrowcolor": "#2a3f5f",
           "arrowhead": 0,
           "arrowwidth": 1
          },
          "autotypenumbers": "strict",
          "coloraxis": {
           "colorbar": {
            "outlinewidth": 0,
            "ticks": ""
           }
          },
          "colorscale": {
           "diverging": [
            [
             0,
             "#8e0152"
            ],
            [
             0.1,
             "#c51b7d"
            ],
            [
             0.2,
             "#de77ae"
            ],
            [
             0.3,
             "#f1b6da"
            ],
            [
             0.4,
             "#fde0ef"
            ],
            [
             0.5,
             "#f7f7f7"
            ],
            [
             0.6,
             "#e6f5d0"
            ],
            [
             0.7,
             "#b8e186"
            ],
            [
             0.8,
             "#7fbc41"
            ],
            [
             0.9,
             "#4d9221"
            ],
            [
             1,
             "#276419"
            ]
           ],
           "sequential": [
            [
             0,
             "#0d0887"
            ],
            [
             0.1111111111111111,
             "#46039f"
            ],
            [
             0.2222222222222222,
             "#7201a8"
            ],
            [
             0.3333333333333333,
             "#9c179e"
            ],
            [
             0.4444444444444444,
             "#bd3786"
            ],
            [
             0.5555555555555556,
             "#d8576b"
            ],
            [
             0.6666666666666666,
             "#ed7953"
            ],
            [
             0.7777777777777778,
             "#fb9f3a"
            ],
            [
             0.8888888888888888,
             "#fdca26"
            ],
            [
             1,
             "#f0f921"
            ]
           ],
           "sequentialminus": [
            [
             0,
             "#0d0887"
            ],
            [
             0.1111111111111111,
             "#46039f"
            ],
            [
             0.2222222222222222,
             "#7201a8"
            ],
            [
             0.3333333333333333,
             "#9c179e"
            ],
            [
             0.4444444444444444,
             "#bd3786"
            ],
            [
             0.5555555555555556,
             "#d8576b"
            ],
            [
             0.6666666666666666,
             "#ed7953"
            ],
            [
             0.7777777777777778,
             "#fb9f3a"
            ],
            [
             0.8888888888888888,
             "#fdca26"
            ],
            [
             1,
             "#f0f921"
            ]
           ]
          },
          "colorway": [
           "#636efa",
           "#EF553B",
           "#00cc96",
           "#ab63fa",
           "#FFA15A",
           "#19d3f3",
           "#FF6692",
           "#B6E880",
           "#FF97FF",
           "#FECB52"
          ],
          "font": {
           "color": "#2a3f5f"
          },
          "geo": {
           "bgcolor": "white",
           "lakecolor": "white",
           "landcolor": "#E5ECF6",
           "showlakes": true,
           "showland": true,
           "subunitcolor": "white"
          },
          "hoverlabel": {
           "align": "left"
          },
          "hovermode": "closest",
          "mapbox": {
           "style": "light"
          },
          "paper_bgcolor": "white",
          "plot_bgcolor": "#E5ECF6",
          "polar": {
           "angularaxis": {
            "gridcolor": "white",
            "linecolor": "white",
            "ticks": ""
           },
           "bgcolor": "#E5ECF6",
           "radialaxis": {
            "gridcolor": "white",
            "linecolor": "white",
            "ticks": ""
           }
          },
          "scene": {
           "xaxis": {
            "backgroundcolor": "#E5ECF6",
            "gridcolor": "white",
            "gridwidth": 2,
            "linecolor": "white",
            "showbackground": true,
            "ticks": "",
            "zerolinecolor": "white"
           },
           "yaxis": {
            "backgroundcolor": "#E5ECF6",
            "gridcolor": "white",
            "gridwidth": 2,
            "linecolor": "white",
            "showbackground": true,
            "ticks": "",
            "zerolinecolor": "white"
           },
           "zaxis": {
            "backgroundcolor": "#E5ECF6",
            "gridcolor": "white",
            "gridwidth": 2,
            "linecolor": "white",
            "showbackground": true,
            "ticks": "",
            "zerolinecolor": "white"
           }
          },
          "shapedefaults": {
           "line": {
            "color": "#2a3f5f"
           }
          },
          "ternary": {
           "aaxis": {
            "gridcolor": "white",
            "linecolor": "white",
            "ticks": ""
           },
           "baxis": {
            "gridcolor": "white",
            "linecolor": "white",
            "ticks": ""
           },
           "bgcolor": "#E5ECF6",
           "caxis": {
            "gridcolor": "white",
            "linecolor": "white",
            "ticks": ""
           }
          },
          "title": {
           "x": 0.05
          },
          "xaxis": {
           "automargin": true,
           "gridcolor": "white",
           "linecolor": "white",
           "ticks": "",
           "title": {
            "standoff": 15
           },
           "zerolinecolor": "white",
           "zerolinewidth": 2
          },
          "yaxis": {
           "automargin": true,
           "gridcolor": "white",
           "linecolor": "white",
           "ticks": "",
           "title": {
            "standoff": 15
           },
           "zerolinecolor": "white",
           "zerolinewidth": 2
          }
         }
        },
        "xaxis": {
         "anchor": "y",
         "autorange": true,
         "domain": [
          0,
          1
         ],
         "range": [
          -5.251044649518847,
          5.287133074187665
         ],
         "title": {
          "text": "PC1"
         },
         "type": "linear"
        },
        "yaxis": {
         "anchor": "x",
         "autorange": true,
         "domain": [
          0,
          1
         ],
         "range": [
          -2.8980346165792827,
          4.118654651758034
         ],
         "title": {
          "text": "PC2"
         },
         "type": "linear"
        }
       }
      },
      "image/png": "[encoded data removed]",
      "text/html": [
       "<div>                            <div id=\"e9a7a1d0-3c27-41a7-927e-44aa3d5d3376\" class=\"plotly-graph-div\" style=\"height:525px; width:100%;\"></div>            <script type=\"text/javascript\">                require([\"plotly\"], function(Plotly) {                    window.PLOTLYENV=window.PLOTLYENV || {};                                    if (document.getElementById(\"e9a7a1d0-3c27-41a7-927e-44aa3d5d3376\")) {                    Plotly.newPlot(                        \"e9a7a1d0-3c27-41a7-927e-44aa3d5d3376\",                        [{\"hovertemplate\":\"<b>%{hovertext}</b><br><br>color=1<br>PC1=%{x}<br>PC2=%{y}<extra></extra>\",\"hovertext\":[\"AL\",\"AK\",\"AZ\",\"AR\",\"DE\",\"FL\",\"HI\",\"KY\",\"LA\",\"MO\",\"MT\",\"ND\",\"OK\",\"PA\",\"SC\",\"SD\",\"TN\",\"TX\",\"WV\",\"WY\"],\"legendgroup\":\"1\",\"marker\":{\"color\":\"#636efa\",\"symbol\":\"circle\"},\"mode\":\"markers\",\"name\":\"1\",\"orientation\":\"v\",\"showlegend\":true,\"x\":[1.6036712920638672,1.1442118763157039,1.4321719675062357,2.4915835190732842,0.32465801625134494,0.49568879401434646,1.9280469577362793,1.0794269363998854,1.8794272670384382,0.6597331360588236,3.6279233622540157,4.4236191540295104,1.893587382371987,1.8140529975938473,4.672013995002564,2.1474762931769718,0.95487882111058,2.2043082790237185,3.6191288449153323,1.1643261547888315],\"xaxis\":\"x\",\"y\":[0.13344926968043047,0.8582339894293289,-0.4205056168878649,0.3489681166159155,1.5742446940343622,1.4352819371517147,-0.21024525016261197,0.16789431438424768,3.6482175303581457,0.0032540382009016433,-1.2429920461888102,-0.9657162440262443,1.5697553106029372,0.9365890102701382,-0.01952380812622258,-1.6846702110775797,0.26077660911209494,1.4326421493384114,1.485285546427215,-0.5560640154713206],\"yaxis\":\"y\",\"type\":\"scatter\"},{\"hovertemplate\":\"<b>%{hovertext}</b><br><br>color=0<br>PC1=%{x}<br>PC2=%{y}<extra></extra>\",\"hovertext\":[\"CA\",\"CT\",\"DC\",\"MD\",\"MA\",\"MI\",\"MN\",\"NJ\",\"NY\",\"RI\"],\"legendgroup\":\"0\",\"marker\":{\"color\":\"#EF553B\",\"symbol\":\"circle\"},\"mode\":\"markers\",\"name\":\"0\",\"orientation\":\"v\",\"showlegend\":true,\"x\":[-1.7506382539760206,-2.1253592451717935,-4.635925570333746,-1.7087474308482185,-3.6514570255071024,-1.3707025287055496,-2.9090385017494254,-3.0183091362105583,-2.041784270695779,-2.164483928167344],\"xaxis\":\"x\",\"y\":[0.6336251692149383,1.37060015821328,0.9189968817049315,2.1264219888559825,-0.02508167354041232,1.1912387964051954,-0.903773578216851,1.9358695221967666,1.538860350958054,1.1190774735244104],\"yaxis\":\"y\",\"type\":\"scatter\"},{\"hovertemplate\":\"<b>%{hovertext}</b><br><br>color=2<br>PC1=%{x}<br>PC2=%{y}<extra></extra>\",\"hovertext\":[\"CO\",\"GA\",\"ID\",\"IL\",\"IN\",\"IA\",\"KS\",\"ME\",\"MS\",\"NE\",\"NV\",\"NH\",\"NM\",\"NC\",\"OH\",\"OR\",\"UT\",\"VT\",\"VA\",\"WA\",\"WI\"],\"legendgroup\":\"2\",\"marker\":{\"color\":\"#00cc96\",\"symbol\":\"circle\"},\"mode\":\"markers\",\"name\":\"2\",\"orientation\":\"v\",\"showlegend\":true,\"x\":[-0.9251202488860342,-0.5254271281060762,0.3131230890359158,-0.8793400373779718,-0.39532570367795183,-0.35012213312125506,0.2687239062094826,0.03316519504817376,-0.8648908005003847,-0.4670829323269445,-0.10602771952958712,-1.775362264303605,0.46929132612342367,0.8162622009397005,-0.5391493221420199,-1.5594101671724687,-1.9852112540426603,-0.6303375914131888,-1.797349228160101,-2.0964516369964383,-1.187446704960038],\"xaxis\":\"x\",\"y\":[-0.15438781557476322,0.26668801394331637,-2.4275974951793944,-0.3253365977441939,-1.517806341220062,-1.60635699958614,-0.3886444292577362,-2.000911578971501,0.5837461625713328,-1.309009475824436,0.6896524437862012,-1.2390182746107858,-0.38448561899398725,-0.7933123527821455,-0.8926266350305354,-1.4072529017769795,-1.283064311815796,-1.5046108331408614,-0.17763939227071374,-0.9589686595869715,-1.829767319915332],\"yaxis\":\"y\",\"type\":\"scatter\"}],                        {\"template\":{\"data\":{\"histogram2dcontour\":[{\"type\":\"histogram2dcontour\",\"colorbar\":{\"outlinewidth\":0,\"ticks\":\"\"},\"colorscale\":[[0.0,\"#0d0887\"],[0.1111111111111111,\"#46039f\"],[0.2222222222222222,\"#7201a8\"],[0.3333333333333333,\"#9c179e\"],[0.4444444444444444,\"#bd3786\"],[0.5555555555555556,\"#d8576b\"],[0.6666666666666666,\"#ed7953\"],[0.7777777777777778,\"#fb9f3a\"],[0.8888888888888888,\"#fdca26\"],[1.0,\"#f0f921\"]]}],\"choropleth\":[{\"type\":\"choropleth\",\"colorbar\":{\"outlinewidth\":0,\"ticks\":\"\"}}],\"histogram2d\":[{\"type\":\"histogram2d\",\"colorbar\":{\"outlinewidth\":0,\"ticks\":\"\"},\"colorscale\":[[0.0,\"#0d0887\"],[0.1111111111111111,\"#46039f\"],[0.2222222222222222,\"#7201a8\"],[0.3333333333333333,\"#9c179e\"],[0.4444444444444444,\"#bd3786\"],[0.5555555555555556,\"#d8576b\"],[0.6666666666666666,\"#ed7953\"],[0.7777777777777778,\"#fb9f3a\"],[0.8888888888888888,\"#fdca26\"],[1.0,\"#f0f921\"]]}],\"heatmap\":[{\"type\":\"heatmap\",\"colorbar\":{\"outlinewidth\":0,\"ticks\":\"\"},\"colorscale\":[[0.0,\"#0d0887\"],[0.1111111111111111,\"#46039f\"],[0.2222222222222222,\"#7201a8\"],[0.3333333333333333,\"#9c179e\"],[0.4444444444444444,\"#bd3786\"],[0.5555555555555556,\"#d8576b\"],[0.6666666666666666,\"#ed7953\"],[0.7777777777777778,\"#fb9f3a\"],[0.8888888888888888,\"#fdca26\"],[1.0,\"#f0f921\"]]}],\"heatmapgl\":[{\"type\":\"heatmapgl\",\"colorbar\":{\"outlinewidth\":0,\"ticks\":\"\"},\"colorscale\":[[0.0,\"#0d0887\"],[0.1111111111111111,\"#46039f\"],[0.2222222222222222,\"#7201a8\"],[0.3333333333333333,\"#9c179e\"],[0.4444444444444444,\"#bd3786\"],[0.5555555555555556,\"#d8576b\"],[0.6666666666666666,\"#ed7953\"],[0.7777777777777778,\"#fb9f3a\"],[0.8888888888888888,\"#fdca26\"],[1.0,\"#f0f921\"]]}],\"contourcarpet\":[{\"type\":\"contourcarpet\",\"colorbar\":{\"outlinewidth\":0,\"ticks\":\"\"}}],\"contour\":[{\"type\":\"contour\",\"colorbar\":{\"outlinewidth\":0,\"ticks\":\"\"},\"colorscale\":[[0.0,\"#0d0887\"],[0.1111111111111111,\"#46039f\"],[0.2222222222222222,\"#7201a8\"],[0.3333333333333333,\"#9c179e\"],[0.4444444444444444,\"#bd3786\"],[0.5555555555555556,\"#d8576b\"],[0.6666666666666666,\"#ed7953\"],[0.7777777777777778,\"#fb9f3a\"],[0.8888888888888888,\"#fdca26\"],[1.0,\"#f0f921\"]]}],\"surface\":[{\"type\":\"surface\",\"colorbar\":{\"outlinewidth\":0,\"ticks\":\"\"},\"colorscale\":[[0.0,\"#0d0887\"],[0.1111111111111111,\"#46039f\"],[0.2222222222222222,\"#7201a8\"],[0.3333333333333333,\"#9c179e\"],[0.4444444444444444,\"#bd3786\"],[0.5555555555555556,\"#d8576b\"],[0.6666666666666666,\"#ed7953\"],[0.7777777777777778,\"#fb9f3a\"],[0.8888888888888888,\"#fdca26\"],[1.0,\"#f0f921\"]]}],\"mesh3d\":[{\"type\":\"mesh3d\",\"colorbar\":{\"outlinewidth\":0,\"ticks\":\"\"}}],\"scatter\":[{\"fillpattern\":{\"fillmode\":\"overlay\",\"size\":10,\"solidity\":0.2},\"type\":\"scatter\"}],\"parcoords\":[{\"type\":\"parcoords\",\"line\":{\"colorbar\":{\"outlinewidth\":0,\"ticks\":\"\"}}}],\"scatterpolargl\":[{\"type\":\"scatterpolargl\",\"marker\":{\"colorbar\":{\"outlinewidth\":0,\"ticks\":\"\"}}}],\"bar\":[{\"error_x\":{\"color\":\"#2a3f5f\"},\"error_y\":{\"color\":\"#2a3f5f\"},\"marker\":{\"line\":{\"color\":\"#E5ECF6\",\"width\":0.5},\"pattern\":{\"fillmode\":\"overlay\",\"size\":10,\"solidity\":0.2}},\"type\":\"bar\"}],\"scattergeo\":[{\"type\":\"scattergeo\",\"marker\":{\"colorbar\":{\"outlinewidth\":0,\"ticks\":\"\"}}}],\"scatterpolar\":[{\"type\":\"scatterpolar\",\"marker\":{\"colorbar\":{\"outlinewidth\":0,\"ticks\":\"\"}}}],\"histogram\":[{\"marker\":{\"pattern\":{\"fillmode\":\"overlay\",\"size\":10,\"solidity\":0.2}},\"type\":\"histogram\"}],\"scattergl\":[{\"type\":\"scattergl\",\"marker\":{\"colorbar\":{\"outlinewidth\":0,\"ticks\":\"\"}}}],\"scatter3d\":[{\"type\":\"scatter3d\",\"line\":{\"colorbar\":{\"outlinewidth\":0,\"ticks\":\"\"}},\"marker\":{\"colorbar\":{\"outlinewidth\":0,\"ticks\":\"\"}}}],\"scattermapbox\":[{\"type\":\"scattermapbox\",\"marker\":{\"colorbar\":{\"outlinewidth\":0,\"ticks\":\"\"}}}],\"scatterternary\":[{\"type\":\"scatterternary\",\"marker\":{\"colorbar\":{\"outlinewidth\":0,\"ticks\":\"\"}}}],\"scattercarpet\":[{\"type\":\"scattercarpet\",\"marker\":{\"colorbar\":{\"outlinewidth\":0,\"ticks\":\"\"}}}],\"carpet\":[{\"aaxis\":{\"endlinecolor\":\"#2a3f5f\",\"gridcolor\":\"white\",\"linecolor\":\"white\",\"minorgridcolor\":\"white\",\"startlinecolor\":\"#2a3f5f\"},\"baxis\":{\"endlinecolor\":\"#2a3f5f\",\"gridcolor\":\"white\",\"linecolor\":\"white\",\"minorgridcolor\":\"white\",\"startlinecolor\":\"#2a3f5f\"},\"type\":\"carpet\"}],\"table\":[{\"cells\":{\"fill\":{\"color\":\"#EBF0F8\"},\"line\":{\"color\":\"white\"}},\"header\":{\"fill\":{\"color\":\"#C8D4E3\"},\"line\":{\"color\":\"white\"}},\"type\":\"table\"}],\"barpolar\":[{\"marker\":{\"line\":{\"color\":\"#E5ECF6\",\"width\":0.5},\"pattern\":{\"fillmode\":\"overlay\",\"size\":10,\"solidity\":0.2}},\"type\":\"barpolar\"}],\"pie\":[{\"automargin\":true,\"type\":\"pie\"}]},\"layout\":{\"autotypenumbers\":\"strict\",\"colorway\":[\"#636efa\",\"#EF553B\",\"#00cc96\",\"#ab63fa\",\"#FFA15A\",\"#19d3f3\",\"#FF6692\",\"#B6E880\",\"#FF97FF\",\"#FECB52\"],\"font\":{\"color\":\"#2a3f5f\"},\"hovermode\":\"closest\",\"hoverlabel\":{\"align\":\"left\"},\"paper_bgcolor\":\"white\",\"plot_bgcolor\":\"#E5ECF6\",\"polar\":{\"bgcolor\":\"#E5ECF6\",\"angularaxis\":{\"gridcolor\":\"white\",\"linecolor\":\"white\",\"ticks\":\"\"},\"radialaxis\":{\"gridcolor\":\"white\",\"linecolor\":\"white\",\"ticks\":\"\"}},\"ternary\":{\"bgcolor\":\"#E5ECF6\",\"aaxis\":{\"gridcolor\":\"white\",\"linecolor\":\"white\",\"ticks\":\"\"},\"baxis\":{\"gridcolor\":\"white\",\"linecolor\":\"white\",\"ticks\":\"\"},\"caxis\":{\"gridcolor\":\"white\",\"linecolor\":\"white\",\"ticks\":\"\"}},\"coloraxis\":{\"colorbar\":{\"outlinewidth\":0,\"ticks\":\"\"}},\"colorscale\":{\"sequential\":[[0.0,\"#0d0887\"],[0.1111111111111111,\"#46039f\"],[0.2222222222222222,\"#7201a8\"],[0.3333333333333333,\"#9c179e\"],[0.4444444444444444,\"#bd3786\"],[0.5555555555555556,\"#d8576b\"],[0.6666666666666666,\"#ed7953\"],[0.7777777777777778,\"#fb9f3a\"],[0.8888888888888888,\"#fdca26\"],[1.0,\"#f0f921\"]],\"sequentialminus\":[[0.0,\"#0d0887\"],[0.1111111111111111,\"#46039f\"],[0.2222222222222222,\"#7201a8\"],[0.3333333333333333,\"#9c179e\"],[0.4444444444444444,\"#bd3786\"],[0.5555555555555556,\"#d8576b\"],[0.6666666666666666,\"#ed7953\"],[0.7777777777777778,\"#fb9f3a\"],[0.8888888888888888,\"#fdca26\"],[1.0,\"#f0f921\"]],\"diverging\":[[0,\"#8e0152\"],[0.1,\"#c51b7d\"],[0.2,\"#de77ae\"],[0.3,\"#f1b6da\"],[0.4,\"#fde0ef\"],[0.5,\"#f7f7f7\"],[0.6,\"#e6f5d0\"],[0.7,\"#b8e186\"],[0.8,\"#7fbc41\"],[0.9,\"#4d9221\"],[1,\"#276419\"]]},\"xaxis\":{\"gridcolor\":\"white\",\"linecolor\":\"white\",\"ticks\":\"\",\"title\":{\"standoff\":15},\"zerolinecolor\":\"white\",\"automargin\":true,\"zerolinewidth\":2},\"yaxis\":{\"gridcolor\":\"white\",\"linecolor\":\"white\",\"ticks\":\"\",\"title\":{\"standoff\":15},\"zerolinecolor\":\"white\",\"automargin\":true,\"zerolinewidth\":2},\"scene\":{\"xaxis\":{\"backgroundcolor\":\"#E5ECF6\",\"gridcolor\":\"white\",\"linecolor\":\"white\",\"showbackground\":true,\"ticks\":\"\",\"zerolinecolor\":\"white\",\"gridwidth\":2},\"yaxis\":{\"backgroundcolor\":\"#E5ECF6\",\"gridcolor\":\"white\",\"linecolor\":\"white\",\"showbackground\":true,\"ticks\":\"\",\"zerolinecolor\":\"white\",\"gridwidth\":2},\"zaxis\":{\"backgroundcolor\":\"#E5ECF6\",\"gridcolor\":\"white\",\"linecolor\":\"white\",\"showbackground\":true,\"ticks\":\"\",\"zerolinecolor\":\"white\",\"gridwidth\":2}},\"shapedefaults\":{\"line\":{\"color\":\"#2a3f5f\"}},\"annotationdefaults\":{\"arrowcolor\":\"#2a3f5f\",\"arrowhead\":0,\"arrowwidth\":1},\"geo\":{\"bgcolor\":\"white\",\"landcolor\":\"#E5ECF6\",\"subunitcolor\":\"white\",\"showland\":true,\"showlakes\":true,\"lakecolor\":\"white\"},\"title\":{\"x\":0.05},\"mapbox\":{\"style\":\"light\"}}},\"xaxis\":{\"anchor\":\"y\",\"domain\":[0.0,1.0],\"title\":{\"text\":\"PC1\"}},\"yaxis\":{\"anchor\":\"x\",\"domain\":[0.0,1.0],\"title\":{\"text\":\"PC2\"}},\"legend\":{\"title\":{\"text\":\"color\"},\"tracegroupgap\":0},\"margin\":{\"t\":60}},                        {\"responsive\": true}                    ).then(function(){\n",
       "                            \n",
       "var gd = document.getElementById('e9a7a1d0-3c27-41a7-927e-44aa3d5d3376');\n",
       "var x = new MutationObserver(function (mutations, observer) {{\n",
       "        var display = window.getComputedStyle(gd).display;\n",
       "        if (!display || display === 'none') {{\n",
       "            console.log([gd, 'removed!']);\n",
       "            Plotly.purge(gd);\n",
       "            observer.disconnect();\n",
       "        }}\n",
       "}});\n",
       "\n",
       "// Listen for the removal of the full notebook cells\n",
       "var notebookContainer = gd.closest('#notebook-container');\n",
       "if (notebookContainer) {{\n",
       "    x.observe(notebookContainer, {childList: true});\n",
       "}}\n",
       "\n",
       "// Listen for the clearing of the current output cell\n",
       "var outputEl = gd.closest('.output');\n",
       "if (outputEl) {{\n",
       "    x.observe(outputEl, {childList: true});\n",
       "}}\n",
       "\n",
       "                        })                };                });            </script>        </div>"
      ]
     },
     "metadata": {},
     "output_type": "display_data"
    }
   ],
   "source": [
    "px.scatter(data_frame=df_pca, x='PC1', y='PC2', color=df_pred.pred_kms.astype(str), hover_name=df_pca.index)"
   ]
  },
  {
   "cell_type": "code",
   "execution_count": 43,
   "metadata": {},
   "outputs": [
    {
     "data": {
      "application/vnd.plotly.v1+json": {
       "config": {
        "plotlyServerURL": "https://plot.ly"
       },
       "data": [
        {
         "customdata": [
          [
           "AL",
           18.8,
           5.64,
           145.08,
           784.55
          ],
          [
           "AK",
           18.1,
           4.525,
           133.93,
           1053.48
          ],
          [
           "AZ",
           18.6,
           5.208000000000001,
           110.35,
           899.47
          ],
          [
           "AR",
           22.4,
           5.824,
           142.39,
           827.34
          ],
          [
           "DE",
           16.2,
           4.86,
           151.48,
           1137.87
          ],
          [
           "FL",
           17.9,
           5.190999999999999,
           144.18,
           1160.13
          ],
          [
           "HI",
           17.5,
           7.175,
           120.92,
           861.18
          ],
          [
           "KY",
           21.4,
           4.922,
           137.13,
           872.51
          ],
          [
           "LA",
           20.5,
           6.765,
           194.78,
           1281.55
          ],
          [
           "MO",
           16.1,
           5.474000000000001,
           144.45,
           790.32
          ],
          [
           "MT",
           21.4,
           9.416,
           85.15,
           816.21
          ],
          [
           "ND",
           23.9,
           10.038,
           109.72,
           688.75
          ],
          [
           "OK",
           19.9,
           5.770999999999999,
           178.86,
           881.51
          ],
          [
           "PA",
           18.2,
           5.642,
           153.86,
           905.99
          ],
          [
           "SC",
           23.9,
           9.799,
           116.29,
           858.97
          ],
          [
           "SD",
           19.4,
           6.401999999999999,
           96.87,
           669.31
          ],
          [
           "TN",
           19.5,
           5.655,
           155.57,
           767.91
          ],
          [
           "TX",
           19.4,
           7.371999999999999,
           156.83,
           1004.75
          ],
          [
           "WV",
           23.8,
           6.664,
           152.56,
           992.61
          ],
          [
           "WY",
           17.4,
           5.568,
           122.04,
           791.14
          ]
         ],
         "hovertemplate": "\n<b>%{customdata[0]}</b><br><br>\nPC1: %{x}<br>\nTotal: %{customdata[1]}<br>\nAlcohol: %{customdata[2]}<br><br>\nPC2: %{y}<br>\nIns Losses: %{customdata[3]}<br>\nIns Premium: %{customdata[4]}\n",
         "legendgroup": "1",
         "marker": {
          "color": "#636efa",
          "symbol": "circle"
         },
         "mode": "markers",
         "name": "1",
         "orientation": "v",
         "showlegend": true,
         "type": "scatter",
         "x": [
          1.6036712920638672,
          1.1442118763157039,
          1.4321719675062357,
          2.4915835190732842,
          0.32465801625134494,
          0.49568879401434646,
          1.9280469577362793,
          1.0794269363998854,
          1.8794272670384382,
          0.6597331360588236,
          3.6279233622540157,
          4.4236191540295104,
          1.893587382371987,
          1.8140529975938473,
          4.672013995002564,
          2.1474762931769718,
          0.95487882111058,
          2.2043082790237185,
          3.6191288449153323,
          1.1643261547888315
         ],
         "xaxis": "x",
         "y": [
          0.13344926968043047,
          0.8582339894293289,
          -0.4205056168878649,
          0.3489681166159155,
          1.5742446940343622,
          1.4352819371517147,
          -0.21024525016261197,
          0.16789431438424768,
          3.6482175303581457,
          0.0032540382009016433,
          -1.2429920461888102,
          -0.9657162440262443,
          1.5697553106029372,
          0.9365890102701382,
          -0.01952380812622258,
          -1.6846702110775797,
          0.26077660911209494,
          1.4326421493384114,
          1.485285546427215,
          -0.5560640154713206
         ],
         "yaxis": "y"
        },
        {
         "customdata": [
          [
           "CA",
           12,
           3.36,
           165.63,
           878.41
          ],
          [
           "CT",
           10.8,
           3.888,
           167.02,
           1068.73
          ],
          [
           "DC",
           5.9,
           1.5930000000000002,
           136.05,
           1273.89
          ],
          [
           "MD",
           12.5,
           4,
           192.7,
           1048.78
          ],
          [
           "MA",
           8.2,
           2.87,
           135.63,
           1011.14
          ],
          [
           "MI",
           14.1,
           3.948,
           152.26,
           1110.61
          ],
          [
           "MN",
           9.6,
           2.784,
           133.35,
           777.18
          ],
          [
           "NJ",
           11.2,
           3.136,
           159.85,
           1301.52
          ],
          [
           "NY",
           12.3,
           3.5670000000000006,
           150.01,
           1234.31
          ],
          [
           "RI",
           11.1,
           4.218,
           148.58,
           1148.99
          ]
         ],
         "hovertemplate": "\n<b>%{customdata[0]}</b><br><br>\nPC1: %{x}<br>\nTotal: %{customdata[1]}<br>\nAlcohol: %{customdata[2]}<br><br>\nPC2: %{y}<br>\nIns Losses: %{customdata[3]}<br>\nIns Premium: %{customdata[4]}\n",
         "legendgroup": "0",
         "marker": {
          "color": "#EF553B",
          "symbol": "circle"
         },
         "mode": "markers",
         "name": "0",
         "orientation": "v",
         "showlegend": true,
         "type": "scatter",
         "x": [
          -1.7506382539760206,
          -2.1253592451717935,
          -4.635925570333746,
          -1.7087474308482185,
          -3.6514570255071024,
          -1.3707025287055496,
          -2.9090385017494254,
          -3.0183091362105583,
          -2.041784270695779,
          -2.164483928167344
         ],
         "xaxis": "x",
         "y": [
          0.6336251692149383,
          1.37060015821328,
          0.9189968817049315,
          2.1264219888559825,
          -0.02508167354041232,
          1.1912387964051954,
          -0.903773578216851,
          1.9358695221967666,
          1.538860350958054,
          1.1190774735244104
         ],
         "yaxis": "y"
        },
        {
         "customdata": [
          [
           "CO",
           13.6,
           3.808,
           139.91,
           835.5
          ],
          [
           "GA",
           15.6,
           3.9,
           142.8,
           913.15
          ],
          [
           "ID",
           15.3,
           4.437,
           82.75,
           641.96
          ],
          [
           "IL",
           12.8,
           4.352,
           139.15,
           803.11
          ],
          [
           "IN",
           14.5,
           4.205,
           108.92,
           710.46
          ],
          [
           "IA",
           15.7,
           3.925,
           114.47,
           649.06
          ],
          [
           "KS",
           17.8,
           4.272,
           133.8,
           780.45
          ],
          [
           "ME",
           15.1,
           4.53,
           96.57,
           661.88
          ],
          [
           "MS",
           17.6,
           5.456,
           155.77,
           896.07
          ],
          [
           "NE",
           14.9,
           5.215,
           114.82,
           732.28
          ],
          [
           "NV",
           14.7,
           4.704,
           138.71,
           1029.87
          ],
          [
           "NH",
           11.6,
           3.48,
           120.21,
           746.54
          ],
          [
           "NM",
           18.4,
           4.968,
           120.75,
           869.85
          ],
          [
           "NC",
           16.8,
           5.208000000000001,
           127.82,
           708.24
          ],
          [
           "OH",
           14.1,
           4.794,
           133.52,
           697.73
          ],
          [
           "OR",
           12.8,
           3.3280000000000003,
           104.61,
           804.71
          ],
          [
           "UT",
           11.3,
           1.808,
           109.48,
           809.38
          ],
          [
           "VT",
           13.6,
           4.08,
           109.61,
           716.2
          ],
          [
           "VA",
           12.7,
           3.429,
           153.72,
           768.95
          ],
          [
           "WA",
           10.6,
           3.498,
           111.62,
           890.03
          ],
          [
           "WI",
           13.8,
           4.554,
           106.62,
           670.31
          ]
         ],
         "hovertemplate": "\n<b>%{customdata[0]}</b><br><br>\nPC1: %{x}<br>\nTotal: %{customdata[1]}<br>\nAlcohol: %{customdata[2]}<br><br>\nPC2: %{y}<br>\nIns Losses: %{customdata[3]}<br>\nIns Premium: %{customdata[4]}\n",
         "legendgroup": "2",
         "marker": {
          "color": "#00cc96",
          "symbol": "circle"
         },
         "mode": "markers",
         "name": "2",
         "orientation": "v",
         "showlegend": true,
         "type": "scatter",
         "x": [
          -0.9251202488860342,
          -0.5254271281060762,
          0.3131230890359158,
          -0.8793400373779718,
          -0.39532570367795183,
          -0.35012213312125506,
          0.2687239062094826,
          0.03316519504817376,
          -0.8648908005003847,
          -0.4670829323269445,
          -0.10602771952958712,
          -1.775362264303605,
          0.46929132612342367,
          0.8162622009397005,
          -0.5391493221420199,
          -1.5594101671724687,
          -1.9852112540426603,
          -0.6303375914131888,
          -1.797349228160101,
          -2.0964516369964383,
          -1.187446704960038
         ],
         "xaxis": "x",
         "y": [
          -0.15438781557476322,
          0.26668801394331637,
          -2.4275974951793944,
          -0.3253365977441939,
          -1.517806341220062,
          -1.60635699958614,
          -0.3886444292577362,
          -2.000911578971501,
          0.5837461625713328,
          -1.309009475824436,
          0.6896524437862012,
          -1.2390182746107858,
          -0.38448561899398725,
          -0.7933123527821455,
          -0.8926266350305354,
          -1.4072529017769795,
          -1.283064311815796,
          -1.5046108331408614,
          -0.17763939227071374,
          -0.9589686595869715,
          -1.829767319915332
         ],
         "yaxis": "y"
        }
       ],
       "layout": {
        "autosize": true,
        "legend": {
         "title": {
          "text": "color"
         },
         "tracegroupgap": 0
        },
        "margin": {
         "t": 60
        },
        "template": {
         "data": {
          "bar": [
           {
            "error_x": {
             "color": "#2a3f5f"
            },
            "error_y": {
             "color": "#2a3f5f"
            },
            "marker": {
             "line": {
              "color": "#E5ECF6",
              "width": 0.5
             },
             "pattern": {
              "fillmode": "overlay",
              "size": 10,
              "solidity": 0.2
             }
            },
            "type": "bar"
           }
          ],
          "barpolar": [
           {
            "marker": {
             "line": {
              "color": "#E5ECF6",
              "width": 0.5
             },
             "pattern": {
              "fillmode": "overlay",
              "size": 10,
              "solidity": 0.2
             }
            },
            "type": "barpolar"
           }
          ],
          "carpet": [
           {
            "aaxis": {
             "endlinecolor": "#2a3f5f",
             "gridcolor": "white",
             "linecolor": "white",
             "minorgridcolor": "white",
             "startlinecolor": "#2a3f5f"
            },
            "baxis": {
             "endlinecolor": "#2a3f5f",
             "gridcolor": "white",
             "linecolor": "white",
             "minorgridcolor": "white",
             "startlinecolor": "#2a3f5f"
            },
            "type": "carpet"
           }
          ],
          "choropleth": [
           {
            "colorbar": {
             "outlinewidth": 0,
             "ticks": ""
            },
            "type": "choropleth"
           }
          ],
          "contour": [
           {
            "colorbar": {
             "outlinewidth": 0,
             "ticks": ""
            },
            "colorscale": [
             [
              0,
              "#0d0887"
             ],
             [
              0.1111111111111111,
              "#46039f"
             ],
             [
              0.2222222222222222,
              "#7201a8"
             ],
             [
              0.3333333333333333,
              "#9c179e"
             ],
             [
              0.4444444444444444,
              "#bd3786"
             ],
             [
              0.5555555555555556,
              "#d8576b"
             ],
             [
              0.6666666666666666,
              "#ed7953"
             ],
             [
              0.7777777777777778,
              "#fb9f3a"
             ],
             [
              0.8888888888888888,
              "#fdca26"
             ],
             [
              1,
              "#f0f921"
             ]
            ],
            "type": "contour"
           }
          ],
          "contourcarpet": [
           {
            "colorbar": {
             "outlinewidth": 0,
             "ticks": ""
            },
            "type": "contourcarpet"
           }
          ],
          "heatmap": [
           {
            "colorbar": {
             "outlinewidth": 0,
             "ticks": ""
            },
            "colorscale": [
             [
              0,
              "#0d0887"
             ],
             [
              0.1111111111111111,
              "#46039f"
             ],
             [
              0.2222222222222222,
              "#7201a8"
             ],
             [
              0.3333333333333333,
              "#9c179e"
             ],
             [
              0.4444444444444444,
              "#bd3786"
             ],
             [
              0.5555555555555556,
              "#d8576b"
             ],
             [
              0.6666666666666666,
              "#ed7953"
             ],
             [
              0.7777777777777778,
              "#fb9f3a"
             ],
             [
              0.8888888888888888,
              "#fdca26"
             ],
             [
              1,
              "#f0f921"
             ]
            ],
            "type": "heatmap"
           }
          ],
          "heatmapgl": [
           {
            "colorbar": {
             "outlinewidth": 0,
             "ticks": ""
            },
            "colorscale": [
             [
              0,
              "#0d0887"
             ],
             [
              0.1111111111111111,
              "#46039f"
             ],
             [
              0.2222222222222222,
              "#7201a8"
             ],
             [
              0.3333333333333333,
              "#9c179e"
             ],
             [
              0.4444444444444444,
              "#bd3786"
             ],
             [
              0.5555555555555556,
              "#d8576b"
             ],
             [
              0.6666666666666666,
              "#ed7953"
             ],
             [
              0.7777777777777778,
              "#fb9f3a"
             ],
             [
              0.8888888888888888,
              "#fdca26"
             ],
             [
              1,
              "#f0f921"
             ]
            ],
            "type": "heatmapgl"
           }
          ],
          "histogram": [
           {
            "marker": {
             "pattern": {
              "fillmode": "overlay",
              "size": 10,
              "solidity": 0.2
             }
            },
            "type": "histogram"
           }
          ],
          "histogram2d": [
           {
            "colorbar": {
             "outlinewidth": 0,
             "ticks": ""
            },
            "colorscale": [
             [
              0,
              "#0d0887"
             ],
             [
              0.1111111111111111,
              "#46039f"
             ],
             [
              0.2222222222222222,
              "#7201a8"
             ],
             [
              0.3333333333333333,
              "#9c179e"
             ],
             [
              0.4444444444444444,
              "#bd3786"
             ],
             [
              0.5555555555555556,
              "#d8576b"
             ],
             [
              0.6666666666666666,
              "#ed7953"
             ],
             [
              0.7777777777777778,
              "#fb9f3a"
             ],
             [
              0.8888888888888888,
              "#fdca26"
             ],
             [
              1,
              "#f0f921"
             ]
            ],
            "type": "histogram2d"
           }
          ],
          "histogram2dcontour": [
           {
            "colorbar": {
             "outlinewidth": 0,
             "ticks": ""
            },
            "colorscale": [
             [
              0,
              "#0d0887"
             ],
             [
              0.1111111111111111,
              "#46039f"
             ],
             [
              0.2222222222222222,
              "#7201a8"
             ],
             [
              0.3333333333333333,
              "#9c179e"
             ],
             [
              0.4444444444444444,
              "#bd3786"
             ],
             [
              0.5555555555555556,
              "#d8576b"
             ],
             [
              0.6666666666666666,
              "#ed7953"
             ],
             [
              0.7777777777777778,
              "#fb9f3a"
             ],
             [
              0.8888888888888888,
              "#fdca26"
             ],
             [
              1,
              "#f0f921"
             ]
            ],
            "type": "histogram2dcontour"
           }
          ],
          "mesh3d": [
           {
            "colorbar": {
             "outlinewidth": 0,
             "ticks": ""
            },
            "type": "mesh3d"
           }
          ],
          "parcoords": [
           {
            "line": {
             "colorbar": {
              "outlinewidth": 0,
              "ticks": ""
             }
            },
            "type": "parcoords"
           }
          ],
          "pie": [
           {
            "automargin": true,
            "type": "pie"
           }
          ],
          "scatter": [
           {
            "fillpattern": {
             "fillmode": "overlay",
             "size": 10,
             "solidity": 0.2
            },
            "type": "scatter"
           }
          ],
          "scatter3d": [
           {
            "line": {
             "colorbar": {
              "outlinewidth": 0,
              "ticks": ""
             }
            },
            "marker": {
             "colorbar": {
              "outlinewidth": 0,
              "ticks": ""
             }
            },
            "type": "scatter3d"
           }
          ],
          "scattercarpet": [
           {
            "marker": {
             "colorbar": {
              "outlinewidth": 0,
              "ticks": ""
             }
            },
            "type": "scattercarpet"
           }
          ],
          "scattergeo": [
           {
            "marker": {
             "colorbar": {
              "outlinewidth": 0,
              "ticks": ""
             }
            },
            "type": "scattergeo"
           }
          ],
          "scattergl": [
           {
            "marker": {
             "colorbar": {
              "outlinewidth": 0,
              "ticks": ""
             }
            },
            "type": "scattergl"
           }
          ],
          "scattermapbox": [
           {
            "marker": {
             "colorbar": {
              "outlinewidth": 0,
              "ticks": ""
             }
            },
            "type": "scattermapbox"
           }
          ],
          "scatterpolar": [
           {
            "marker": {
             "colorbar": {
              "outlinewidth": 0,
              "ticks": ""
             }
            },
            "type": "scatterpolar"
           }
          ],
          "scatterpolargl": [
           {
            "marker": {
             "colorbar": {
              "outlinewidth": 0,
              "ticks": ""
             }
            },
            "type": "scatterpolargl"
           }
          ],
          "scatterternary": [
           {
            "marker": {
             "colorbar": {
              "outlinewidth": 0,
              "ticks": ""
             }
            },
            "type": "scatterternary"
           }
          ],
          "surface": [
           {
            "colorbar": {
             "outlinewidth": 0,
             "ticks": ""
            },
            "colorscale": [
             [
              0,
              "#0d0887"
             ],
             [
              0.1111111111111111,
              "#46039f"
             ],
             [
              0.2222222222222222,
              "#7201a8"
             ],
             [
              0.3333333333333333,
              "#9c179e"
             ],
             [
              0.4444444444444444,
              "#bd3786"
             ],
             [
              0.5555555555555556,
              "#d8576b"
             ],
             [
              0.6666666666666666,
              "#ed7953"
             ],
             [
              0.7777777777777778,
              "#fb9f3a"
             ],
             [
              0.8888888888888888,
              "#fdca26"
             ],
             [
              1,
              "#f0f921"
             ]
            ],
            "type": "surface"
           }
          ],
          "table": [
           {
            "cells": {
             "fill": {
              "color": "#EBF0F8"
             },
             "line": {
              "color": "white"
             }
            },
            "header": {
             "fill": {
              "color": "#C8D4E3"
             },
             "line": {
              "color": "white"
             }
            },
            "type": "table"
           }
          ]
         },
         "layout": {
          "annotationdefaults": {
           "arrowcolor": "#2a3f5f",
           "arrowhead": 0,
           "arrowwidth": 1
          },
          "autotypenumbers": "strict",
          "coloraxis": {
           "colorbar": {
            "outlinewidth": 0,
            "ticks": ""
           }
          },
          "colorscale": {
           "diverging": [
            [
             0,
             "#8e0152"
            ],
            [
             0.1,
             "#c51b7d"
            ],
            [
             0.2,
             "#de77ae"
            ],
            [
             0.3,
             "#f1b6da"
            ],
            [
             0.4,
             "#fde0ef"
            ],
            [
             0.5,
             "#f7f7f7"
            ],
            [
             0.6,
             "#e6f5d0"
            ],
            [
             0.7,
             "#b8e186"
            ],
            [
             0.8,
             "#7fbc41"
            ],
            [
             0.9,
             "#4d9221"
            ],
            [
             1,
             "#276419"
            ]
           ],
           "sequential": [
            [
             0,
             "#0d0887"
            ],
            [
             0.1111111111111111,
             "#46039f"
            ],
            [
             0.2222222222222222,
             "#7201a8"
            ],
            [
             0.3333333333333333,
             "#9c179e"
            ],
            [
             0.4444444444444444,
             "#bd3786"
            ],
            [
             0.5555555555555556,
             "#d8576b"
            ],
            [
             0.6666666666666666,
             "#ed7953"
            ],
            [
             0.7777777777777778,
             "#fb9f3a"
            ],
            [
             0.8888888888888888,
             "#fdca26"
            ],
            [
             1,
             "#f0f921"
            ]
           ],
           "sequentialminus": [
            [
             0,
             "#0d0887"
            ],
            [
             0.1111111111111111,
             "#46039f"
            ],
            [
             0.2222222222222222,
             "#7201a8"
            ],
            [
             0.3333333333333333,
             "#9c179e"
            ],
            [
             0.4444444444444444,
             "#bd3786"
            ],
            [
             0.5555555555555556,
             "#d8576b"
            ],
            [
             0.6666666666666666,
             "#ed7953"
            ],
            [
             0.7777777777777778,
             "#fb9f3a"
            ],
            [
             0.8888888888888888,
             "#fdca26"
            ],
            [
             1,
             "#f0f921"
            ]
           ]
          },
          "colorway": [
           "#636efa",
           "#EF553B",
           "#00cc96",
           "#ab63fa",
           "#FFA15A",
           "#19d3f3",
           "#FF6692",
           "#B6E880",
           "#FF97FF",
           "#FECB52"
          ],
          "font": {
           "color": "#2a3f5f"
          },
          "geo": {
           "bgcolor": "white",
           "lakecolor": "white",
           "landcolor": "#E5ECF6",
           "showlakes": true,
           "showland": true,
           "subunitcolor": "white"
          },
          "hoverlabel": {
           "align": "left"
          },
          "hovermode": "closest",
          "mapbox": {
           "style": "light"
          },
          "paper_bgcolor": "white",
          "plot_bgcolor": "#E5ECF6",
          "polar": {
           "angularaxis": {
            "gridcolor": "white",
            "linecolor": "white",
            "ticks": ""
           },
           "bgcolor": "#E5ECF6",
           "radialaxis": {
            "gridcolor": "white",
            "linecolor": "white",
            "ticks": ""
           }
          },
          "scene": {
           "xaxis": {
            "backgroundcolor": "#E5ECF6",
            "gridcolor": "white",
            "gridwidth": 2,
            "linecolor": "white",
            "showbackground": true,
            "ticks": "",
            "zerolinecolor": "white"
           },
           "yaxis": {
            "backgroundcolor": "#E5ECF6",
            "gridcolor": "white",
            "gridwidth": 2,
            "linecolor": "white",
            "showbackground": true,
            "ticks": "",
            "zerolinecolor": "white"
           },
           "zaxis": {
            "backgroundcolor": "#E5ECF6",
            "gridcolor": "white",
            "gridwidth": 2,
            "linecolor": "white",
            "showbackground": true,
            "ticks": "",
            "zerolinecolor": "white"
           }
          },
          "shapedefaults": {
           "line": {
            "color": "#2a3f5f"
           }
          },
          "ternary": {
           "aaxis": {
            "gridcolor": "white",
            "linecolor": "white",
            "ticks": ""
           },
           "baxis": {
            "gridcolor": "white",
            "linecolor": "white",
            "ticks": ""
           },
           "bgcolor": "#E5ECF6",
           "caxis": {
            "gridcolor": "white",
            "linecolor": "white",
            "ticks": ""
           }
          },
          "title": {
           "x": 0.05
          },
          "xaxis": {
           "automargin": true,
           "gridcolor": "white",
           "linecolor": "white",
           "ticks": "",
           "title": {
            "standoff": 15
           },
           "zerolinecolor": "white",
           "zerolinewidth": 2
          },
          "yaxis": {
           "automargin": true,
           "gridcolor": "white",
           "linecolor": "white",
           "ticks": "",
           "title": {
            "standoff": 15
           },
           "zerolinecolor": "white",
           "zerolinewidth": 2
          }
         }
        },
        "xaxis": {
         "anchor": "y",
         "autorange": true,
         "domain": [
          0,
          1
         ],
         "range": [
          -5.251044649518847,
          5.287133074187665
         ],
         "title": {
          "text": "PC1"
         },
         "type": "linear"
        },
        "yaxis": {
         "anchor": "x",
         "autorange": true,
         "domain": [
          0,
          1
         ],
         "range": [
          -2.8980346165792827,
          4.118654651758034
         ],
         "title": {
          "text": "PC2"
         },
         "type": "linear"
        }
       }
      },
      "image/png": "[encoded data removed]",
      "text/html": [
       "<div>                            <div id=\"30346477-bf5d-4aa4-92ea-571397ac8adb\" class=\"plotly-graph-div\" style=\"height:525px; width:100%;\"></div>            <script type=\"text/javascript\">                require([\"plotly\"], function(Plotly) {                    window.PLOTLYENV=window.PLOTLYENV || {};                                    if (document.getElementById(\"30346477-bf5d-4aa4-92ea-571397ac8adb\")) {                    Plotly.newPlot(                        \"30346477-bf5d-4aa4-92ea-571397ac8adb\",                        [{\"customdata\":[[\"AL\",18.8,5.64,145.08,784.55],[\"AK\",18.1,4.525,133.93,1053.48],[\"AZ\",18.6,5.208000000000001,110.35,899.47],[\"AR\",22.4,5.824,142.39,827.34],[\"DE\",16.2,4.86,151.48,1137.87],[\"FL\",17.9,5.190999999999999,144.18,1160.13],[\"HI\",17.5,7.175,120.92,861.18],[\"KY\",21.4,4.922,137.13,872.51],[\"LA\",20.5,6.765,194.78,1281.55],[\"MO\",16.1,5.474000000000001,144.45,790.32],[\"MT\",21.4,9.416,85.15,816.21],[\"ND\",23.9,10.038,109.72,688.75],[\"OK\",19.9,5.770999999999999,178.86,881.51],[\"PA\",18.2,5.642,153.86,905.99],[\"SC\",23.9,9.799,116.29,858.97],[\"SD\",19.4,6.401999999999999,96.87,669.31],[\"TN\",19.5,5.655,155.57,767.91],[\"TX\",19.4,7.371999999999999,156.83,1004.75],[\"WV\",23.8,6.664,152.56,992.61],[\"WY\",17.4,5.568,122.04,791.14]],\"hovertemplate\":\"\\n<b>%{customdata[0]}</b><br><br>\\nPC1: %{x}<br>\\nTotal: %{customdata[1]}<br>\\nAlcohol: %{customdata[2]}<br><br>\\nPC2: %{y}<br>\\nIns Losses: %{customdata[3]}<br>\\nIns Premium: %{customdata[4]}\\n\",\"legendgroup\":\"1\",\"marker\":{\"color\":\"#636efa\",\"symbol\":\"circle\"},\"mode\":\"markers\",\"name\":\"1\",\"orientation\":\"v\",\"showlegend\":true,\"x\":[1.6036712920638672,1.1442118763157039,1.4321719675062357,2.4915835190732842,0.32465801625134494,0.49568879401434646,1.9280469577362793,1.0794269363998854,1.8794272670384382,0.6597331360588236,3.6279233622540157,4.4236191540295104,1.893587382371987,1.8140529975938473,4.672013995002564,2.1474762931769718,0.95487882111058,2.2043082790237185,3.6191288449153323,1.1643261547888315],\"xaxis\":\"x\",\"y\":[0.13344926968043047,0.8582339894293289,-0.4205056168878649,0.3489681166159155,1.5742446940343622,1.4352819371517147,-0.21024525016261197,0.16789431438424768,3.6482175303581457,0.0032540382009016433,-1.2429920461888102,-0.9657162440262443,1.5697553106029372,0.9365890102701382,-0.01952380812622258,-1.6846702110775797,0.26077660911209494,1.4326421493384114,1.485285546427215,-0.5560640154713206],\"yaxis\":\"y\",\"type\":\"scatter\"},{\"customdata\":[[\"CA\",12.0,3.36,165.63,878.41],[\"CT\",10.8,3.888,167.02,1068.73],[\"DC\",5.9,1.5930000000000002,136.05,1273.89],[\"MD\",12.5,4.0,192.7,1048.78],[\"MA\",8.2,2.87,135.63,1011.14],[\"MI\",14.1,3.948,152.26,1110.61],[\"MN\",9.6,2.784,133.35,777.18],[\"NJ\",11.2,3.136,159.85,1301.52],[\"NY\",12.3,3.5670000000000006,150.01,1234.31],[\"RI\",11.1,4.218,148.58,1148.99]],\"hovertemplate\":\"\\n<b>%{customdata[0]}</b><br><br>\\nPC1: %{x}<br>\\nTotal: %{customdata[1]}<br>\\nAlcohol: %{customdata[2]}<br><br>\\nPC2: %{y}<br>\\nIns Losses: %{customdata[3]}<br>\\nIns Premium: %{customdata[4]}\\n\",\"legendgroup\":\"0\",\"marker\":{\"color\":\"#EF553B\",\"symbol\":\"circle\"},\"mode\":\"markers\",\"name\":\"0\",\"orientation\":\"v\",\"showlegend\":true,\"x\":[-1.7506382539760206,-2.1253592451717935,-4.635925570333746,-1.7087474308482185,-3.6514570255071024,-1.3707025287055496,-2.9090385017494254,-3.0183091362105583,-2.041784270695779,-2.164483928167344],\"xaxis\":\"x\",\"y\":[0.6336251692149383,1.37060015821328,0.9189968817049315,2.1264219888559825,-0.02508167354041232,1.1912387964051954,-0.903773578216851,1.9358695221967666,1.538860350958054,1.1190774735244104],\"yaxis\":\"y\",\"type\":\"scatter\"},{\"customdata\":[[\"CO\",13.6,3.808,139.91,835.5],[\"GA\",15.6,3.9,142.8,913.15],[\"ID\",15.3,4.437,82.75,641.96],[\"IL\",12.8,4.352,139.15,803.11],[\"IN\",14.5,4.205,108.92,710.46],[\"IA\",15.7,3.925,114.47,649.06],[\"KS\",17.8,4.272,133.8,780.45],[\"ME\",15.1,4.53,96.57,661.88],[\"MS\",17.6,5.456,155.77,896.07],[\"NE\",14.9,5.215,114.82,732.28],[\"NV\",14.7,4.704,138.71,1029.87],[\"NH\",11.6,3.48,120.21,746.54],[\"NM\",18.4,4.968,120.75,869.85],[\"NC\",16.8,5.208000000000001,127.82,708.24],[\"OH\",14.1,4.794,133.52,697.73],[\"OR\",12.8,3.3280000000000003,104.61,804.71],[\"UT\",11.3,1.808,109.48,809.38],[\"VT\",13.6,4.08,109.61,716.2],[\"VA\",12.7,3.429,153.72,768.95],[\"WA\",10.6,3.498,111.62,890.03],[\"WI\",13.8,4.554,106.62,670.31]],\"hovertemplate\":\"\\n<b>%{customdata[0]}</b><br><br>\\nPC1: %{x}<br>\\nTotal: %{customdata[1]}<br>\\nAlcohol: %{customdata[2]}<br><br>\\nPC2: %{y}<br>\\nIns Losses: %{customdata[3]}<br>\\nIns Premium: %{customdata[4]}\\n\",\"legendgroup\":\"2\",\"marker\":{\"color\":\"#00cc96\",\"symbol\":\"circle\"},\"mode\":\"markers\",\"name\":\"2\",\"orientation\":\"v\",\"showlegend\":true,\"x\":[-0.9251202488860342,-0.5254271281060762,0.3131230890359158,-0.8793400373779718,-0.39532570367795183,-0.35012213312125506,0.2687239062094826,0.03316519504817376,-0.8648908005003847,-0.4670829323269445,-0.10602771952958712,-1.775362264303605,0.46929132612342367,0.8162622009397005,-0.5391493221420199,-1.5594101671724687,-1.9852112540426603,-0.6303375914131888,-1.797349228160101,-2.0964516369964383,-1.187446704960038],\"xaxis\":\"x\",\"y\":[-0.15438781557476322,0.26668801394331637,-2.4275974951793944,-0.3253365977441939,-1.517806341220062,-1.60635699958614,-0.3886444292577362,-2.000911578971501,0.5837461625713328,-1.309009475824436,0.6896524437862012,-1.2390182746107858,-0.38448561899398725,-0.7933123527821455,-0.8926266350305354,-1.4072529017769795,-1.283064311815796,-1.5046108331408614,-0.17763939227071374,-0.9589686595869715,-1.829767319915332],\"yaxis\":\"y\",\"type\":\"scatter\"}],                        {\"template\":{\"data\":{\"histogram2dcontour\":[{\"type\":\"histogram2dcontour\",\"colorbar\":{\"outlinewidth\":0,\"ticks\":\"\"},\"colorscale\":[[0.0,\"#0d0887\"],[0.1111111111111111,\"#46039f\"],[0.2222222222222222,\"#7201a8\"],[0.3333333333333333,\"#9c179e\"],[0.4444444444444444,\"#bd3786\"],[0.5555555555555556,\"#d8576b\"],[0.6666666666666666,\"#ed7953\"],[0.7777777777777778,\"#fb9f3a\"],[0.8888888888888888,\"#fdca26\"],[1.0,\"#f0f921\"]]}],\"choropleth\":[{\"type\":\"choropleth\",\"colorbar\":{\"outlinewidth\":0,\"ticks\":\"\"}}],\"histogram2d\":[{\"type\":\"histogram2d\",\"colorbar\":{\"outlinewidth\":0,\"ticks\":\"\"},\"colorscale\":[[0.0,\"#0d0887\"],[0.1111111111111111,\"#46039f\"],[0.2222222222222222,\"#7201a8\"],[0.3333333333333333,\"#9c179e\"],[0.4444444444444444,\"#bd3786\"],[0.5555555555555556,\"#d8576b\"],[0.6666666666666666,\"#ed7953\"],[0.7777777777777778,\"#fb9f3a\"],[0.8888888888888888,\"#fdca26\"],[1.0,\"#f0f921\"]]}],\"heatmap\":[{\"type\":\"heatmap\",\"colorbar\":{\"outlinewidth\":0,\"ticks\":\"\"},\"colorscale\":[[0.0,\"#0d0887\"],[0.1111111111111111,\"#46039f\"],[0.2222222222222222,\"#7201a8\"],[0.3333333333333333,\"#9c179e\"],[0.4444444444444444,\"#bd3786\"],[0.5555555555555556,\"#d8576b\"],[0.6666666666666666,\"#ed7953\"],[0.7777777777777778,\"#fb9f3a\"],[0.8888888888888888,\"#fdca26\"],[1.0,\"#f0f921\"]]}],\"heatmapgl\":[{\"type\":\"heatmapgl\",\"colorbar\":{\"outlinewidth\":0,\"ticks\":\"\"},\"colorscale\":[[0.0,\"#0d0887\"],[0.1111111111111111,\"#46039f\"],[0.2222222222222222,\"#7201a8\"],[0.3333333333333333,\"#9c179e\"],[0.4444444444444444,\"#bd3786\"],[0.5555555555555556,\"#d8576b\"],[0.6666666666666666,\"#ed7953\"],[0.7777777777777778,\"#fb9f3a\"],[0.8888888888888888,\"#fdca26\"],[1.0,\"#f0f921\"]]}],\"contourcarpet\":[{\"type\":\"contourcarpet\",\"colorbar\":{\"outlinewidth\":0,\"ticks\":\"\"}}],\"contour\":[{\"type\":\"contour\",\"colorbar\":{\"outlinewidth\":0,\"ticks\":\"\"},\"colorscale\":[[0.0,\"#0d0887\"],[0.1111111111111111,\"#46039f\"],[0.2222222222222222,\"#7201a8\"],[0.3333333333333333,\"#9c179e\"],[0.4444444444444444,\"#bd3786\"],[0.5555555555555556,\"#d8576b\"],[0.6666666666666666,\"#ed7953\"],[0.7777777777777778,\"#fb9f3a\"],[0.8888888888888888,\"#fdca26\"],[1.0,\"#f0f921\"]]}],\"surface\":[{\"type\":\"surface\",\"colorbar\":{\"outlinewidth\":0,\"ticks\":\"\"},\"colorscale\":[[0.0,\"#0d0887\"],[0.1111111111111111,\"#46039f\"],[0.2222222222222222,\"#7201a8\"],[0.3333333333333333,\"#9c179e\"],[0.4444444444444444,\"#bd3786\"],[0.5555555555555556,\"#d8576b\"],[0.6666666666666666,\"#ed7953\"],[0.7777777777777778,\"#fb9f3a\"],[0.8888888888888888,\"#fdca26\"],[1.0,\"#f0f921\"]]}],\"mesh3d\":[{\"type\":\"mesh3d\",\"colorbar\":{\"outlinewidth\":0,\"ticks\":\"\"}}],\"scatter\":[{\"fillpattern\":{\"fillmode\":\"overlay\",\"size\":10,\"solidity\":0.2},\"type\":\"scatter\"}],\"parcoords\":[{\"type\":\"parcoords\",\"line\":{\"colorbar\":{\"outlinewidth\":0,\"ticks\":\"\"}}}],\"scatterpolargl\":[{\"type\":\"scatterpolargl\",\"marker\":{\"colorbar\":{\"outlinewidth\":0,\"ticks\":\"\"}}}],\"bar\":[{\"error_x\":{\"color\":\"#2a3f5f\"},\"error_y\":{\"color\":\"#2a3f5f\"},\"marker\":{\"line\":{\"color\":\"#E5ECF6\",\"width\":0.5},\"pattern\":{\"fillmode\":\"overlay\",\"size\":10,\"solidity\":0.2}},\"type\":\"bar\"}],\"scattergeo\":[{\"type\":\"scattergeo\",\"marker\":{\"colorbar\":{\"outlinewidth\":0,\"ticks\":\"\"}}}],\"scatterpolar\":[{\"type\":\"scatterpolar\",\"marker\":{\"colorbar\":{\"outlinewidth\":0,\"ticks\":\"\"}}}],\"histogram\":[{\"marker\":{\"pattern\":{\"fillmode\":\"overlay\",\"size\":10,\"solidity\":0.2}},\"type\":\"histogram\"}],\"scattergl\":[{\"type\":\"scattergl\",\"marker\":{\"colorbar\":{\"outlinewidth\":0,\"ticks\":\"\"}}}],\"scatter3d\":[{\"type\":\"scatter3d\",\"line\":{\"colorbar\":{\"outlinewidth\":0,\"ticks\":\"\"}},\"marker\":{\"colorbar\":{\"outlinewidth\":0,\"ticks\":\"\"}}}],\"scattermapbox\":[{\"type\":\"scattermapbox\",\"marker\":{\"colorbar\":{\"outlinewidth\":0,\"ticks\":\"\"}}}],\"scatterternary\":[{\"type\":\"scatterternary\",\"marker\":{\"colorbar\":{\"outlinewidth\":0,\"ticks\":\"\"}}}],\"scattercarpet\":[{\"type\":\"scattercarpet\",\"marker\":{\"colorbar\":{\"outlinewidth\":0,\"ticks\":\"\"}}}],\"carpet\":[{\"aaxis\":{\"endlinecolor\":\"#2a3f5f\",\"gridcolor\":\"white\",\"linecolor\":\"white\",\"minorgridcolor\":\"white\",\"startlinecolor\":\"#2a3f5f\"},\"baxis\":{\"endlinecolor\":\"#2a3f5f\",\"gridcolor\":\"white\",\"linecolor\":\"white\",\"minorgridcolor\":\"white\",\"startlinecolor\":\"#2a3f5f\"},\"type\":\"carpet\"}],\"table\":[{\"cells\":{\"fill\":{\"color\":\"#EBF0F8\"},\"line\":{\"color\":\"white\"}},\"header\":{\"fill\":{\"color\":\"#C8D4E3\"},\"line\":{\"color\":\"white\"}},\"type\":\"table\"}],\"barpolar\":[{\"marker\":{\"line\":{\"color\":\"#E5ECF6\",\"width\":0.5},\"pattern\":{\"fillmode\":\"overlay\",\"size\":10,\"solidity\":0.2}},\"type\":\"barpolar\"}],\"pie\":[{\"automargin\":true,\"type\":\"pie\"}]},\"layout\":{\"autotypenumbers\":\"strict\",\"colorway\":[\"#636efa\",\"#EF553B\",\"#00cc96\",\"#ab63fa\",\"#FFA15A\",\"#19d3f3\",\"#FF6692\",\"#B6E880\",\"#FF97FF\",\"#FECB52\"],\"font\":{\"color\":\"#2a3f5f\"},\"hovermode\":\"closest\",\"hoverlabel\":{\"align\":\"left\"},\"paper_bgcolor\":\"white\",\"plot_bgcolor\":\"#E5ECF6\",\"polar\":{\"bgcolor\":\"#E5ECF6\",\"angularaxis\":{\"gridcolor\":\"white\",\"linecolor\":\"white\",\"ticks\":\"\"},\"radialaxis\":{\"gridcolor\":\"white\",\"linecolor\":\"white\",\"ticks\":\"\"}},\"ternary\":{\"bgcolor\":\"#E5ECF6\",\"aaxis\":{\"gridcolor\":\"white\",\"linecolor\":\"white\",\"ticks\":\"\"},\"baxis\":{\"gridcolor\":\"white\",\"linecolor\":\"white\",\"ticks\":\"\"},\"caxis\":{\"gridcolor\":\"white\",\"linecolor\":\"white\",\"ticks\":\"\"}},\"coloraxis\":{\"colorbar\":{\"outlinewidth\":0,\"ticks\":\"\"}},\"colorscale\":{\"sequential\":[[0.0,\"#0d0887\"],[0.1111111111111111,\"#46039f\"],[0.2222222222222222,\"#7201a8\"],[0.3333333333333333,\"#9c179e\"],[0.4444444444444444,\"#bd3786\"],[0.5555555555555556,\"#d8576b\"],[0.6666666666666666,\"#ed7953\"],[0.7777777777777778,\"#fb9f3a\"],[0.8888888888888888,\"#fdca26\"],[1.0,\"#f0f921\"]],\"sequentialminus\":[[0.0,\"#0d0887\"],[0.1111111111111111,\"#46039f\"],[0.2222222222222222,\"#7201a8\"],[0.3333333333333333,\"#9c179e\"],[0.4444444444444444,\"#bd3786\"],[0.5555555555555556,\"#d8576b\"],[0.6666666666666666,\"#ed7953\"],[0.7777777777777778,\"#fb9f3a\"],[0.8888888888888888,\"#fdca26\"],[1.0,\"#f0f921\"]],\"diverging\":[[0,\"#8e0152\"],[0.1,\"#c51b7d\"],[0.2,\"#de77ae\"],[0.3,\"#f1b6da\"],[0.4,\"#fde0ef\"],[0.5,\"#f7f7f7\"],[0.6,\"#e6f5d0\"],[0.7,\"#b8e186\"],[0.8,\"#7fbc41\"],[0.9,\"#4d9221\"],[1,\"#276419\"]]},\"xaxis\":{\"gridcolor\":\"white\",\"linecolor\":\"white\",\"ticks\":\"\",\"title\":{\"standoff\":15},\"zerolinecolor\":\"white\",\"automargin\":true,\"zerolinewidth\":2},\"yaxis\":{\"gridcolor\":\"white\",\"linecolor\":\"white\",\"ticks\":\"\",\"title\":{\"standoff\":15},\"zerolinecolor\":\"white\",\"automargin\":true,\"zerolinewidth\":2},\"scene\":{\"xaxis\":{\"backgroundcolor\":\"#E5ECF6\",\"gridcolor\":\"white\",\"linecolor\":\"white\",\"showbackground\":true,\"ticks\":\"\",\"zerolinecolor\":\"white\",\"gridwidth\":2},\"yaxis\":{\"backgroundcolor\":\"#E5ECF6\",\"gridcolor\":\"white\",\"linecolor\":\"white\",\"showbackground\":true,\"ticks\":\"\",\"zerolinecolor\":\"white\",\"gridwidth\":2},\"zaxis\":{\"backgroundcolor\":\"#E5ECF6\",\"gridcolor\":\"white\",\"linecolor\":\"white\",\"showbackground\":true,\"ticks\":\"\",\"zerolinecolor\":\"white\",\"gridwidth\":2}},\"shapedefaults\":{\"line\":{\"color\":\"#2a3f5f\"}},\"annotationdefaults\":{\"arrowcolor\":\"#2a3f5f\",\"arrowhead\":0,\"arrowwidth\":1},\"geo\":{\"bgcolor\":\"white\",\"landcolor\":\"#E5ECF6\",\"subunitcolor\":\"white\",\"showland\":true,\"showlakes\":true,\"lakecolor\":\"white\"},\"title\":{\"x\":0.05},\"mapbox\":{\"style\":\"light\"}}},\"xaxis\":{\"anchor\":\"y\",\"domain\":[0.0,1.0],\"title\":{\"text\":\"PC1\"}},\"yaxis\":{\"anchor\":\"x\",\"domain\":[0.0,1.0],\"title\":{\"text\":\"PC2\"}},\"legend\":{\"title\":{\"text\":\"color\"},\"tracegroupgap\":0},\"margin\":{\"t\":60}},                        {\"responsive\": true}                    ).then(function(){\n",
       "                            \n",
       "var gd = document.getElementById('30346477-bf5d-4aa4-92ea-571397ac8adb');\n",
       "var x = new MutationObserver(function (mutations, observer) {{\n",
       "        var display = window.getComputedStyle(gd).display;\n",
       "        if (!display || display === 'none') {{\n",
       "            console.log([gd, 'removed!']);\n",
       "            Plotly.purge(gd);\n",
       "            observer.disconnect();\n",
       "        }}\n",
       "}});\n",
       "\n",
       "// Listen for the removal of the full notebook cells\n",
       "var notebookContainer = gd.closest('#notebook-container');\n",
       "if (notebookContainer) {{\n",
       "    x.observe(notebookContainer, {childList: true});\n",
       "}}\n",
       "\n",
       "// Listen for the clearing of the current output cell\n",
       "var outputEl = gd.closest('.output');\n",
       "if (outputEl) {{\n",
       "    x.observe(outputEl, {childList: true});\n",
       "}}\n",
       "\n",
       "                        })                };                });            </script>        </div>"
      ]
     },
     "metadata": {},
     "output_type": "display_data"
    }
   ],
   "source": [
    "hover = '''\n",
    "<b>%{customdata[0]}</b><br><br>\n",
    "PC1: %{x}<br>\n",
    "Total: %{customdata[1]}<br>\n",
    "Alcohol: %{customdata[2]}<br><br>\n",
    "PC2: %{y}<br>\n",
    "Ins Losses: %{customdata[3]}<br>\n",
    "Ins Premium: %{customdata[4]}\n",
    "'''\n",
    "\n",
    "fig = px.scatter(data_frame=df_pca, x='PC1', y='PC2',\n",
    "                 color=df_pred.pred_kms.astype(str),\n",
    "                 hover_data=[df_pca.index, df_crashes.total, df_crashes.alcohol,\n",
    "                             df_crashes.ins_losses, df_crashes.ins_premium])\n",
    "\n",
    "fig.update_traces(hovertemplate = hover)\n"
   ]
  },
  {
   "cell_type": "code",
   "execution_count": 44,
   "metadata": {},
   "outputs": [
    {
     "data": {
      "text/html": [
       "<div>\n",
       "<style scoped>\n",
       "    .dataframe tbody tr th:only-of-type {\n",
       "        vertical-align: middle;\n",
       "    }\n",
       "\n",
       "    .dataframe tbody tr th {\n",
       "        vertical-align: top;\n",
       "    }\n",
       "\n",
       "    .dataframe thead th {\n",
       "        text-align: right;\n",
       "    }\n",
       "</style>\n",
       "<table border=\"1\" class=\"dataframe\">\n",
       "  <thead>\n",
       "    <tr style=\"text-align: right;\">\n",
       "      <th></th>\n",
       "      <th>total</th>\n",
       "      <th>speeding</th>\n",
       "      <th>alcohol</th>\n",
       "      <th>not_distracted</th>\n",
       "      <th>no_previous</th>\n",
       "      <th>ins_premium</th>\n",
       "      <th>ins_losses</th>\n",
       "    </tr>\n",
       "  </thead>\n",
       "  <tbody>\n",
       "    <tr>\n",
       "      <th>min</th>\n",
       "      <td>5.9</td>\n",
       "      <td>1.792</td>\n",
       "      <td>1.593</td>\n",
       "      <td>1.760</td>\n",
       "      <td>5.90</td>\n",
       "      <td>641.96</td>\n",
       "      <td>82.75</td>\n",
       "    </tr>\n",
       "    <tr>\n",
       "      <th>max</th>\n",
       "      <td>23.9</td>\n",
       "      <td>9.450</td>\n",
       "      <td>10.038</td>\n",
       "      <td>23.661</td>\n",
       "      <td>21.28</td>\n",
       "      <td>1301.52</td>\n",
       "      <td>194.78</td>\n",
       "    </tr>\n",
       "  </tbody>\n",
       "</table>\n",
       "</div>"
      ],
      "text/plain": [
       "     total  speeding  alcohol  not_distracted  no_previous  ins_premium  \\\n",
       "min    5.9     1.792    1.593           1.760         5.90       641.96   \n",
       "max   23.9     9.450   10.038          23.661        21.28      1301.52   \n",
       "\n",
       "     ins_losses  \n",
       "min       82.75  \n",
       "max      194.78  "
      ]
     },
     "execution_count": 44,
     "metadata": {},
     "output_type": "execute_result"
    }
   ],
   "source": [
    "df_crashes.agg(['min', 'max'])"
   ]
  },
  {
   "cell_type": "code",
   "execution_count": 45,
   "metadata": {},
   "outputs": [
    {
     "data": {
      "text/html": [
       "<style type=\"text/css\">\n",
       "#T_a157b_row0_col0, #T_a157b_row0_col6, #T_a157b_row1_col2, #T_a157b_row2_col4, #T_a157b_row2_col5, #T_a157b_row5_col3, #T_a157b_row6_col1 {\n",
       "  background-color: #023858;\n",
       "  color: #f1f1f1;\n",
       "}\n",
       "#T_a157b_row0_col1 {\n",
       "  background-color: #f7f0f7;\n",
       "  color: #000000;\n",
       "}\n",
       "#T_a157b_row0_col2, #T_a157b_row6_col2 {\n",
       "  background-color: #f8f1f8;\n",
       "  color: #000000;\n",
       "}\n",
       "#T_a157b_row0_col3, #T_a157b_row4_col3 {\n",
       "  background-color: #6ba5cd;\n",
       "  color: #f1f1f1;\n",
       "}\n",
       "#T_a157b_row0_col4 {\n",
       "  background-color: #04629a;\n",
       "  color: #f1f1f1;\n",
       "}\n",
       "#T_a157b_row0_col5 {\n",
       "  background-color: #cdd0e5;\n",
       "  color: #000000;\n",
       "}\n",
       "#T_a157b_row1_col0 {\n",
       "  background-color: #046299;\n",
       "  color: #f1f1f1;\n",
       "}\n",
       "#T_a157b_row1_col1 {\n",
       "  background-color: #f5eff6;\n",
       "  color: #000000;\n",
       "}\n",
       "#T_a157b_row1_col3 {\n",
       "  background-color: #dbdaeb;\n",
       "  color: #000000;\n",
       "}\n",
       "#T_a157b_row1_col4 {\n",
       "  background-color: #1c7fb8;\n",
       "  color: #f1f1f1;\n",
       "}\n",
       "#T_a157b_row1_col5 {\n",
       "  background-color: #d8d7e9;\n",
       "  color: #000000;\n",
       "}\n",
       "#T_a157b_row1_col6 {\n",
       "  background-color: #93b5d6;\n",
       "  color: #000000;\n",
       "}\n",
       "#T_a157b_row2_col0, #T_a157b_row5_col1 {\n",
       "  background-color: #034369;\n",
       "  color: #f1f1f1;\n",
       "}\n",
       "#T_a157b_row2_col1, #T_a157b_row3_col4, #T_a157b_row4_col2, #T_a157b_row4_col5, #T_a157b_row4_col6, #T_a157b_row5_col0, #T_a157b_row6_col3 {\n",
       "  background-color: #fff7fb;\n",
       "  color: #000000;\n",
       "}\n",
       "#T_a157b_row2_col2 {\n",
       "  background-color: #adc1dd;\n",
       "  color: #000000;\n",
       "}\n",
       "#T_a157b_row2_col3 {\n",
       "  background-color: #4295c3;\n",
       "  color: #f1f1f1;\n",
       "}\n",
       "#T_a157b_row2_col6 {\n",
       "  background-color: #c0c9e2;\n",
       "  color: #000000;\n",
       "}\n",
       "#T_a157b_row3_col0 {\n",
       "  background-color: #034a74;\n",
       "  color: #f1f1f1;\n",
       "}\n",
       "#T_a157b_row3_col1 {\n",
       "  background-color: #fdf5fa;\n",
       "  color: #000000;\n",
       "}\n",
       "#T_a157b_row3_col2 {\n",
       "  background-color: #e2dfee;\n",
       "  color: #000000;\n",
       "}\n",
       "#T_a157b_row3_col3 {\n",
       "  background-color: #3991c1;\n",
       "  color: #f1f1f1;\n",
       "}\n",
       "#T_a157b_row3_col5 {\n",
       "  background-color: #84b0d3;\n",
       "  color: #f1f1f1;\n",
       "}\n",
       "#T_a157b_row3_col6 {\n",
       "  background-color: #bdc8e1;\n",
       "  color: #000000;\n",
       "}\n",
       "#T_a157b_row4_col0 {\n",
       "  background-color: #034267;\n",
       "  color: #f1f1f1;\n",
       "}\n",
       "#T_a157b_row4_col1 {\n",
       "  background-color: #f1ebf5;\n",
       "  color: #000000;\n",
       "}\n",
       "#T_a157b_row4_col4 {\n",
       "  background-color: #023b5d;\n",
       "  color: #f1f1f1;\n",
       "}\n",
       "#T_a157b_row5_col2 {\n",
       "  background-color: #71a8ce;\n",
       "  color: #f1f1f1;\n",
       "}\n",
       "#T_a157b_row5_col4 {\n",
       "  background-color: #0872b1;\n",
       "  color: #f1f1f1;\n",
       "}\n",
       "#T_a157b_row5_col5 {\n",
       "  background-color: #bfc9e1;\n",
       "  color: #000000;\n",
       "}\n",
       "#T_a157b_row5_col6 {\n",
       "  background-color: #8cb3d5;\n",
       "  color: #000000;\n",
       "}\n",
       "#T_a157b_row6_col0 {\n",
       "  background-color: #f0eaf4;\n",
       "  color: #000000;\n",
       "}\n",
       "#T_a157b_row6_col4 {\n",
       "  background-color: #2a88bc;\n",
       "  color: #f1f1f1;\n",
       "}\n",
       "#T_a157b_row6_col5 {\n",
       "  background-color: #65a3cb;\n",
       "  color: #f1f1f1;\n",
       "}\n",
       "#T_a157b_row6_col6 {\n",
       "  background-color: #a1bbda;\n",
       "  color: #000000;\n",
       "}\n",
       "</style>\n",
       "<table id=\"T_a157b\">\n",
       "  <thead>\n",
       "    <tr>\n",
       "      <th class=\"blank level0\" >&nbsp;</th>\n",
       "      <th id=\"T_a157b_level0_col0\" class=\"col_heading level0 col0\" >PC1</th>\n",
       "      <th id=\"T_a157b_level0_col1\" class=\"col_heading level0 col1\" >PC2</th>\n",
       "      <th id=\"T_a157b_level0_col2\" class=\"col_heading level0 col2\" >PC3</th>\n",
       "      <th id=\"T_a157b_level0_col3\" class=\"col_heading level0 col3\" >PC4</th>\n",
       "      <th id=\"T_a157b_level0_col4\" class=\"col_heading level0 col4\" >PC5</th>\n",
       "      <th id=\"T_a157b_level0_col5\" class=\"col_heading level0 col5\" >PC6</th>\n",
       "      <th id=\"T_a157b_level0_col6\" class=\"col_heading level0 col6\" >PC7</th>\n",
       "    </tr>\n",
       "  </thead>\n",
       "  <tbody>\n",
       "    <tr>\n",
       "      <th id=\"T_a157b_level0_row0\" class=\"row_heading level0 row0\" >total</th>\n",
       "      <td id=\"T_a157b_row0_col0\" class=\"data row0 col0\" >0.479471</td>\n",
       "      <td id=\"T_a157b_row0_col1\" class=\"data row0 col1\" >0.068938</td>\n",
       "      <td id=\"T_a157b_row0_col2\" class=\"data row0 col2\" >-0.269088</td>\n",
       "      <td id=\"T_a157b_row0_col3\" class=\"data row0 col3\" >0.038956</td>\n",
       "      <td id=\"T_a157b_row0_col4\" class=\"data row0 col4\" >0.145977</td>\n",
       "      <td id=\"T_a157b_row0_col5\" class=\"data row0 col5\" >-0.169705</td>\n",
       "      <td id=\"T_a157b_row0_col6\" class=\"data row0 col6\" >0.800825</td>\n",
       "    </tr>\n",
       "    <tr>\n",
       "      <th id=\"T_a157b_level0_row1\" class=\"row_heading level0 row1\" >speeding</th>\n",
       "      <td id=\"T_a157b_row1_col0\" class=\"data row1 col0\" >0.375347</td>\n",
       "      <td id=\"T_a157b_row1_col1\" class=\"data row1 col1\" >0.076585</td>\n",
       "      <td id=\"T_a157b_row1_col2\" class=\"data row1 col2\" >0.818269</td>\n",
       "      <td id=\"T_a157b_row1_col3\" class=\"data row1 col3\" >-0.363749</td>\n",
       "      <td id=\"T_a157b_row1_col4\" class=\"data row1 col4\" >-0.022828</td>\n",
       "      <td id=\"T_a157b_row1_col5\" class=\"data row1 col5\" >-0.224792</td>\n",
       "      <td id=\"T_a157b_row1_col6\" class=\"data row1 col6\" >0.017848</td>\n",
       "    </tr>\n",
       "    <tr>\n",
       "      <th id=\"T_a157b_level0_row2\" class=\"row_heading level0 row2\" >alcohol</th>\n",
       "      <td id=\"T_a157b_row2_col0\" class=\"data row2 col0\" >0.454376</td>\n",
       "      <td id=\"T_a157b_row2_col1\" class=\"data row2 col1\" >0.033458</td>\n",
       "      <td id=\"T_a157b_row2_col2\" class=\"data row2 col2\" >0.082933</td>\n",
       "      <td id=\"T_a157b_row2_col3\" class=\"data row2 col3\" >0.148344</td>\n",
       "      <td id=\"T_a157b_row2_col4\" class=\"data row2 col4\" >0.354798</td>\n",
       "      <td id=\"T_a157b_row2_col5\" class=\"data row2 col5\" >0.783768</td>\n",
       "      <td id=\"T_a157b_row2_col6\" class=\"data row2 col6\" >-0.152858</td>\n",
       "    </tr>\n",
       "    <tr>\n",
       "      <th id=\"T_a157b_level0_row3\" class=\"row_heading level0 row3\" >not_distracted</th>\n",
       "      <td id=\"T_a157b_row3_col0\" class=\"data row3 col0\" >0.438033</td>\n",
       "      <td id=\"T_a157b_row3_col1\" class=\"data row3 col1\" >0.042375</td>\n",
       "      <td id=\"T_a157b_row3_col2\" class=\"data row3 col2\" >-0.126168</td>\n",
       "      <td id=\"T_a157b_row3_col3\" class=\"data row3 col3\" >0.171266</td>\n",
       "      <td id=\"T_a157b_row3_col4\" class=\"data row3 col4\" >-0.856469</td>\n",
       "      <td id=\"T_a157b_row3_col5\" class=\"data row3 col5\" >0.085105</td>\n",
       "      <td id=\"T_a157b_row3_col6\" class=\"data row3 col6\" >-0.142478</td>\n",
       "    </tr>\n",
       "    <tr>\n",
       "      <th id=\"T_a157b_level0_row4\" class=\"row_heading level0 row4\" >no_previous</th>\n",
       "      <td id=\"T_a157b_row4_col0\" class=\"data row4 col0\" >0.457034</td>\n",
       "      <td id=\"T_a157b_row4_col1\" class=\"data row4 col1\" >0.096129</td>\n",
       "      <td id=\"T_a157b_row4_col2\" class=\"data row4 col2\" >-0.317988</td>\n",
       "      <td id=\"T_a157b_row4_col3\" class=\"data row4 col3\" >0.039481</td>\n",
       "      <td id=\"T_a157b_row4_col4\" class=\"data row4 col4\" >0.336110</td>\n",
       "      <td id=\"T_a157b_row4_col5\" class=\"data row4 col5\" >-0.504012</td>\n",
       "      <td id=\"T_a157b_row4_col6\" class=\"data row4 col6\" >-0.558754</td>\n",
       "    </tr>\n",
       "    <tr>\n",
       "      <th id=\"T_a157b_level0_row5\" class=\"row_heading level0 row5\" >ins_premium</th>\n",
       "      <td id=\"T_a157b_row5_col0\" class=\"data row5 col0\" >-0.130832</td>\n",
       "      <td id=\"T_a157b_row5_col1\" class=\"data row5 col1\" >0.685227</td>\n",
       "      <td id=\"T_a157b_row5_col2\" class=\"data row5 col2\" >0.256142</td>\n",
       "      <td id=\"T_a157b_row5_col3\" class=\"data row5 col3\" >0.656396</td>\n",
       "      <td id=\"T_a157b_row5_col4\" class=\"data row5 col4\" >0.042145</td>\n",
       "      <td id=\"T_a157b_row5_col5\" class=\"data row5 col5\" >-0.115773</td>\n",
       "      <td id=\"T_a157b_row5_col6\" class=\"data row5 col6\" >0.041266</td>\n",
       "    </tr>\n",
       "    <tr>\n",
       "      <th id=\"T_a157b_level0_row6\" class=\"row_heading level0 row6\" >ins_losses</th>\n",
       "      <td id=\"T_a157b_row6_col0\" class=\"data row6 col0\" >-0.069960</td>\n",
       "      <td id=\"T_a157b_row6_col1\" class=\"data row6 col1\" >0.712524</td>\n",
       "      <td id=\"T_a157b_row6_col2\" class=\"data row6 col2\" >-0.261735</td>\n",
       "      <td id=\"T_a157b_row6_col3\" class=\"data row6 col3\" >-0.618399</td>\n",
       "      <td id=\"T_a157b_row6_col4\" class=\"data row6 col4\" >-0.063272</td>\n",
       "      <td id=\"T_a157b_row6_col5\" class=\"data row6 col5\" >0.178052</td>\n",
       "      <td id=\"T_a157b_row6_col6\" class=\"data row6 col6\" >-0.028050</td>\n",
       "    </tr>\n",
       "  </tbody>\n",
       "</table>\n"
      ],
      "text/plain": [
       "<pandas.io.formats.style.Styler at 0x290ea376ac0>"
      ]
     },
     "execution_count": 45,
     "metadata": {},
     "output_type": "execute_result"
    }
   ],
   "source": [
    "df_weights.style.background_gradient()"
   ]
  },
  {
   "cell_type": "markdown",
   "metadata": {},
   "source": [
    "### Biplot"
   ]
  },
  {
   "cell_type": "code",
   "execution_count": null,
   "metadata": {},
   "outputs": [
    {
     "data": {
      "application/vnd.plotly.v1+json": {
       "config": {
        "plotlyServerURL": "https://plot.ly"
       },
       "data": [
        {
         "hovertemplate": "<b>%{hovertext}</b><br><br>color=1<br>PC1 ~ 0.57%=%{x}<br>PC2 ~ 0.23%=%{y}<extra></extra>",
         "hovertext": [
          "AL",
          "AK",
          "AZ",
          "AR",
          "DE",
          "FL",
          "HI",
          "KY",
          "LA",
          "MO",
          "MT",
          "ND",
          "OK",
          "PA",
          "SC",
          "SD",
          "TN",
          "TX",
          "WV",
          "WY"
         ],
         "legendgroup": "1",
         "marker": {
          "color": "#636efa",
          "symbol": "circle"
         },
         "mode": "markers",
         "name": "1",
         "orientation": "v",
         "showlegend": true,
         "type": "scatter",
         "x": [
          1.6036712920638672,
          1.1442118763157039,
          1.4321719675062357,
          2.4915835190732842,
          0.32465801625134494,
          0.49568879401434646,
          1.9280469577362793,
          1.0794269363998854,
          1.8794272670384382,
          0.6597331360588236,
          3.6279233622540157,
          4.4236191540295104,
          1.893587382371987,
          1.8140529975938473,
          4.672013995002564,
          2.1474762931769718,
          0.95487882111058,
          2.2043082790237185,
          3.6191288449153323,
          1.1643261547888315
         ],
         "xaxis": "x",
         "y": [
          0.13344926968043047,
          0.8582339894293289,
          -0.4205056168878649,
          0.3489681166159155,
          1.5742446940343622,
          1.4352819371517147,
          -0.21024525016261197,
          0.16789431438424768,
          3.6482175303581457,
          0.0032540382009016433,
          -1.2429920461888102,
          -0.9657162440262443,
          1.5697553106029372,
          0.9365890102701382,
          -0.01952380812622258,
          -1.6846702110775797,
          0.26077660911209494,
          1.4326421493384114,
          1.485285546427215,
          -0.5560640154713206
         ],
         "yaxis": "y"
        },
        {
         "hovertemplate": "<b>%{hovertext}</b><br><br>color=0<br>PC1 ~ 0.57%=%{x}<br>PC2 ~ 0.23%=%{y}<extra></extra>",
         "hovertext": [
          "CA",
          "CT",
          "DC",
          "MD",
          "MA",
          "MI",
          "MN",
          "NJ",
          "NY",
          "RI"
         ],
         "legendgroup": "0",
         "marker": {
          "color": "#EF553B",
          "symbol": "circle"
         },
         "mode": "markers",
         "name": "0",
         "orientation": "v",
         "showlegend": true,
         "type": "scatter",
         "x": [
          -1.7506382539760206,
          -2.1253592451717935,
          -4.635925570333746,
          -1.7087474308482185,
          -3.6514570255071024,
          -1.3707025287055496,
          -2.9090385017494254,
          -3.0183091362105583,
          -2.041784270695779,
          -2.164483928167344
         ],
         "xaxis": "x",
         "y": [
          0.6336251692149383,
          1.37060015821328,
          0.9189968817049315,
          2.1264219888559825,
          -0.02508167354041232,
          1.1912387964051954,
          -0.903773578216851,
          1.9358695221967666,
          1.538860350958054,
          1.1190774735244104
         ],
         "yaxis": "y"
        },
        {
         "hovertemplate": "<b>%{hovertext}</b><br><br>color=2<br>PC1 ~ 0.57%=%{x}<br>PC2 ~ 0.23%=%{y}<extra></extra>",
         "hovertext": [
          "CO",
          "GA",
          "ID",
          "IL",
          "IN",
          "IA",
          "KS",
          "ME",
          "MS",
          "NE",
          "NV",
          "NH",
          "NM",
          "NC",
          "OH",
          "OR",
          "UT",
          "VT",
          "VA",
          "WA",
          "WI"
         ],
         "legendgroup": "2",
         "marker": {
          "color": "#00cc96",
          "symbol": "circle"
         },
         "mode": "markers",
         "name": "2",
         "orientation": "v",
         "showlegend": true,
         "type": "scatter",
         "x": [
          -0.9251202488860342,
          -0.5254271281060762,
          0.3131230890359158,
          -0.8793400373779718,
          -0.39532570367795183,
          -0.35012213312125506,
          0.2687239062094826,
          0.03316519504817376,
          -0.8648908005003847,
          -0.4670829323269445,
          -0.10602771952958712,
          -1.775362264303605,
          0.46929132612342367,
          0.8162622009397005,
          -0.5391493221420199,
          -1.5594101671724687,
          -1.9852112540426603,
          -0.6303375914131888,
          -1.797349228160101,
          -2.0964516369964383,
          -1.187446704960038
         ],
         "xaxis": "x",
         "y": [
          -0.15438781557476322,
          0.26668801394331637,
          -2.4275974951793944,
          -0.3253365977441939,
          -1.517806341220062,
          -1.60635699958614,
          -0.3886444292577362,
          -2.000911578971501,
          0.5837461625713328,
          -1.309009475824436,
          0.6896524437862012,
          -1.2390182746107858,
          -0.38448561899398725,
          -0.7933123527821455,
          -0.8926266350305354,
          -1.4072529017769795,
          -1.283064311815796,
          -1.5046108331408614,
          -0.17763939227071374,
          -0.9589686595869715,
          -1.829767319915332
         ],
         "yaxis": "y"
        }
       ],
       "layout": {
        "annotations": [
         {
          "ax": 0,
          "ay": 0,
          "text": "total",
          "x": 0.9701710337253193,
          "xanchor": "center",
          "y": 0.08746052736786808,
          "yanchor": "bottom"
         },
         {
          "ax": 0,
          "ay": 0,
          "text": "speeding",
          "x": 0.7594852268879452,
          "xanchor": "center",
          "y": 0.09716207830736182,
          "yanchor": "bottom"
         },
         {
          "ax": 0,
          "ay": 0,
          "text": "alcohol",
          "x": 0.9193944471123754,
          "xanchor": "center",
          "y": 0.04244825495547576,
          "yanchor": "bottom"
         },
         {
          "ax": 0,
          "ay": 0,
          "text": "not_distracted",
          "x": 0.8863245865648315,
          "xanchor": "center",
          "y": 0.05376037953767131,
          "yanchor": "bottom"
         },
         {
          "ax": 0,
          "ay": 0,
          "text": "no_previous",
          "x": 0.9247722738928363,
          "xanchor": "center",
          "y": 0.12195836918556453,
          "yanchor": "bottom"
         },
         {
          "ax": 0,
          "ay": 0,
          "text": "ins_premium",
          "x": -0.26472795049821873,
          "xanchor": "center",
          "y": 0.8693398328548062,
          "yanchor": "bottom"
         },
         {
          "ax": 0,
          "ay": 0,
          "text": "ins_losses",
          "x": -0.1415594783772665,
          "xanchor": "center",
          "y": 0.9039722173221629,
          "yanchor": "bottom"
         }
        ],
        "autosize": true,
        "dragmode": "pan",
        "legend": {
         "title": {
          "text": "color"
         },
         "tracegroupgap": 0
        },
        "margin": {
         "t": 60
        },
        "shapes": [
         {
          "line": {
           "color": "red",
           "width": 3
          },
          "type": "line",
          "x0": 0,
          "x1": 0.9701710337253193,
          "y0": 0,
          "y1": 0.08746052736786808
         },
         {
          "line": {
           "color": "red",
           "width": 3
          },
          "type": "line",
          "x0": 0,
          "x1": 0.7594852268879452,
          "y0": 0,
          "y1": 0.09716207830736182
         },
         {
          "line": {
           "color": "red",
           "width": 3
          },
          "type": "line",
          "x0": 0,
          "x1": 0.9193944471123754,
          "y0": 0,
          "y1": 0.04244825495547576
         },
         {
          "line": {
           "color": "red",
           "width": 3
          },
          "type": "line",
          "x0": 0,
          "x1": 0.8863245865648315,
          "y0": 0,
          "y1": 0.05376037953767131
         },
         {
          "line": {
           "color": "red",
           "width": 3
          },
          "type": "line",
          "x0": 0,
          "x1": 0.9247722738928363,
          "y0": 0,
          "y1": 0.12195836918556453
         },
         {
          "line": {
           "color": "red",
           "width": 3
          },
          "type": "line",
          "x0": 0,
          "x1": -0.26472795049821873,
          "y0": 0,
          "y1": 0.8693398328548062
         },
         {
          "line": {
           "color": "red",
           "width": 3
          },
          "type": "line",
          "x0": 0,
          "x1": -0.1415594783772665,
          "y0": 0,
          "y1": 0.9039722173221629
         }
        ],
        "template": {
         "data": {
          "bar": [
           {
            "error_x": {
             "color": "#2a3f5f"
            },
            "error_y": {
             "color": "#2a3f5f"
            },
            "marker": {
             "line": {
              "color": "#E5ECF6",
              "width": 0.5
             },
             "pattern": {
              "fillmode": "overlay",
              "size": 10,
              "solidity": 0.2
             }
            },
            "type": "bar"
           }
          ],
          "barpolar": [
           {
            "marker": {
             "line": {
              "color": "#E5ECF6",
              "width": 0.5
             },
             "pattern": {
              "fillmode": "overlay",
              "size": 10,
              "solidity": 0.2
             }
            },
            "type": "barpolar"
           }
          ],
          "carpet": [
           {
            "aaxis": {
             "endlinecolor": "#2a3f5f",
             "gridcolor": "white",
             "linecolor": "white",
             "minorgridcolor": "white",
             "startlinecolor": "#2a3f5f"
            },
            "baxis": {
             "endlinecolor": "#2a3f5f",
             "gridcolor": "white",
             "linecolor": "white",
             "minorgridcolor": "white",
             "startlinecolor": "#2a3f5f"
            },
            "type": "carpet"
           }
          ],
          "choropleth": [
           {
            "colorbar": {
             "outlinewidth": 0,
             "ticks": ""
            },
            "type": "choropleth"
           }
          ],
          "contour": [
           {
            "colorbar": {
             "outlinewidth": 0,
             "ticks": ""
            },
            "colorscale": [
             [
              0,
              "#0d0887"
             ],
             [
              0.1111111111111111,
              "#46039f"
             ],
             [
              0.2222222222222222,
              "#7201a8"
             ],
             [
              0.3333333333333333,
              "#9c179e"
             ],
             [
              0.4444444444444444,
              "#bd3786"
             ],
             [
              0.5555555555555556,
              "#d8576b"
             ],
             [
              0.6666666666666666,
              "#ed7953"
             ],
             [
              0.7777777777777778,
              "#fb9f3a"
             ],
             [
              0.8888888888888888,
              "#fdca26"
             ],
             [
              1,
              "#f0f921"
             ]
            ],
            "type": "contour"
           }
          ],
          "contourcarpet": [
           {
            "colorbar": {
             "outlinewidth": 0,
             "ticks": ""
            },
            "type": "contourcarpet"
           }
          ],
          "heatmap": [
           {
            "colorbar": {
             "outlinewidth": 0,
             "ticks": ""
            },
            "colorscale": [
             [
              0,
              "#0d0887"
             ],
             [
              0.1111111111111111,
              "#46039f"
             ],
             [
              0.2222222222222222,
              "#7201a8"
             ],
             [
              0.3333333333333333,
              "#9c179e"
             ],
             [
              0.4444444444444444,
              "#bd3786"
             ],
             [
              0.5555555555555556,
              "#d8576b"
             ],
             [
              0.6666666666666666,
              "#ed7953"
             ],
             [
              0.7777777777777778,
              "#fb9f3a"
             ],
             [
              0.8888888888888888,
              "#fdca26"
             ],
             [
              1,
              "#f0f921"
             ]
            ],
            "type": "heatmap"
           }
          ],
          "heatmapgl": [
           {
            "colorbar": {
             "outlinewidth": 0,
             "ticks": ""
            },
            "colorscale": [
             [
              0,
              "#0d0887"
             ],
             [
              0.1111111111111111,
              "#46039f"
             ],
             [
              0.2222222222222222,
              "#7201a8"
             ],
             [
              0.3333333333333333,
              "#9c179e"
             ],
             [
              0.4444444444444444,
              "#bd3786"
             ],
             [
              0.5555555555555556,
              "#d8576b"
             ],
             [
              0.6666666666666666,
              "#ed7953"
             ],
             [
              0.7777777777777778,
              "#fb9f3a"
             ],
             [
              0.8888888888888888,
              "#fdca26"
             ],
             [
              1,
              "#f0f921"
             ]
            ],
            "type": "heatmapgl"
           }
          ],
          "histogram": [
           {
            "marker": {
             "pattern": {
              "fillmode": "overlay",
              "size": 10,
              "solidity": 0.2
             }
            },
            "type": "histogram"
           }
          ],
          "histogram2d": [
           {
            "colorbar": {
             "outlinewidth": 0,
             "ticks": ""
            },
            "colorscale": [
             [
              0,
              "#0d0887"
             ],
             [
              0.1111111111111111,
              "#46039f"
             ],
             [
              0.2222222222222222,
              "#7201a8"
             ],
             [
              0.3333333333333333,
              "#9c179e"
             ],
             [
              0.4444444444444444,
              "#bd3786"
             ],
             [
              0.5555555555555556,
              "#d8576b"
             ],
             [
              0.6666666666666666,
              "#ed7953"
             ],
             [
              0.7777777777777778,
              "#fb9f3a"
             ],
             [
              0.8888888888888888,
              "#fdca26"
             ],
             [
              1,
              "#f0f921"
             ]
            ],
            "type": "histogram2d"
           }
          ],
          "histogram2dcontour": [
           {
            "colorbar": {
             "outlinewidth": 0,
             "ticks": ""
            },
            "colorscale": [
             [
              0,
              "#0d0887"
             ],
             [
              0.1111111111111111,
              "#46039f"
             ],
             [
              0.2222222222222222,
              "#7201a8"
             ],
             [
              0.3333333333333333,
              "#9c179e"
             ],
             [
              0.4444444444444444,
              "#bd3786"
             ],
             [
              0.5555555555555556,
              "#d8576b"
             ],
             [
              0.6666666666666666,
              "#ed7953"
             ],
             [
              0.7777777777777778,
              "#fb9f3a"
             ],
             [
              0.8888888888888888,
              "#fdca26"
             ],
             [
              1,
              "#f0f921"
             ]
            ],
            "type": "histogram2dcontour"
           }
          ],
          "mesh3d": [
           {
            "colorbar": {
             "outlinewidth": 0,
             "ticks": ""
            },
            "type": "mesh3d"
           }
          ],
          "parcoords": [
           {
            "line": {
             "colorbar": {
              "outlinewidth": 0,
              "ticks": ""
             }
            },
            "type": "parcoords"
           }
          ],
          "pie": [
           {
            "automargin": true,
            "type": "pie"
           }
          ],
          "scatter": [
           {
            "fillpattern": {
             "fillmode": "overlay",
             "size": 10,
             "solidity": 0.2
            },
            "type": "scatter"
           }
          ],
          "scatter3d": [
           {
            "line": {
             "colorbar": {
              "outlinewidth": 0,
              "ticks": ""
             }
            },
            "marker": {
             "colorbar": {
              "outlinewidth": 0,
              "ticks": ""
             }
            },
            "type": "scatter3d"
           }
          ],
          "scattercarpet": [
           {
            "marker": {
             "colorbar": {
              "outlinewidth": 0,
              "ticks": ""
             }
            },
            "type": "scattercarpet"
           }
          ],
          "scattergeo": [
           {
            "marker": {
             "colorbar": {
              "outlinewidth": 0,
              "ticks": ""
             }
            },
            "type": "scattergeo"
           }
          ],
          "scattergl": [
           {
            "marker": {
             "colorbar": {
              "outlinewidth": 0,
              "ticks": ""
             }
            },
            "type": "scattergl"
           }
          ],
          "scattermapbox": [
           {
            "marker": {
             "colorbar": {
              "outlinewidth": 0,
              "ticks": ""
             }
            },
            "type": "scattermapbox"
           }
          ],
          "scatterpolar": [
           {
            "marker": {
             "colorbar": {
              "outlinewidth": 0,
              "ticks": ""
             }
            },
            "type": "scatterpolar"
           }
          ],
          "scatterpolargl": [
           {
            "marker": {
             "colorbar": {
              "outlinewidth": 0,
              "ticks": ""
             }
            },
            "type": "scatterpolargl"
           }
          ],
          "scatterternary": [
           {
            "marker": {
             "colorbar": {
              "outlinewidth": 0,
              "ticks": ""
             }
            },
            "type": "scatterternary"
           }
          ],
          "surface": [
           {
            "colorbar": {
             "outlinewidth": 0,
             "ticks": ""
            },
            "colorscale": [
             [
              0,
              "#0d0887"
             ],
             [
              0.1111111111111111,
              "#46039f"
             ],
             [
              0.2222222222222222,
              "#7201a8"
             ],
             [
              0.3333333333333333,
              "#9c179e"
             ],
             [
              0.4444444444444444,
              "#bd3786"
             ],
             [
              0.5555555555555556,
              "#d8576b"
             ],
             [
              0.6666666666666666,
              "#ed7953"
             ],
             [
              0.7777777777777778,
              "#fb9f3a"
             ],
             [
              0.8888888888888888,
              "#fdca26"
             ],
             [
              1,
              "#f0f921"
             ]
            ],
            "type": "surface"
           }
          ],
          "table": [
           {
            "cells": {
             "fill": {
              "color": "#EBF0F8"
             },
             "line": {
              "color": "white"
             }
            },
            "header": {
             "fill": {
              "color": "#C8D4E3"
             },
             "line": {
              "color": "white"
             }
            },
            "type": "table"
           }
          ]
         },
         "layout": {
          "annotationdefaults": {
           "arrowcolor": "#2a3f5f",
           "arrowhead": 0,
           "arrowwidth": 1
          },
          "autotypenumbers": "strict",
          "coloraxis": {
           "colorbar": {
            "outlinewidth": 0,
            "ticks": ""
           }
          },
          "colorscale": {
           "diverging": [
            [
             0,
             "#8e0152"
            ],
            [
             0.1,
             "#c51b7d"
            ],
            [
             0.2,
             "#de77ae"
            ],
            [
             0.3,
             "#f1b6da"
            ],
            [
             0.4,
             "#fde0ef"
            ],
            [
             0.5,
             "#f7f7f7"
            ],
            [
             0.6,
             "#e6f5d0"
            ],
            [
             0.7,
             "#b8e186"
            ],
            [
             0.8,
             "#7fbc41"
            ],
            [
             0.9,
             "#4d9221"
            ],
            [
             1,
             "#276419"
            ]
           ],
           "sequential": [
            [
             0,
             "#0d0887"
            ],
            [
             0.1111111111111111,
             "#46039f"
            ],
            [
             0.2222222222222222,
             "#7201a8"
            ],
            [
             0.3333333333333333,
             "#9c179e"
            ],
            [
             0.4444444444444444,
             "#bd3786"
            ],
            [
             0.5555555555555556,
             "#d8576b"
            ],
            [
             0.6666666666666666,
             "#ed7953"
            ],
            [
             0.7777777777777778,
             "#fb9f3a"
            ],
            [
             0.8888888888888888,
             "#fdca26"
            ],
            [
             1,
             "#f0f921"
            ]
           ],
           "sequentialminus": [
            [
             0,
             "#0d0887"
            ],
            [
             0.1111111111111111,
             "#46039f"
            ],
            [
             0.2222222222222222,
             "#7201a8"
            ],
            [
             0.3333333333333333,
             "#9c179e"
            ],
            [
             0.4444444444444444,
             "#bd3786"
            ],
            [
             0.5555555555555556,
             "#d8576b"
            ],
            [
             0.6666666666666666,
             "#ed7953"
            ],
            [
             0.7777777777777778,
             "#fb9f3a"
            ],
            [
             0.8888888888888888,
             "#fdca26"
            ],
            [
             1,
             "#f0f921"
            ]
           ]
          },
          "colorway": [
           "#636efa",
           "#EF553B",
           "#00cc96",
           "#ab63fa",
           "#FFA15A",
           "#19d3f3",
           "#FF6692",
           "#B6E880",
           "#FF97FF",
           "#FECB52"
          ],
          "font": {
           "color": "#2a3f5f"
          },
          "geo": {
           "bgcolor": "white",
           "lakecolor": "white",
           "landcolor": "#E5ECF6",
           "showlakes": true,
           "showland": true,
           "subunitcolor": "white"
          },
          "hoverlabel": {
           "align": "left"
          },
          "hovermode": "closest",
          "mapbox": {
           "style": "light"
          },
          "paper_bgcolor": "white",
          "plot_bgcolor": "#E5ECF6",
          "polar": {
           "angularaxis": {
            "gridcolor": "white",
            "linecolor": "white",
            "ticks": ""
           },
           "bgcolor": "#E5ECF6",
           "radialaxis": {
            "gridcolor": "white",
            "linecolor": "white",
            "ticks": ""
           }
          },
          "scene": {
           "xaxis": {
            "backgroundcolor": "#E5ECF6",
            "gridcolor": "white",
            "gridwidth": 2,
            "linecolor": "white",
            "showbackground": true,
            "ticks": "",
            "zerolinecolor": "white"
           },
           "yaxis": {
            "backgroundcolor": "#E5ECF6",
            "gridcolor": "white",
            "gridwidth": 2,
            "linecolor": "white",
            "showbackground": true,
            "ticks": "",
            "zerolinecolor": "white"
           },
           "zaxis": {
            "backgroundcolor": "#E5ECF6",
            "gridcolor": "white",
            "gridwidth": 2,
            "linecolor": "white",
            "showbackground": true,
            "ticks": "",
            "zerolinecolor": "white"
           }
          },
          "shapedefaults": {
           "line": {
            "color": "#2a3f5f"
           }
          },
          "ternary": {
           "aaxis": {
            "gridcolor": "white",
            "linecolor": "white",
            "ticks": ""
           },
           "baxis": {
            "gridcolor": "white",
            "linecolor": "white",
            "ticks": ""
           },
           "bgcolor": "#E5ECF6",
           "caxis": {
            "gridcolor": "white",
            "linecolor": "white",
            "ticks": ""
           }
          },
          "title": {
           "x": 0.05
          },
          "xaxis": {
           "automargin": true,
           "gridcolor": "white",
           "linecolor": "white",
           "ticks": "",
           "title": {
            "standoff": 15
           },
           "zerolinecolor": "white",
           "zerolinewidth": 2
          },
          "yaxis": {
           "automargin": true,
           "gridcolor": "white",
           "linecolor": "white",
           "ticks": "",
           "title": {
            "standoff": 15
           },
           "zerolinecolor": "white",
           "zerolinewidth": 2
          }
         }
        },
        "xaxis": {
         "anchor": "y",
         "autorange": true,
         "domain": [
          0,
          1
         ],
         "range": [
          -5.251044649518847,
          5.287133074187665
         ],
         "showspikes": false,
         "title": {
          "text": "PC1 ~ 0.57%"
         },
         "type": "linear"
        },
        "yaxis": {
         "anchor": "x",
         "autorange": true,
         "domain": [
          0,
          1
         ],
         "range": [
          -2.8980346165792827,
          4.118654651758034
         ],
         "showspikes": false,
         "title": {
          "text": "PC2 ~ 0.23%"
         },
         "type": "linear"
        }
       }
      },
      "image/png": "[encoded data removed]",
      "text/html": [
       "<div>                            <div id=\"bb9f1bc5-fb89-4dc6-9ae8-fc1fb76ad7ed\" class=\"plotly-graph-div\" style=\"height:525px; width:100%;\"></div>            <script type=\"text/javascript\">                require([\"plotly\"], function(Plotly) {                    window.PLOTLYENV=window.PLOTLYENV || {};                                    if (document.getElementById(\"bb9f1bc5-fb89-4dc6-9ae8-fc1fb76ad7ed\")) {                    Plotly.newPlot(                        \"bb9f1bc5-fb89-4dc6-9ae8-fc1fb76ad7ed\",                        [{\"hovertemplate\":\"<b>%{hovertext}</b><br><br>color=1<br>PC1 ~ 0.57%=%{x}<br>PC2 ~ 0.23%=%{y}<extra></extra>\",\"hovertext\":[\"AL\",\"AK\",\"AZ\",\"AR\",\"DE\",\"FL\",\"HI\",\"KY\",\"LA\",\"MO\",\"MT\",\"ND\",\"OK\",\"PA\",\"SC\",\"SD\",\"TN\",\"TX\",\"WV\",\"WY\"],\"legendgroup\":\"1\",\"marker\":{\"color\":\"#636efa\",\"symbol\":\"circle\"},\"mode\":\"markers\",\"name\":\"1\",\"orientation\":\"v\",\"showlegend\":true,\"x\":[1.6036712920638672,1.1442118763157039,1.4321719675062357,2.4915835190732842,0.32465801625134494,0.49568879401434646,1.9280469577362793,1.0794269363998854,1.8794272670384382,0.6597331360588236,3.6279233622540157,4.4236191540295104,1.893587382371987,1.8140529975938473,4.672013995002564,2.1474762931769718,0.95487882111058,2.2043082790237185,3.6191288449153323,1.1643261547888315],\"xaxis\":\"x\",\"y\":[0.13344926968043047,0.8582339894293289,-0.4205056168878649,0.3489681166159155,1.5742446940343622,1.4352819371517147,-0.21024525016261197,0.16789431438424768,3.6482175303581457,0.0032540382009016433,-1.2429920461888102,-0.9657162440262443,1.5697553106029372,0.9365890102701382,-0.01952380812622258,-1.6846702110775797,0.26077660911209494,1.4326421493384114,1.485285546427215,-0.5560640154713206],\"yaxis\":\"y\",\"type\":\"scatter\"},{\"hovertemplate\":\"<b>%{hovertext}</b><br><br>color=0<br>PC1 ~ 0.57%=%{x}<br>PC2 ~ 0.23%=%{y}<extra></extra>\",\"hovertext\":[\"CA\",\"CT\",\"DC\",\"MD\",\"MA\",\"MI\",\"MN\",\"NJ\",\"NY\",\"RI\"],\"legendgroup\":\"0\",\"marker\":{\"color\":\"#EF553B\",\"symbol\":\"circle\"},\"mode\":\"markers\",\"name\":\"0\",\"orientation\":\"v\",\"showlegend\":true,\"x\":[-1.7506382539760206,-2.1253592451717935,-4.635925570333746,-1.7087474308482185,-3.6514570255071024,-1.3707025287055496,-2.9090385017494254,-3.0183091362105583,-2.041784270695779,-2.164483928167344],\"xaxis\":\"x\",\"y\":[0.6336251692149383,1.37060015821328,0.9189968817049315,2.1264219888559825,-0.02508167354041232,1.1912387964051954,-0.903773578216851,1.9358695221967666,1.538860350958054,1.1190774735244104],\"yaxis\":\"y\",\"type\":\"scatter\"},{\"hovertemplate\":\"<b>%{hovertext}</b><br><br>color=2<br>PC1 ~ 0.57%=%{x}<br>PC2 ~ 0.23%=%{y}<extra></extra>\",\"hovertext\":[\"CO\",\"GA\",\"ID\",\"IL\",\"IN\",\"IA\",\"KS\",\"ME\",\"MS\",\"NE\",\"NV\",\"NH\",\"NM\",\"NC\",\"OH\",\"OR\",\"UT\",\"VT\",\"VA\",\"WA\",\"WI\"],\"legendgroup\":\"2\",\"marker\":{\"color\":\"#00cc96\",\"symbol\":\"circle\"},\"mode\":\"markers\",\"name\":\"2\",\"orientation\":\"v\",\"showlegend\":true,\"x\":[-0.9251202488860342,-0.5254271281060762,0.3131230890359158,-0.8793400373779718,-0.39532570367795183,-0.35012213312125506,0.2687239062094826,0.03316519504817376,-0.8648908005003847,-0.4670829323269445,-0.10602771952958712,-1.775362264303605,0.46929132612342367,0.8162622009397005,-0.5391493221420199,-1.5594101671724687,-1.9852112540426603,-0.6303375914131888,-1.797349228160101,-2.0964516369964383,-1.187446704960038],\"xaxis\":\"x\",\"y\":[-0.15438781557476322,0.26668801394331637,-2.4275974951793944,-0.3253365977441939,-1.517806341220062,-1.60635699958614,-0.3886444292577362,-2.000911578971501,0.5837461625713328,-1.309009475824436,0.6896524437862012,-1.2390182746107858,-0.38448561899398725,-0.7933123527821455,-0.8926266350305354,-1.4072529017769795,-1.283064311815796,-1.5046108331408614,-0.17763939227071374,-0.9589686595869715,-1.829767319915332],\"yaxis\":\"y\",\"type\":\"scatter\"}],                        {\"template\":{\"data\":{\"histogram2dcontour\":[{\"type\":\"histogram2dcontour\",\"colorbar\":{\"outlinewidth\":0,\"ticks\":\"\"},\"colorscale\":[[0.0,\"#0d0887\"],[0.1111111111111111,\"#46039f\"],[0.2222222222222222,\"#7201a8\"],[0.3333333333333333,\"#9c179e\"],[0.4444444444444444,\"#bd3786\"],[0.5555555555555556,\"#d8576b\"],[0.6666666666666666,\"#ed7953\"],[0.7777777777777778,\"#fb9f3a\"],[0.8888888888888888,\"#fdca26\"],[1.0,\"#f0f921\"]]}],\"choropleth\":[{\"type\":\"choropleth\",\"colorbar\":{\"outlinewidth\":0,\"ticks\":\"\"}}],\"histogram2d\":[{\"type\":\"histogram2d\",\"colorbar\":{\"outlinewidth\":0,\"ticks\":\"\"},\"colorscale\":[[0.0,\"#0d0887\"],[0.1111111111111111,\"#46039f\"],[0.2222222222222222,\"#7201a8\"],[0.3333333333333333,\"#9c179e\"],[0.4444444444444444,\"#bd3786\"],[0.5555555555555556,\"#d8576b\"],[0.6666666666666666,\"#ed7953\"],[0.7777777777777778,\"#fb9f3a\"],[0.8888888888888888,\"#fdca26\"],[1.0,\"#f0f921\"]]}],\"heatmap\":[{\"type\":\"heatmap\",\"colorbar\":{\"outlinewidth\":0,\"ticks\":\"\"},\"colorscale\":[[0.0,\"#0d0887\"],[0.1111111111111111,\"#46039f\"],[0.2222222222222222,\"#7201a8\"],[0.3333333333333333,\"#9c179e\"],[0.4444444444444444,\"#bd3786\"],[0.5555555555555556,\"#d8576b\"],[0.6666666666666666,\"#ed7953\"],[0.7777777777777778,\"#fb9f3a\"],[0.8888888888888888,\"#fdca26\"],[1.0,\"#f0f921\"]]}],\"heatmapgl\":[{\"type\":\"heatmapgl\",\"colorbar\":{\"outlinewidth\":0,\"ticks\":\"\"},\"colorscale\":[[0.0,\"#0d0887\"],[0.1111111111111111,\"#46039f\"],[0.2222222222222222,\"#7201a8\"],[0.3333333333333333,\"#9c179e\"],[0.4444444444444444,\"#bd3786\"],[0.5555555555555556,\"#d8576b\"],[0.6666666666666666,\"#ed7953\"],[0.7777777777777778,\"#fb9f3a\"],[0.8888888888888888,\"#fdca26\"],[1.0,\"#f0f921\"]]}],\"contourcarpet\":[{\"type\":\"contourcarpet\",\"colorbar\":{\"outlinewidth\":0,\"ticks\":\"\"}}],\"contour\":[{\"type\":\"contour\",\"colorbar\":{\"outlinewidth\":0,\"ticks\":\"\"},\"colorscale\":[[0.0,\"#0d0887\"],[0.1111111111111111,\"#46039f\"],[0.2222222222222222,\"#7201a8\"],[0.3333333333333333,\"#9c179e\"],[0.4444444444444444,\"#bd3786\"],[0.5555555555555556,\"#d8576b\"],[0.6666666666666666,\"#ed7953\"],[0.7777777777777778,\"#fb9f3a\"],[0.8888888888888888,\"#fdca26\"],[1.0,\"#f0f921\"]]}],\"surface\":[{\"type\":\"surface\",\"colorbar\":{\"outlinewidth\":0,\"ticks\":\"\"},\"colorscale\":[[0.0,\"#0d0887\"],[0.1111111111111111,\"#46039f\"],[0.2222222222222222,\"#7201a8\"],[0.3333333333333333,\"#9c179e\"],[0.4444444444444444,\"#bd3786\"],[0.5555555555555556,\"#d8576b\"],[0.6666666666666666,\"#ed7953\"],[0.7777777777777778,\"#fb9f3a\"],[0.8888888888888888,\"#fdca26\"],[1.0,\"#f0f921\"]]}],\"mesh3d\":[{\"type\":\"mesh3d\",\"colorbar\":{\"outlinewidth\":0,\"ticks\":\"\"}}],\"scatter\":[{\"fillpattern\":{\"fillmode\":\"overlay\",\"size\":10,\"solidity\":0.2},\"type\":\"scatter\"}],\"parcoords\":[{\"type\":\"parcoords\",\"line\":{\"colorbar\":{\"outlinewidth\":0,\"ticks\":\"\"}}}],\"scatterpolargl\":[{\"type\":\"scatterpolargl\",\"marker\":{\"colorbar\":{\"outlinewidth\":0,\"ticks\":\"\"}}}],\"bar\":[{\"error_x\":{\"color\":\"#2a3f5f\"},\"error_y\":{\"color\":\"#2a3f5f\"},\"marker\":{\"line\":{\"color\":\"#E5ECF6\",\"width\":0.5},\"pattern\":{\"fillmode\":\"overlay\",\"size\":10,\"solidity\":0.2}},\"type\":\"bar\"}],\"scattergeo\":[{\"type\":\"scattergeo\",\"marker\":{\"colorbar\":{\"outlinewidth\":0,\"ticks\":\"\"}}}],\"scatterpolar\":[{\"type\":\"scatterpolar\",\"marker\":{\"colorbar\":{\"outlinewidth\":0,\"ticks\":\"\"}}}],\"histogram\":[{\"marker\":{\"pattern\":{\"fillmode\":\"overlay\",\"size\":10,\"solidity\":0.2}},\"type\":\"histogram\"}],\"scattergl\":[{\"type\":\"scattergl\",\"marker\":{\"colorbar\":{\"outlinewidth\":0,\"ticks\":\"\"}}}],\"scatter3d\":[{\"type\":\"scatter3d\",\"line\":{\"colorbar\":{\"outlinewidth\":0,\"ticks\":\"\"}},\"marker\":{\"colorbar\":{\"outlinewidth\":0,\"ticks\":\"\"}}}],\"scattermapbox\":[{\"type\":\"scattermapbox\",\"marker\":{\"colorbar\":{\"outlinewidth\":0,\"ticks\":\"\"}}}],\"scatterternary\":[{\"type\":\"scatterternary\",\"marker\":{\"colorbar\":{\"outlinewidth\":0,\"ticks\":\"\"}}}],\"scattercarpet\":[{\"type\":\"scattercarpet\",\"marker\":{\"colorbar\":{\"outlinewidth\":0,\"ticks\":\"\"}}}],\"carpet\":[{\"aaxis\":{\"endlinecolor\":\"#2a3f5f\",\"gridcolor\":\"white\",\"linecolor\":\"white\",\"minorgridcolor\":\"white\",\"startlinecolor\":\"#2a3f5f\"},\"baxis\":{\"endlinecolor\":\"#2a3f5f\",\"gridcolor\":\"white\",\"linecolor\":\"white\",\"minorgridcolor\":\"white\",\"startlinecolor\":\"#2a3f5f\"},\"type\":\"carpet\"}],\"table\":[{\"cells\":{\"fill\":{\"color\":\"#EBF0F8\"},\"line\":{\"color\":\"white\"}},\"header\":{\"fill\":{\"color\":\"#C8D4E3\"},\"line\":{\"color\":\"white\"}},\"type\":\"table\"}],\"barpolar\":[{\"marker\":{\"line\":{\"color\":\"#E5ECF6\",\"width\":0.5},\"pattern\":{\"fillmode\":\"overlay\",\"size\":10,\"solidity\":0.2}},\"type\":\"barpolar\"}],\"pie\":[{\"automargin\":true,\"type\":\"pie\"}]},\"layout\":{\"autotypenumbers\":\"strict\",\"colorway\":[\"#636efa\",\"#EF553B\",\"#00cc96\",\"#ab63fa\",\"#FFA15A\",\"#19d3f3\",\"#FF6692\",\"#B6E880\",\"#FF97FF\",\"#FECB52\"],\"font\":{\"color\":\"#2a3f5f\"},\"hovermode\":\"closest\",\"hoverlabel\":{\"align\":\"left\"},\"paper_bgcolor\":\"white\",\"plot_bgcolor\":\"#E5ECF6\",\"polar\":{\"bgcolor\":\"#E5ECF6\",\"angularaxis\":{\"gridcolor\":\"white\",\"linecolor\":\"white\",\"ticks\":\"\"},\"radialaxis\":{\"gridcolor\":\"white\",\"linecolor\":\"white\",\"ticks\":\"\"}},\"ternary\":{\"bgcolor\":\"#E5ECF6\",\"aaxis\":{\"gridcolor\":\"white\",\"linecolor\":\"white\",\"ticks\":\"\"},\"baxis\":{\"gridcolor\":\"white\",\"linecolor\":\"white\",\"ticks\":\"\"},\"caxis\":{\"gridcolor\":\"white\",\"linecolor\":\"white\",\"ticks\":\"\"}},\"coloraxis\":{\"colorbar\":{\"outlinewidth\":0,\"ticks\":\"\"}},\"colorscale\":{\"sequential\":[[0.0,\"#0d0887\"],[0.1111111111111111,\"#46039f\"],[0.2222222222222222,\"#7201a8\"],[0.3333333333333333,\"#9c179e\"],[0.4444444444444444,\"#bd3786\"],[0.5555555555555556,\"#d8576b\"],[0.6666666666666666,\"#ed7953\"],[0.7777777777777778,\"#fb9f3a\"],[0.8888888888888888,\"#fdca26\"],[1.0,\"#f0f921\"]],\"sequentialminus\":[[0.0,\"#0d0887\"],[0.1111111111111111,\"#46039f\"],[0.2222222222222222,\"#7201a8\"],[0.3333333333333333,\"#9c179e\"],[0.4444444444444444,\"#bd3786\"],[0.5555555555555556,\"#d8576b\"],[0.6666666666666666,\"#ed7953\"],[0.7777777777777778,\"#fb9f3a\"],[0.8888888888888888,\"#fdca26\"],[1.0,\"#f0f921\"]],\"diverging\":[[0,\"#8e0152\"],[0.1,\"#c51b7d\"],[0.2,\"#de77ae\"],[0.3,\"#f1b6da\"],[0.4,\"#fde0ef\"],[0.5,\"#f7f7f7\"],[0.6,\"#e6f5d0\"],[0.7,\"#b8e186\"],[0.8,\"#7fbc41\"],[0.9,\"#4d9221\"],[1,\"#276419\"]]},\"xaxis\":{\"gridcolor\":\"white\",\"linecolor\":\"white\",\"ticks\":\"\",\"title\":{\"standoff\":15},\"zerolinecolor\":\"white\",\"automargin\":true,\"zerolinewidth\":2},\"yaxis\":{\"gridcolor\":\"white\",\"linecolor\":\"white\",\"ticks\":\"\",\"title\":{\"standoff\":15},\"zerolinecolor\":\"white\",\"automargin\":true,\"zerolinewidth\":2},\"scene\":{\"xaxis\":{\"backgroundcolor\":\"#E5ECF6\",\"gridcolor\":\"white\",\"linecolor\":\"white\",\"showbackground\":true,\"ticks\":\"\",\"zerolinecolor\":\"white\",\"gridwidth\":2},\"yaxis\":{\"backgroundcolor\":\"#E5ECF6\",\"gridcolor\":\"white\",\"linecolor\":\"white\",\"showbackground\":true,\"ticks\":\"\",\"zerolinecolor\":\"white\",\"gridwidth\":2},\"zaxis\":{\"backgroundcolor\":\"#E5ECF6\",\"gridcolor\":\"white\",\"linecolor\":\"white\",\"showbackground\":true,\"ticks\":\"\",\"zerolinecolor\":\"white\",\"gridwidth\":2}},\"shapedefaults\":{\"line\":{\"color\":\"#2a3f5f\"}},\"annotationdefaults\":{\"arrowcolor\":\"#2a3f5f\",\"arrowhead\":0,\"arrowwidth\":1},\"geo\":{\"bgcolor\":\"white\",\"landcolor\":\"#E5ECF6\",\"subunitcolor\":\"white\",\"showland\":true,\"showlakes\":true,\"lakecolor\":\"white\"},\"title\":{\"x\":0.05},\"mapbox\":{\"style\":\"light\"}}},\"xaxis\":{\"anchor\":\"y\",\"domain\":[0.0,1.0],\"title\":{\"text\":\"PC1 ~ 0.57%\"}},\"yaxis\":{\"anchor\":\"x\",\"domain\":[0.0,1.0],\"title\":{\"text\":\"PC2 ~ 0.23%\"}},\"legend\":{\"title\":{\"text\":\"color\"},\"tracegroupgap\":0},\"margin\":{\"t\":60},\"shapes\":[{\"line\":{\"color\":\"red\",\"width\":3},\"type\":\"line\",\"x0\":0,\"x1\":0.9701710337253193,\"y0\":0,\"y1\":0.08746052736786808},{\"line\":{\"color\":\"red\",\"width\":3},\"type\":\"line\",\"x0\":0,\"x1\":0.7594852268879452,\"y0\":0,\"y1\":0.09716207830736182},{\"line\":{\"color\":\"red\",\"width\":3},\"type\":\"line\",\"x0\":0,\"x1\":0.9193944471123754,\"y0\":0,\"y1\":0.04244825495547576},{\"line\":{\"color\":\"red\",\"width\":3},\"type\":\"line\",\"x0\":0,\"x1\":0.8863245865648315,\"y0\":0,\"y1\":0.05376037953767131},{\"line\":{\"color\":\"red\",\"width\":3},\"type\":\"line\",\"x0\":0,\"x1\":0.9247722738928363,\"y0\":0,\"y1\":0.12195836918556453},{\"line\":{\"color\":\"red\",\"width\":3},\"type\":\"line\",\"x0\":0,\"x1\":-0.26472795049821873,\"y0\":0,\"y1\":0.8693398328548062},{\"line\":{\"color\":\"red\",\"width\":3},\"type\":\"line\",\"x0\":0,\"x1\":-0.1415594783772665,\"y0\":0,\"y1\":0.9039722173221629}],\"annotations\":[{\"ax\":0,\"ay\":0,\"text\":\"total\",\"x\":0.9701710337253193,\"xanchor\":\"center\",\"y\":0.08746052736786808,\"yanchor\":\"bottom\"},{\"ax\":0,\"ay\":0,\"text\":\"speeding\",\"x\":0.7594852268879452,\"xanchor\":\"center\",\"y\":0.09716207830736182,\"yanchor\":\"bottom\"},{\"ax\":0,\"ay\":0,\"text\":\"alcohol\",\"x\":0.9193944471123754,\"xanchor\":\"center\",\"y\":0.04244825495547576,\"yanchor\":\"bottom\"},{\"ax\":0,\"ay\":0,\"text\":\"not_distracted\",\"x\":0.8863245865648315,\"xanchor\":\"center\",\"y\":0.05376037953767131,\"yanchor\":\"bottom\"},{\"ax\":0,\"ay\":0,\"text\":\"no_previous\",\"x\":0.9247722738928363,\"xanchor\":\"center\",\"y\":0.12195836918556453,\"yanchor\":\"bottom\"},{\"ax\":0,\"ay\":0,\"text\":\"ins_premium\",\"x\":-0.26472795049821873,\"xanchor\":\"center\",\"y\":0.8693398328548062,\"yanchor\":\"bottom\"},{\"ax\":0,\"ay\":0,\"text\":\"ins_losses\",\"x\":-0.1415594783772665,\"xanchor\":\"center\",\"y\":0.9039722173221629,\"yanchor\":\"bottom\"}]},                        {\"responsive\": true}                    ).then(function(){\n",
       "                            \n",
       "var gd = document.getElementById('bb9f1bc5-fb89-4dc6-9ae8-fc1fb76ad7ed');\n",
       "var x = new MutationObserver(function (mutations, observer) {{\n",
       "        var display = window.getComputedStyle(gd).display;\n",
       "        if (!display || display === 'none') {{\n",
       "            console.log([gd, 'removed!']);\n",
       "            Plotly.purge(gd);\n",
       "            observer.disconnect();\n",
       "        }}\n",
       "}});\n",
       "\n",
       "// Listen for the removal of the full notebook cells\n",
       "var notebookContainer = gd.closest('#notebook-container');\n",
       "if (notebookContainer) {{\n",
       "    x.observe(notebookContainer, {childList: true});\n",
       "}}\n",
       "\n",
       "// Listen for the clearing of the current output cell\n",
       "var outputEl = gd.closest('.output');\n",
       "if (outputEl) {{\n",
       "    x.observe(outputEl, {childList: true});\n",
       "}}\n",
       "\n",
       "                        })                };                });            </script>        </div>"
      ]
     },
     "metadata": {},
     "output_type": "display_data"
    }
   ],
   "source": [
    "import numpy as np\n",
    "\n",
    "loadings = pca.components_.T * np.sqrt(pca.explained_variance_)\n",
    "evr = pca.explained_variance_ratio_.round(2)\n",
    "\n",
    "fig = px.scatter(df_pca, x='PC1', y='PC2',\n",
    "                 color=model_kms.labels_.astype(str),\n",
    "                 hover_name=df_pca.index,\n",
    "                labels={\n",
    "                    'PC1': f'PC1 ~ {evr[0]}%',\n",
    "                    'PC2': f'PC2 ~ {evr[1]}%'\n",
    "                })\n",
    "\n",
    "for i, feature in enumerate(df_scaled.columns):\n",
    "    fig.add_shape(\n",
    "        type='line',\n",
    "        x0=0, y0=0,\n",
    "        x1=loadings[i, 0],\n",
    "        y1=loadings[i, 1],\n",
    "        line=dict(color=\"red\",width=3)\n",
    "    )\n",
    "    fig.add_annotation(\n",
    "        x=loadings[i, 0],\n",
    "        y=loadings[i, 1],\n",
    "        ax=0, ay=0,\n",
    "        xanchor=\"center\",\n",
    "        yanchor=\"bottom\",\n",
    "        text=feature,\n",
    "    )\n",
    "\n",
    "fig.show()"
   ]
  },
  {
   "cell_type": "markdown",
   "metadata": {},
   "source": [
    "## Conclusion"
   ]
  },
  {
   "cell_type": "markdown",
   "metadata": {},
   "source": [
    "Dimensionality Reduction techniques have many more applications, but hopefully you got the essence: they are great for grouping variables that behave similarly and later visualising many variables in just one component. In short, you are simplifying the information of the data. In this example, we simplify the data from plotting seven to only two dimensions. Although we don't get this for free because we explain around 80% of the data's original variability."
   ]
  },
  {
   "cell_type": "markdown",
   "metadata": {},
   "source": [
    "<a rel=\"license\" href=\"http://creativecommons.org/licenses/by-nc-nd/4.0/\"><img alt=\"Creative Commons License\" style=\"border-width:0\" src=\"https://i.creativecommons.org/l/by-nc-nd/4.0/88x31.png\" /></a><br />This work is licensed under a <a rel=\"license\" href=\"http://creativecommons.org/licenses/by-nc-nd/4.0/\">Creative Commons Attribution-NonCommercial-NoDerivatives 4.0 International License</a>."
   ]
  }
 ],
 "metadata": {
  "authors": [
   {
    "blog": "https//blog.pythonresolver.com",
    "name": "Jesús López",
    "twitter": "https://twitter.com/jsulopz"
   }
  ],
  "kernelspec": {
   "display_name": "Python 3 (ipykernel)",
   "language": "python",
   "name": "python3"
  },
  "language_info": {
   "codemirror_mode": {
    "name": "ipython",
    "version": 3
   },
   "file_extension": ".py",
   "mimetype": "text/x-python",
   "name": "python",
   "nbconvert_exporter": "python",
   "pygments_lexer": "ipython3",
   "version": "3.9.12"
  },
  "title": "Principal Component Analysis (PCA)",
  "toc-autonumbering": true
 },
 "nbformat": 4,
 "nbformat_minor": 4
}
